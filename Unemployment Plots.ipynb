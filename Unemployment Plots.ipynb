{
 "cells": [
  {
   "cell_type": "code",
   "execution_count": 7,
   "metadata": {},
   "outputs": [],
   "source": [
    "# Dependencies and Setup\n",
    "import matplotlib.pyplot as plt\n",
    "import pandas as pd\n",
    "import scipy.stats as st\n",
    "import numpy as np\n",
    "from scipy.stats import linregress"
   ]
  },
  {
   "cell_type": "code",
   "execution_count": 8,
   "metadata": {
    "scrolled": true
   },
   "outputs": [
    {
     "data": {
      "text/html": [
       "<div>\n",
       "<style scoped>\n",
       "    .dataframe tbody tr th:only-of-type {\n",
       "        vertical-align: middle;\n",
       "    }\n",
       "\n",
       "    .dataframe tbody tr th {\n",
       "        vertical-align: top;\n",
       "    }\n",
       "\n",
       "    .dataframe thead th {\n",
       "        text-align: right;\n",
       "    }\n",
       "</style>\n",
       "<table border=\"1\" class=\"dataframe\">\n",
       "  <thead>\n",
       "    <tr style=\"text-align: right;\">\n",
       "      <th></th>\n",
       "      <th>Unnamed: 0</th>\n",
       "      <th>State</th>\n",
       "      <th>State Abbr</th>\n",
       "      <th>County</th>\n",
       "      <th>DEM Votes</th>\n",
       "      <th>GOP Votes</th>\n",
       "      <th>Total Votes</th>\n",
       "      <th>DEM %</th>\n",
       "      <th>GOP %</th>\n",
       "      <th>Total Population</th>\n",
       "      <th>...</th>\n",
       "      <th>Education (Bachelors)</th>\n",
       "      <th>Education (Masters)</th>\n",
       "      <th>Education (Professional)</th>\n",
       "      <th>Education (Doctorate)</th>\n",
       "      <th>Median Income</th>\n",
       "      <th>Income Per Capita</th>\n",
       "      <th>Median Home Value</th>\n",
       "      <th>Pop in Labor Force</th>\n",
       "      <th>Pop Not in Labor Force</th>\n",
       "      <th>Unemployed</th>\n",
       "    </tr>\n",
       "  </thead>\n",
       "  <tbody>\n",
       "    <tr>\n",
       "      <td>0</td>\n",
       "      <td>0</td>\n",
       "      <td>Indiana</td>\n",
       "      <td>IN</td>\n",
       "      <td>Adams County</td>\n",
       "      <td>2802</td>\n",
       "      <td>9642</td>\n",
       "      <td>13039</td>\n",
       "      <td>0.214894</td>\n",
       "      <td>0.739474</td>\n",
       "      <td>34813.0</td>\n",
       "      <td>...</td>\n",
       "      <td>2311.0</td>\n",
       "      <td>768.0</td>\n",
       "      <td>126.0</td>\n",
       "      <td>64.0</td>\n",
       "      <td>47572.0</td>\n",
       "      <td>21173.0</td>\n",
       "      <td>114600.0</td>\n",
       "      <td>15975.0</td>\n",
       "      <td>8948.0</td>\n",
       "      <td>872.0</td>\n",
       "    </tr>\n",
       "    <tr>\n",
       "      <td>1</td>\n",
       "      <td>1</td>\n",
       "      <td>Indiana</td>\n",
       "      <td>IN</td>\n",
       "      <td>Allen County</td>\n",
       "      <td>55222</td>\n",
       "      <td>83801</td>\n",
       "      <td>145787</td>\n",
       "      <td>0.378785</td>\n",
       "      <td>0.574818</td>\n",
       "      <td>365565.0</td>\n",
       "      <td>...</td>\n",
       "      <td>42160.0</td>\n",
       "      <td>16367.0</td>\n",
       "      <td>4152.0</td>\n",
       "      <td>1694.0</td>\n",
       "      <td>49574.0</td>\n",
       "      <td>26058.0</td>\n",
       "      <td>116400.0</td>\n",
       "      <td>186706.0</td>\n",
       "      <td>93216.0</td>\n",
       "      <td>13152.0</td>\n",
       "    </tr>\n",
       "    <tr>\n",
       "      <td>2</td>\n",
       "      <td>2</td>\n",
       "      <td>Indiana</td>\n",
       "      <td>IN</td>\n",
       "      <td>Bartholomew County</td>\n",
       "      <td>9841</td>\n",
       "      <td>20637</td>\n",
       "      <td>32389</td>\n",
       "      <td>0.303838</td>\n",
       "      <td>0.637161</td>\n",
       "      <td>80203.0</td>\n",
       "      <td>...</td>\n",
       "      <td>9685.0</td>\n",
       "      <td>5255.0</td>\n",
       "      <td>499.0</td>\n",
       "      <td>632.0</td>\n",
       "      <td>55874.0</td>\n",
       "      <td>28631.0</td>\n",
       "      <td>137500.0</td>\n",
       "      <td>41710.0</td>\n",
       "      <td>21169.0</td>\n",
       "      <td>2165.0</td>\n",
       "    </tr>\n",
       "    <tr>\n",
       "      <td>3</td>\n",
       "      <td>3</td>\n",
       "      <td>Indiana</td>\n",
       "      <td>IN</td>\n",
       "      <td>Benton County</td>\n",
       "      <td>860</td>\n",
       "      <td>2579</td>\n",
       "      <td>3654</td>\n",
       "      <td>0.235359</td>\n",
       "      <td>0.705802</td>\n",
       "      <td>8709.0</td>\n",
       "      <td>...</td>\n",
       "      <td>753.0</td>\n",
       "      <td>188.0</td>\n",
       "      <td>42.0</td>\n",
       "      <td>12.0</td>\n",
       "      <td>48069.0</td>\n",
       "      <td>23181.0</td>\n",
       "      <td>81500.0</td>\n",
       "      <td>4368.0</td>\n",
       "      <td>2364.0</td>\n",
       "      <td>201.0</td>\n",
       "    </tr>\n",
       "    <tr>\n",
       "      <td>4</td>\n",
       "      <td>4</td>\n",
       "      <td>Indiana</td>\n",
       "      <td>IN</td>\n",
       "      <td>Blackford County</td>\n",
       "      <td>1243</td>\n",
       "      <td>3349</td>\n",
       "      <td>4822</td>\n",
       "      <td>0.257777</td>\n",
       "      <td>0.694525</td>\n",
       "      <td>12364.0</td>\n",
       "      <td>...</td>\n",
       "      <td>546.0</td>\n",
       "      <td>315.0</td>\n",
       "      <td>51.0</td>\n",
       "      <td>42.0</td>\n",
       "      <td>38791.0</td>\n",
       "      <td>21980.0</td>\n",
       "      <td>67100.0</td>\n",
       "      <td>5763.0</td>\n",
       "      <td>4263.0</td>\n",
       "      <td>480.0</td>\n",
       "    </tr>\n",
       "  </tbody>\n",
       "</table>\n",
       "<p>5 rows × 31 columns</p>\n",
       "</div>"
      ],
      "text/plain": [
       "   Unnamed: 0    State State Abbr              County  DEM Votes  GOP Votes  \\\n",
       "0           0  Indiana         IN        Adams County       2802       9642   \n",
       "1           1  Indiana         IN        Allen County      55222      83801   \n",
       "2           2  Indiana         IN  Bartholomew County       9841      20637   \n",
       "3           3  Indiana         IN       Benton County        860       2579   \n",
       "4           4  Indiana         IN    Blackford County       1243       3349   \n",
       "\n",
       "   Total Votes     DEM %     GOP %  Total Population  ...  \\\n",
       "0        13039  0.214894  0.739474           34813.0  ...   \n",
       "1       145787  0.378785  0.574818          365565.0  ...   \n",
       "2        32389  0.303838  0.637161           80203.0  ...   \n",
       "3         3654  0.235359  0.705802            8709.0  ...   \n",
       "4         4822  0.257777  0.694525           12364.0  ...   \n",
       "\n",
       "   Education (Bachelors)  Education (Masters)  Education (Professional)  \\\n",
       "0                 2311.0                768.0                     126.0   \n",
       "1                42160.0              16367.0                    4152.0   \n",
       "2                 9685.0               5255.0                     499.0   \n",
       "3                  753.0                188.0                      42.0   \n",
       "4                  546.0                315.0                      51.0   \n",
       "\n",
       "   Education (Doctorate)  Median Income  Income Per Capita  Median Home Value  \\\n",
       "0                   64.0        47572.0            21173.0           114600.0   \n",
       "1                 1694.0        49574.0            26058.0           116400.0   \n",
       "2                  632.0        55874.0            28631.0           137500.0   \n",
       "3                   12.0        48069.0            23181.0            81500.0   \n",
       "4                   42.0        38791.0            21980.0            67100.0   \n",
       "\n",
       "   Pop in Labor Force  Pop Not in Labor Force  Unemployed  \n",
       "0             15975.0                  8948.0       872.0  \n",
       "1            186706.0                 93216.0     13152.0  \n",
       "2             41710.0                 21169.0      2165.0  \n",
       "3              4368.0                  2364.0       201.0  \n",
       "4              5763.0                  4263.0       480.0  \n",
       "\n",
       "[5 rows x 31 columns]"
      ]
     },
     "execution_count": 8,
     "metadata": {},
     "output_type": "execute_result"
    }
   ],
   "source": [
    "csvpath='merged_file.csv'\n",
    "election=pd.read_csv(csvpath)\n",
    "election.head()"
   ]
  },
  {
   "cell_type": "code",
   "execution_count": 9,
   "metadata": {},
   "outputs": [],
   "source": [
    "election[\"GOP %\"]=election[\"GOP %\"]*100"
   ]
  },
  {
   "cell_type": "code",
   "execution_count": 10,
   "metadata": {},
   "outputs": [],
   "source": [
    "a=0\n",
    "b=0\n",
    "def LinearRegression(x,y):\n",
    "    # Calculate the correlation coefficient and linear regression model for mouse weight and average tumor volume for the Capomulin regimen\n",
    "    #Calculate the linear regression values to be plotted against weight\n",
    "    (slope, intercept, rvalue, pvalue, stderr) = linregress(x, y)\n",
    "    regress_values = x * slope + intercept\n",
    "    line_eq = \"y = \" + str(round(slope,2)) + \"x + \" + str(round(intercept,2))\n",
    "    \n",
    "    #plot the regression values to form the regression line\n",
    "    plt.plot(x,regress_values,\"r-\")\n",
    "    plt.annotate(line_eq,(a,b),fontsize=15,color=\"red\");\n",
    "    \n",
    "    print(f\"The r-squared is: {rvalue}\")\n",
    "    print(line_eq)"
   ]
  },
  {
   "cell_type": "code",
   "execution_count": 11,
   "metadata": {},
   "outputs": [],
   "source": [
    "a=election[\"Total Population\"].astype(float)\n",
    "z=a.tolist()\n",
    "pop_reduced=[]\n",
    "for item in z:\n",
    "    b=item/500\n",
    "    pop_reduced.append(b)"
   ]
  },
  {
   "cell_type": "code",
   "execution_count": 12,
   "metadata": {
    "scrolled": true
   },
   "outputs": [
    {
     "name": "stdout",
     "output_type": "stream",
     "text": [
      "The r-squared is: -0.6858586589534691\n",
      "y = -0.0x + 70.48\n"
     ]
    },
    {
     "data": {
      "image/png": "[encoded data removed]",
      "text/plain": [
       "<Figure size 432x288 with 1 Axes>"
      ]
     },
     "metadata": {
      "needs_background": "light"
     },
     "output_type": "display_data"
    }
   ],
   "source": [
    "#create a scatterplot for unemployment vs %Republican vote\n",
    "plt.scatter(election[\"Unemployed\"],election[\"GOP %\"],s=pop_reduced*10000, alpha=0.5);\n",
    "plt.xlabel(\"Number Unemployed\",weight=\"bold\");\n",
    "plt.ylabel(\"Percentage of GOP Vote\",weight=\"bold\");\n",
    "plt.title(\"Number Unemployed vs Percent GOP Vote\",weight=\"bold\");\n",
    "\n",
    "a=20000\n",
    "b=70\n",
    "LinearRegression(election[\"Unemployed\"],election[\"GOP %\"])"
   ]
  },
  {
   "cell_type": "code",
   "execution_count": 13,
   "metadata": {},
   "outputs": [],
   "source": [
    "unemployment=pd.DataFrame({\"County\":election[\"County\"],\"Total Population\":election[\"Total Population\"],\n",
    "                           \"Unemployed\":election[\"Unemployed\"],\"GOP %\":election[\"GOP %\"]})"
   ]
  },
  {
   "cell_type": "code",
   "execution_count": 14,
   "metadata": {},
   "outputs": [],
   "source": [
    "unemployment[\"% Unemployment\"]=(election[\"Unemployed\"]/(election[\"Pop in Labor Force\"]+election[\"Unemployed\"]))*100"
   ]
  },
  {
   "cell_type": "code",
   "execution_count": 15,
   "metadata": {},
   "outputs": [
    {
     "data": {
      "text/html": [
       "<div>\n",
       "<style scoped>\n",
       "    .dataframe tbody tr th:only-of-type {\n",
       "        vertical-align: middle;\n",
       "    }\n",
       "\n",
       "    .dataframe tbody tr th {\n",
       "        vertical-align: top;\n",
       "    }\n",
       "\n",
       "    .dataframe thead th {\n",
       "        text-align: right;\n",
       "    }\n",
       "</style>\n",
       "<table border=\"1\" class=\"dataframe\">\n",
       "  <thead>\n",
       "    <tr style=\"text-align: right;\">\n",
       "      <th></th>\n",
       "      <th>County</th>\n",
       "      <th>Total Population</th>\n",
       "      <th>Unemployed</th>\n",
       "      <th>GOP %</th>\n",
       "      <th>% Unemployment</th>\n",
       "    </tr>\n",
       "  </thead>\n",
       "  <tbody>\n",
       "    <tr>\n",
       "      <td>0</td>\n",
       "      <td>Adams County</td>\n",
       "      <td>34813.0</td>\n",
       "      <td>872.0</td>\n",
       "      <td>73.947389</td>\n",
       "      <td>5.175996</td>\n",
       "    </tr>\n",
       "    <tr>\n",
       "      <td>1</td>\n",
       "      <td>Allen County</td>\n",
       "      <td>365565.0</td>\n",
       "      <td>13152.0</td>\n",
       "      <td>57.481806</td>\n",
       "      <td>6.580672</td>\n",
       "    </tr>\n",
       "    <tr>\n",
       "      <td>2</td>\n",
       "      <td>Bartholomew County</td>\n",
       "      <td>80203.0</td>\n",
       "      <td>2165.0</td>\n",
       "      <td>63.716076</td>\n",
       "      <td>4.934473</td>\n",
       "    </tr>\n",
       "    <tr>\n",
       "      <td>3</td>\n",
       "      <td>Benton County</td>\n",
       "      <td>8709.0</td>\n",
       "      <td>201.0</td>\n",
       "      <td>70.580186</td>\n",
       "      <td>4.399212</td>\n",
       "    </tr>\n",
       "    <tr>\n",
       "      <td>4</td>\n",
       "      <td>Blackford County</td>\n",
       "      <td>12364.0</td>\n",
       "      <td>480.0</td>\n",
       "      <td>69.452509</td>\n",
       "      <td>7.688611</td>\n",
       "    </tr>\n",
       "  </tbody>\n",
       "</table>\n",
       "</div>"
      ],
      "text/plain": [
       "               County  Total Population  Unemployed      GOP %  % Unemployment\n",
       "0        Adams County           34813.0       872.0  73.947389        5.175996\n",
       "1        Allen County          365565.0     13152.0  57.481806        6.580672\n",
       "2  Bartholomew County           80203.0      2165.0  63.716076        4.934473\n",
       "3       Benton County            8709.0       201.0  70.580186        4.399212\n",
       "4    Blackford County           12364.0       480.0  69.452509        7.688611"
      ]
     },
     "execution_count": 15,
     "metadata": {},
     "output_type": "execute_result"
    }
   ],
   "source": [
    "unemployment.head()"
   ]
  },
  {
   "cell_type": "code",
   "execution_count": 16,
   "metadata": {
    "scrolled": true
   },
   "outputs": [
    {
     "name": "stdout",
     "output_type": "stream",
     "text": [
      "The r-squared is: -0.2719785036326958\n",
      "y = -1.9x + 78.86\n"
     ]
    },
    {
     "data": {
      "image/png": "[encoded data removed]",
      "text/plain": [
       "<Figure size 432x288 with 1 Axes>"
      ]
     },
     "metadata": {
      "needs_background": "light"
     },
     "output_type": "display_data"
    },
    {
     "data": {
      "text/plain": [
       "<Figure size 1440x2880 with 0 Axes>"
      ]
     },
     "metadata": {},
     "output_type": "display_data"
    }
   ],
   "source": [
    "#create a scatterplot for unemployment vs %Republican vote\n",
    "plt.scatter(unemployment[\"% Unemployment\"],unemployment[\"GOP %\"],marker=\"o\");\n",
    "plt.xlabel(\"Percentage Unemployed\",weight=\"bold\");\n",
    "plt.ylabel(\"Percentage of GOP Vote\",weight=\"bold\");\n",
    "plt.title(\"% Unemployed vs Percent GOP Vote: 2016 Election\",weight=\"bold\");\n",
    "\n",
    "a=40\n",
    "b=0.5\n",
    "LinearRegression(unemployment[\"% Unemployment\"],unemployment[\"GOP %\"])\n",
    "\n",
    "plt.figure(figsize=(20,40));\n"
   ]
  },
  {
   "cell_type": "code",
   "execution_count": 17,
   "metadata": {
    "scrolled": true
   },
   "outputs": [
    {
     "name": "stdout",
     "output_type": "stream",
     "text": [
      "The r-squared is: -0.2719785036326958\n",
      "y = -1.9x + 78.86\n"
     ]
    },
    {
     "data": {
      "image/png": "[encoded data removed]",
      "text/plain": [
       "<Figure size 432x288 with 1 Axes>"
      ]
     },
     "metadata": {
      "needs_background": "light"
     },
     "output_type": "display_data"
    }
   ],
   "source": [
    "#create a scatterplot for unemployment vs %Republican vote\n",
    "plt.scatter(unemployment[\"% Unemployment\"],unemployment[\"GOP %\"],s=pop_reduced*10000, alpha=0.5);\n",
    "plt.xlabel(\"Percent Unemployed\",weight=\"bold\");\n",
    "plt.ylabel(\"Percentage of GOP Vote\",weight=\"bold\");\n",
    "#plt.title(\"Percent Unemployment vs Percent GOP Vote\",weight=\"bold\");\n",
    "plt.ylim(20,85)\n",
    "a=3\n",
    "b=40\n",
    "LinearRegression(unemployment[\"% Unemployment\"],unemployment[\"GOP %\"])\n",
    "plt.annotate(f\"R-squared = -0.272\",(3,33),fontsize=15,color='red');\n",
    "plt.savefig('unemployment.png')"
   ]
  },
  {
   "cell_type": "code",
   "execution_count": null,
   "metadata": {},
   "outputs": [],
   "source": []
  },
  {
   "cell_type": "code",
   "execution_count": 18,
   "metadata": {
    "scrolled": true
   },
   "outputs": [
    {
     "name": "stdout",
     "output_type": "stream",
     "text": [
      "The r-squared is: 0.256101423289009\n",
      "y = 23951.16x + -69863.17\n"
     ]
    },
    {
     "data": {
      "image/png": "[encoded data removed]",
      "text/plain": [
       "<Figure size 432x288 with 1 Axes>"
      ]
     },
     "metadata": {
      "needs_background": "light"
     },
     "output_type": "display_data"
    }
   ],
   "source": [
    "plt.scatter(unemployment[\"% Unemployment\"],unemployment[\"Total Population\"]);#,s=pop_reduced*10000, alpha=0.5);\n",
    "a=1.5\n",
    "b=600000\n",
    "LinearRegression(unemployment[\"% Unemployment\"],unemployment[\"Total Population\"])\n",
    "plt.annotate(f\"R-squared = 0.357\",(1.5,500000),fontsize=15,color='red');"
   ]
  },
  {
   "cell_type": "code",
   "execution_count": 19,
   "metadata": {},
   "outputs": [
    {
     "name": "stdout",
     "output_type": "stream",
     "text": [
      "46\n"
     ]
    }
   ],
   "source": [
    "urban_counties=[\"LaPorte County\",\"Lake County\",\"Porter County\",\"St. Joseph County\",\"Elkhart County\",\"Newton County\",\n",
    "               \"Jasper County\",\"Benton County\",\"Whitley County\",\"Allen County\",\"Wells County\",\"Tippecanoe County\",\n",
    "               \"Carroll County\",\"Howard County\",\"Tipton County\",\"Madison County\",\"Delaware County\",\n",
    "               \"Hamilton County\",\"Boone County\",\"Putnam County\",\"Hendricks County\",\"Marion County\",\n",
    "               \"Hancock County\",\"Vermillion County\",\"Vigo County\",\"Clay County\",\"Owen County\",\"Morgan County\",\n",
    "               \"Johnson County\", \"Shelby County\",\"Sullivan County\",\"Greene County\",\"Monroe County\",\n",
    "               \"Brown County\",\"Bartholomew County\",\"Franklin County\",\"Dearborn County\",\"Ohio County\",\n",
    "               \"Clark County\",\"Washington County\",\"Floyd County\",\"Harrison County\",\"Warrick County\",\n",
    "               \"Gibson County\",\"Vanderburgh County\",\"Posey County\"]\n",
    "print(len(urban_counties))"
   ]
  },
  {
   "cell_type": "code",
   "execution_count": null,
   "metadata": {},
   "outputs": [],
   "source": []
  },
  {
   "cell_type": "markdown",
   "metadata": {},
   "source": [
    "https://www.ers.usda.gov/webdocs/DataFiles/53180/25569_IN.pdf?v=0"
   ]
  },
  {
   "cell_type": "code",
   "execution_count": null,
   "metadata": {},
   "outputs": [],
   "source": []
  },
  {
   "cell_type": "code",
   "execution_count": null,
   "metadata": {},
   "outputs": [],
   "source": []
  },
  {
   "cell_type": "code",
   "execution_count": 20,
   "metadata": {},
   "outputs": [],
   "source": [
    "urban=pd.DataFrame()\n",
    "unemployed=[]\n",
    "\n",
    "for county in urban_counties:\n",
    "    info_row=election.loc[election[\"County\"]==county]\n",
    "    #print(info_row)\n",
    "    "
   ]
  },
  {
   "cell_type": "code",
   "execution_count": 21,
   "metadata": {},
   "outputs": [],
   "source": [
    "urban=election.loc[(election[\"County\"]==\"LaPorte County\")|(election[\"County\"]==\"Lake County\")|\n",
    "                     (election[\"County\"]==\"Porter County\")|(election[\"County\"]==\"St. Joseph County\")|\n",
    "                     (election[\"County\"]==\"Elkhart County\")|(election[\"County\"]==\"Newton County\")|\n",
    "                     (election[\"County\"]==\"Jasper County\")|(election[\"County\"]==\"Benton County\")|\n",
    "                     (election[\"County\"]==\"Whitely County\")|(election[\"County\"]==\"Allen County\")|\n",
    "                     (election[\"County\"]==\"Wells County\")|(election[\"County\"]==\"Tippecanoe County\")|\n",
    "                     (election[\"County\"]==\"Carroll County\")|(election[\"County\"]==\"Howard County\")|\n",
    "                     (election[\"County\"]==\"Tipton County\")|(election[\"County\"]==\"Madison County\")|\n",
    "                     (election[\"County\"]==\"Delaware County\")|(election[\"County\"]==\"Hamilton County\")|\n",
    "                     (election[\"County\"]==\"Boone County\")|(election[\"County\"]==\"Putnam County\")|\n",
    "                     (election[\"County\"]==\"Hendricks County\")|(election[\"County\"]==\"Marion County\")|\n",
    "                     (election[\"County\"]==\"Hancock County\")|(election[\"County\"]==\"Vermillion County\")|\n",
    "                     (election[\"County\"]==\"Vigo County\")|(election[\"County\"]==\"Clay County\")|\n",
    "                     (election[\"County\"]==\"Owen County\")|(election[\"County\"]==\"Morgan County\")|\n",
    "                     (election[\"County\"]==\"Johnson County\")|(election[\"County\"]==\"Shelby County\")|\n",
    "                     (election[\"County\"]==\"Sullivan County\")|(election[\"County\"]==\"Greene County\")|\n",
    "                     (election[\"County\"]==\"Monroe County\")|(election[\"County\"]==\"Brown County\")|\n",
    "                     (election[\"County\"]==\"Bartholomew County\")|(election[\"County\"]==\"Franklin County\")|\n",
    "                     (election[\"County\"]==\"Dearborn County\")|(election[\"County\"]==\"Ohio County\")|\n",
    "                     (election[\"County\"]==\"Clark County\")|(election[\"County\"]==\"Washington County\")|\n",
    "                     (election[\"County\"]==\"Floyd County\")|(election[\"County\"]==\"Harrison County\")|\n",
    "                     (election[\"County\"]==\"Warrick County\")|(election[\"County\"]==\"Gibson County\")|\n",
    "                     (election[\"County\"]==\"Vanderburgh County\")|(election[\"County\"]==\"Posey County\")]\n"
   ]
  },
  {
   "cell_type": "code",
   "execution_count": 22,
   "metadata": {},
   "outputs": [
    {
     "name": "stderr",
     "output_type": "stream",
     "text": [
      "C:\\Users\\Michael\\Anaconda3\\lib\\site-packages\\ipykernel_launcher.py:2: SettingWithCopyWarning: \n",
      "A value is trying to be set on a copy of a slice from a DataFrame.\n",
      "Try using .loc[row_indexer,col_indexer] = value instead\n",
      "\n",
      "See the caveats in the documentation: http://pandas.pydata.org/pandas-docs/stable/user_guide/indexing.html#returning-a-view-versus-a-copy\n",
      "  \n"
     ]
    }
   ],
   "source": [
    "urban.head()\n",
    "urban[\"% Unemployment\"]=(urban[\"Unemployed\"]/(urban[\"Pop in Labor Force\"]+urban[\"Unemployed\"]))*100"
   ]
  },
  {
   "cell_type": "code",
   "execution_count": 23,
   "metadata": {},
   "outputs": [
    {
     "data": {
      "text/html": [
       "<div>\n",
       "<style scoped>\n",
       "    .dataframe tbody tr th:only-of-type {\n",
       "        vertical-align: middle;\n",
       "    }\n",
       "\n",
       "    .dataframe tbody tr th {\n",
       "        vertical-align: top;\n",
       "    }\n",
       "\n",
       "    .dataframe thead th {\n",
       "        text-align: right;\n",
       "    }\n",
       "</style>\n",
       "<table border=\"1\" class=\"dataframe\">\n",
       "  <thead>\n",
       "    <tr style=\"text-align: right;\">\n",
       "      <th></th>\n",
       "      <th>Unnamed: 0</th>\n",
       "      <th>State</th>\n",
       "      <th>State Abbr</th>\n",
       "      <th>County</th>\n",
       "      <th>DEM Votes</th>\n",
       "      <th>GOP Votes</th>\n",
       "      <th>Total Votes</th>\n",
       "      <th>DEM %</th>\n",
       "      <th>GOP %</th>\n",
       "      <th>Total Population</th>\n",
       "      <th>...</th>\n",
       "      <th>Education (Masters)</th>\n",
       "      <th>Education (Professional)</th>\n",
       "      <th>Education (Doctorate)</th>\n",
       "      <th>Median Income</th>\n",
       "      <th>Income Per Capita</th>\n",
       "      <th>Median Home Value</th>\n",
       "      <th>Pop in Labor Force</th>\n",
       "      <th>Pop Not in Labor Force</th>\n",
       "      <th>Unemployed</th>\n",
       "      <th>% Unemployment</th>\n",
       "    </tr>\n",
       "  </thead>\n",
       "  <tbody>\n",
       "    <tr>\n",
       "      <td>1</td>\n",
       "      <td>1</td>\n",
       "      <td>Indiana</td>\n",
       "      <td>IN</td>\n",
       "      <td>Allen County</td>\n",
       "      <td>55222</td>\n",
       "      <td>83801</td>\n",
       "      <td>145787</td>\n",
       "      <td>0.378785</td>\n",
       "      <td>57.481806</td>\n",
       "      <td>365565.0</td>\n",
       "      <td>...</td>\n",
       "      <td>16367.0</td>\n",
       "      <td>4152.0</td>\n",
       "      <td>1694.0</td>\n",
       "      <td>49574.0</td>\n",
       "      <td>26058.0</td>\n",
       "      <td>116400.0</td>\n",
       "      <td>186706.0</td>\n",
       "      <td>93216.0</td>\n",
       "      <td>13152.0</td>\n",
       "      <td>6.580672</td>\n",
       "    </tr>\n",
       "    <tr>\n",
       "      <td>2</td>\n",
       "      <td>2</td>\n",
       "      <td>Indiana</td>\n",
       "      <td>IN</td>\n",
       "      <td>Bartholomew County</td>\n",
       "      <td>9841</td>\n",
       "      <td>20637</td>\n",
       "      <td>32389</td>\n",
       "      <td>0.303838</td>\n",
       "      <td>63.716076</td>\n",
       "      <td>80203.0</td>\n",
       "      <td>...</td>\n",
       "      <td>5255.0</td>\n",
       "      <td>499.0</td>\n",
       "      <td>632.0</td>\n",
       "      <td>55874.0</td>\n",
       "      <td>28631.0</td>\n",
       "      <td>137500.0</td>\n",
       "      <td>41710.0</td>\n",
       "      <td>21169.0</td>\n",
       "      <td>2165.0</td>\n",
       "      <td>4.934473</td>\n",
       "    </tr>\n",
       "    <tr>\n",
       "      <td>3</td>\n",
       "      <td>3</td>\n",
       "      <td>Indiana</td>\n",
       "      <td>IN</td>\n",
       "      <td>Benton County</td>\n",
       "      <td>860</td>\n",
       "      <td>2579</td>\n",
       "      <td>3654</td>\n",
       "      <td>0.235359</td>\n",
       "      <td>70.580186</td>\n",
       "      <td>8709.0</td>\n",
       "      <td>...</td>\n",
       "      <td>188.0</td>\n",
       "      <td>42.0</td>\n",
       "      <td>12.0</td>\n",
       "      <td>48069.0</td>\n",
       "      <td>23181.0</td>\n",
       "      <td>81500.0</td>\n",
       "      <td>4368.0</td>\n",
       "      <td>2364.0</td>\n",
       "      <td>201.0</td>\n",
       "      <td>4.399212</td>\n",
       "    </tr>\n",
       "    <tr>\n",
       "      <td>5</td>\n",
       "      <td>5</td>\n",
       "      <td>Indiana</td>\n",
       "      <td>IN</td>\n",
       "      <td>Boone County</td>\n",
       "      <td>10181</td>\n",
       "      <td>19654</td>\n",
       "      <td>32061</td>\n",
       "      <td>0.317551</td>\n",
       "      <td>61.301893</td>\n",
       "      <td>61884.0</td>\n",
       "      <td>...</td>\n",
       "      <td>4608.0</td>\n",
       "      <td>1828.0</td>\n",
       "      <td>1084.0</td>\n",
       "      <td>72774.0</td>\n",
       "      <td>40487.0</td>\n",
       "      <td>195900.0</td>\n",
       "      <td>32688.0</td>\n",
       "      <td>14337.0</td>\n",
       "      <td>1074.0</td>\n",
       "      <td>3.181091</td>\n",
       "    </tr>\n",
       "    <tr>\n",
       "      <td>6</td>\n",
       "      <td>6</td>\n",
       "      <td>Indiana</td>\n",
       "      <td>IN</td>\n",
       "      <td>Brown County</td>\n",
       "      <td>2518</td>\n",
       "      <td>5015</td>\n",
       "      <td>7908</td>\n",
       "      <td>0.318412</td>\n",
       "      <td>63.416793</td>\n",
       "      <td>14965.0</td>\n",
       "      <td>...</td>\n",
       "      <td>1076.0</td>\n",
       "      <td>169.0</td>\n",
       "      <td>105.0</td>\n",
       "      <td>56323.0</td>\n",
       "      <td>30279.0</td>\n",
       "      <td>171600.0</td>\n",
       "      <td>7330.0</td>\n",
       "      <td>5053.0</td>\n",
       "      <td>412.0</td>\n",
       "      <td>5.321622</td>\n",
       "    </tr>\n",
       "  </tbody>\n",
       "</table>\n",
       "<p>5 rows × 32 columns</p>\n",
       "</div>"
      ],
      "text/plain": [
       "   Unnamed: 0    State State Abbr              County  DEM Votes  GOP Votes  \\\n",
       "1           1  Indiana         IN        Allen County      55222      83801   \n",
       "2           2  Indiana         IN  Bartholomew County       9841      20637   \n",
       "3           3  Indiana         IN       Benton County        860       2579   \n",
       "5           5  Indiana         IN        Boone County      10181      19654   \n",
       "6           6  Indiana         IN        Brown County       2518       5015   \n",
       "\n",
       "   Total Votes     DEM %      GOP %  Total Population  ...  \\\n",
       "1       145787  0.378785  57.481806          365565.0  ...   \n",
       "2        32389  0.303838  63.716076           80203.0  ...   \n",
       "3         3654  0.235359  70.580186            8709.0  ...   \n",
       "5        32061  0.317551  61.301893           61884.0  ...   \n",
       "6         7908  0.318412  63.416793           14965.0  ...   \n",
       "\n",
       "   Education (Masters)  Education (Professional)  Education (Doctorate)  \\\n",
       "1              16367.0                    4152.0                 1694.0   \n",
       "2               5255.0                     499.0                  632.0   \n",
       "3                188.0                      42.0                   12.0   \n",
       "5               4608.0                    1828.0                 1084.0   \n",
       "6               1076.0                     169.0                  105.0   \n",
       "\n",
       "   Median Income  Income Per Capita  Median Home Value  Pop in Labor Force  \\\n",
       "1        49574.0            26058.0           116400.0            186706.0   \n",
       "2        55874.0            28631.0           137500.0             41710.0   \n",
       "3        48069.0            23181.0            81500.0              4368.0   \n",
       "5        72774.0            40487.0           195900.0             32688.0   \n",
       "6        56323.0            30279.0           171600.0              7330.0   \n",
       "\n",
       "   Pop Not in Labor Force  Unemployed  % Unemployment  \n",
       "1                 93216.0     13152.0        6.580672  \n",
       "2                 21169.0      2165.0        4.934473  \n",
       "3                  2364.0       201.0        4.399212  \n",
       "5                 14337.0      1074.0        3.181091  \n",
       "6                  5053.0       412.0        5.321622  \n",
       "\n",
       "[5 rows x 32 columns]"
      ]
     },
     "execution_count": 23,
     "metadata": {},
     "output_type": "execute_result"
    }
   ],
   "source": [
    "urban.head()"
   ]
  },
  {
   "cell_type": "code",
   "execution_count": 24,
   "metadata": {},
   "outputs": [],
   "source": [
    "b=urban[\"Total Population\"].astype(float)\n",
    "v=b.tolist()\n",
    "urban_pop_reduced=[]\n",
    "for item in v:\n",
    "    c=item/500\n",
    "    urban_pop_reduced.append(c)"
   ]
  },
  {
   "cell_type": "code",
   "execution_count": 25,
   "metadata": {},
   "outputs": [
    {
     "name": "stdout",
     "output_type": "stream",
     "text": [
      "The r-squared is: -0.39277115259410866\n",
      "y = -3.24x + 83.03\n"
     ]
    },
    {
     "data": {
      "image/png": "[encoded data removed]",
      "text/plain": [
       "<Figure size 432x288 with 1 Axes>"
      ]
     },
     "metadata": {
      "needs_background": "light"
     },
     "output_type": "display_data"
    }
   ],
   "source": [
    "#create a scatterplot for unemployment vs %Republican vote-URBAN COUNTIES\n",
    "plt.scatter(urban[\"% Unemployment\"],urban[\"GOP %\"],s=urban_pop_reduced*10000, alpha=0.5);\n",
    "plt.xlabel(\"Percent Unemployed in Non-Rural Counties\",weight=\"bold\");\n",
    "plt.ylabel(\"Percentage of GOP Vote\",weight=\"bold\");\n",
    "#plt.title(\"Percent Unemployment vs Percent GOP Vote\",weight=\"bold\");\n",
    "plt.ylim(20,85)\n",
    "a=3\n",
    "b=40\n",
    "LinearRegression(urban[\"% Unemployment\"],urban[\"GOP %\"])\n",
    "plt.annotate(f\"R-squared = -0.393\",(3,33),fontsize=15,color='red');\n",
    "plt.savefig('unemployment_urban.png')"
   ]
  },
  {
   "cell_type": "code",
   "execution_count": 26,
   "metadata": {},
   "outputs": [],
   "source": [
    "sorted=election.sort_values(\"Total Population\",ascending=False).reset_index(drop=True)"
   ]
  },
  {
   "cell_type": "code",
   "execution_count": 27,
   "metadata": {},
   "outputs": [],
   "source": [
    "rural=election.loc[(election[\"County\"]==\"LaGrange County\")|(election[\"County\"]==\"Steuben County\")|\n",
    "                     (election[\"County\"]==\"Noble County\")|(election[\"County\"]==\"DeKalb County\")|\n",
    "                     (election[\"County\"]==\"Starke County\")|(election[\"County\"]==\"Marshall County\")|\n",
    "                     (election[\"County\"]==\"Kosciusko County\")|(election[\"County\"]==\"Pulaski County\")|\n",
    "                     (election[\"County\"]==\"Fulton County\")|(election[\"County\"]==\"Huntington County\")|\n",
    "                     (election[\"County\"]==\"Wabash County\")|(election[\"County\"]==\"Miami County\")|\n",
    "                     (election[\"County\"]==\"Cass County\")|(election[\"County\"]==\"White County\")|\n",
    "                     (election[\"County\"]==\"Grant County\")|(election[\"County\"]==\"Blackford County\")|\n",
    "                     (election[\"County\"]==\"Adams County\")|(election[\"County\"]==\"Jay County\")|\n",
    "                     (election[\"County\"]==\"Randolph County\")|(election[\"County\"]==\"Wayne County\")|\n",
    "                     (election[\"County\"]==\"Henry County\")|(election[\"County\"]==\"Rush County\")|\n",
    "                     (election[\"County\"]==\"Fayette County\")|(election[\"County\"]==\"Union County\")|\n",
    "                     (election[\"County\"]==\"Decatur County\")|(election[\"County\"]==\"Clinton County\")|\n",
    "                     (election[\"County\"]==\"Warren County\")|(election[\"County\"]==\"Fountain County\")|\n",
    "                     (election[\"County\"]==\"Montgomery County\")|(election[\"County\"]==\"Parke County\")|\n",
    "                     (election[\"County\"]==\"Ripley County\")|(election[\"County\"]==\"Switzerland County\")|\n",
    "                     (election[\"County\"]==\"Jefferson County\")|(election[\"County\"]==\"Jennings County\")|\n",
    "                     (election[\"County\"]==\"Scott County\")|(election[\"County\"]==\"Jackson County\")|\n",
    "                     (election[\"County\"]==\"Lawrence County\")|(election[\"County\"]==\"Orange County\")|\n",
    "                     (election[\"County\"]==\"Crawford County\")|(election[\"County\"]==\"Perry County\")|\n",
    "                     (election[\"County\"]==\"Spencer County\")|(election[\"County\"]==\"Dubois County\")|\n",
    "                     (election[\"County\"]==\"Martin County\")|(election[\"County\"]==\"Daviess County\")|\n",
    "                     (election[\"County\"]==\"Knox County\")|(election[\"County\"]==\"Pike County\")]\n"
   ]
  },
  {
   "cell_type": "code",
   "execution_count": 28,
   "metadata": {},
   "outputs": [
    {
     "name": "stderr",
     "output_type": "stream",
     "text": [
      "C:\\Users\\Michael\\Anaconda3\\lib\\site-packages\\ipykernel_launcher.py:1: SettingWithCopyWarning: \n",
      "A value is trying to be set on a copy of a slice from a DataFrame.\n",
      "Try using .loc[row_indexer,col_indexer] = value instead\n",
      "\n",
      "See the caveats in the documentation: http://pandas.pydata.org/pandas-docs/stable/user_guide/indexing.html#returning-a-view-versus-a-copy\n",
      "  \"\"\"Entry point for launching an IPython kernel.\n"
     ]
    }
   ],
   "source": [
    "rural[\"% Unemployment\"]=(rural[\"Unemployed\"]/(rural[\"Pop in Labor Force\"]+rural[\"Unemployed\"]))*100"
   ]
  },
  {
   "cell_type": "code",
   "execution_count": 29,
   "metadata": {
    "scrolled": true
   },
   "outputs": [
    {
     "data": {
      "text/html": [
       "<div>\n",
       "<style scoped>\n",
       "    .dataframe tbody tr th:only-of-type {\n",
       "        vertical-align: middle;\n",
       "    }\n",
       "\n",
       "    .dataframe tbody tr th {\n",
       "        vertical-align: top;\n",
       "    }\n",
       "\n",
       "    .dataframe thead th {\n",
       "        text-align: right;\n",
       "    }\n",
       "</style>\n",
       "<table border=\"1\" class=\"dataframe\">\n",
       "  <thead>\n",
       "    <tr style=\"text-align: right;\">\n",
       "      <th></th>\n",
       "      <th>Unnamed: 0</th>\n",
       "      <th>State</th>\n",
       "      <th>State Abbr</th>\n",
       "      <th>County</th>\n",
       "      <th>DEM Votes</th>\n",
       "      <th>GOP Votes</th>\n",
       "      <th>Total Votes</th>\n",
       "      <th>DEM %</th>\n",
       "      <th>GOP %</th>\n",
       "      <th>Total Population</th>\n",
       "      <th>...</th>\n",
       "      <th>Education (Masters)</th>\n",
       "      <th>Education (Professional)</th>\n",
       "      <th>Education (Doctorate)</th>\n",
       "      <th>Median Income</th>\n",
       "      <th>Income Per Capita</th>\n",
       "      <th>Median Home Value</th>\n",
       "      <th>Pop in Labor Force</th>\n",
       "      <th>Pop Not in Labor Force</th>\n",
       "      <th>Unemployed</th>\n",
       "      <th>% Unemployment</th>\n",
       "    </tr>\n",
       "  </thead>\n",
       "  <tbody>\n",
       "    <tr>\n",
       "      <td>0</td>\n",
       "      <td>0</td>\n",
       "      <td>Indiana</td>\n",
       "      <td>IN</td>\n",
       "      <td>Adams County</td>\n",
       "      <td>2802</td>\n",
       "      <td>9642</td>\n",
       "      <td>13039</td>\n",
       "      <td>0.214894</td>\n",
       "      <td>73.947389</td>\n",
       "      <td>34813.0</td>\n",
       "      <td>...</td>\n",
       "      <td>768.0</td>\n",
       "      <td>126.0</td>\n",
       "      <td>64.0</td>\n",
       "      <td>47572.0</td>\n",
       "      <td>21173.0</td>\n",
       "      <td>114600.0</td>\n",
       "      <td>15975.0</td>\n",
       "      <td>8948.0</td>\n",
       "      <td>872.0</td>\n",
       "      <td>5.175996</td>\n",
       "    </tr>\n",
       "    <tr>\n",
       "      <td>4</td>\n",
       "      <td>4</td>\n",
       "      <td>Indiana</td>\n",
       "      <td>IN</td>\n",
       "      <td>Blackford County</td>\n",
       "      <td>1243</td>\n",
       "      <td>3349</td>\n",
       "      <td>4822</td>\n",
       "      <td>0.257777</td>\n",
       "      <td>69.452509</td>\n",
       "      <td>12364.0</td>\n",
       "      <td>...</td>\n",
       "      <td>315.0</td>\n",
       "      <td>51.0</td>\n",
       "      <td>42.0</td>\n",
       "      <td>38791.0</td>\n",
       "      <td>21980.0</td>\n",
       "      <td>67100.0</td>\n",
       "      <td>5763.0</td>\n",
       "      <td>4263.0</td>\n",
       "      <td>480.0</td>\n",
       "      <td>7.688611</td>\n",
       "    </tr>\n",
       "    <tr>\n",
       "      <td>8</td>\n",
       "      <td>8</td>\n",
       "      <td>Indiana</td>\n",
       "      <td>IN</td>\n",
       "      <td>Cass County</td>\n",
       "      <td>3758</td>\n",
       "      <td>9697</td>\n",
       "      <td>14135</td>\n",
       "      <td>0.265865</td>\n",
       "      <td>68.602759</td>\n",
       "      <td>38324.0</td>\n",
       "      <td>...</td>\n",
       "      <td>987.0</td>\n",
       "      <td>152.0</td>\n",
       "      <td>135.0</td>\n",
       "      <td>43918.0</td>\n",
       "      <td>22625.0</td>\n",
       "      <td>82500.0</td>\n",
       "      <td>18863.0</td>\n",
       "      <td>11557.0</td>\n",
       "      <td>1429.0</td>\n",
       "      <td>7.042184</td>\n",
       "    </tr>\n",
       "    <tr>\n",
       "      <td>11</td>\n",
       "      <td>11</td>\n",
       "      <td>Indiana</td>\n",
       "      <td>IN</td>\n",
       "      <td>Clinton County</td>\n",
       "      <td>2819</td>\n",
       "      <td>8530</td>\n",
       "      <td>11896</td>\n",
       "      <td>0.236970</td>\n",
       "      <td>71.704775</td>\n",
       "      <td>32692.0</td>\n",
       "      <td>...</td>\n",
       "      <td>887.0</td>\n",
       "      <td>94.0</td>\n",
       "      <td>40.0</td>\n",
       "      <td>50096.0</td>\n",
       "      <td>23260.0</td>\n",
       "      <td>98700.0</td>\n",
       "      <td>16268.0</td>\n",
       "      <td>8714.0</td>\n",
       "      <td>977.0</td>\n",
       "      <td>5.665410</td>\n",
       "    </tr>\n",
       "    <tr>\n",
       "      <td>12</td>\n",
       "      <td>12</td>\n",
       "      <td>Indiana</td>\n",
       "      <td>IN</td>\n",
       "      <td>Crawford County</td>\n",
       "      <td>1323</td>\n",
       "      <td>3013</td>\n",
       "      <td>4591</td>\n",
       "      <td>0.288173</td>\n",
       "      <td>65.628403</td>\n",
       "      <td>10582.0</td>\n",
       "      <td>...</td>\n",
       "      <td>221.0</td>\n",
       "      <td>57.0</td>\n",
       "      <td>11.0</td>\n",
       "      <td>41173.0</td>\n",
       "      <td>19756.0</td>\n",
       "      <td>88600.0</td>\n",
       "      <td>4626.0</td>\n",
       "      <td>3867.0</td>\n",
       "      <td>290.0</td>\n",
       "      <td>5.899105</td>\n",
       "    </tr>\n",
       "  </tbody>\n",
       "</table>\n",
       "<p>5 rows × 32 columns</p>\n",
       "</div>"
      ],
      "text/plain": [
       "    Unnamed: 0    State State Abbr            County  DEM Votes  GOP Votes  \\\n",
       "0            0  Indiana         IN      Adams County       2802       9642   \n",
       "4            4  Indiana         IN  Blackford County       1243       3349   \n",
       "8            8  Indiana         IN       Cass County       3758       9697   \n",
       "11          11  Indiana         IN    Clinton County       2819       8530   \n",
       "12          12  Indiana         IN   Crawford County       1323       3013   \n",
       "\n",
       "    Total Votes     DEM %      GOP %  Total Population  ...  \\\n",
       "0         13039  0.214894  73.947389           34813.0  ...   \n",
       "4          4822  0.257777  69.452509           12364.0  ...   \n",
       "8         14135  0.265865  68.602759           38324.0  ...   \n",
       "11        11896  0.236970  71.704775           32692.0  ...   \n",
       "12         4591  0.288173  65.628403           10582.0  ...   \n",
       "\n",
       "    Education (Masters)  Education (Professional)  Education (Doctorate)  \\\n",
       "0                 768.0                     126.0                   64.0   \n",
       "4                 315.0                      51.0                   42.0   \n",
       "8                 987.0                     152.0                  135.0   \n",
       "11                887.0                      94.0                   40.0   \n",
       "12                221.0                      57.0                   11.0   \n",
       "\n",
       "    Median Income  Income Per Capita  Median Home Value  Pop in Labor Force  \\\n",
       "0         47572.0            21173.0           114600.0             15975.0   \n",
       "4         38791.0            21980.0            67100.0              5763.0   \n",
       "8         43918.0            22625.0            82500.0             18863.0   \n",
       "11        50096.0            23260.0            98700.0             16268.0   \n",
       "12        41173.0            19756.0            88600.0              4626.0   \n",
       "\n",
       "    Pop Not in Labor Force  Unemployed  % Unemployment  \n",
       "0                   8948.0       872.0        5.175996  \n",
       "4                   4263.0       480.0        7.688611  \n",
       "8                  11557.0      1429.0        7.042184  \n",
       "11                  8714.0       977.0        5.665410  \n",
       "12                  3867.0       290.0        5.899105  \n",
       "\n",
       "[5 rows x 32 columns]"
      ]
     },
     "execution_count": 29,
     "metadata": {},
     "output_type": "execute_result"
    }
   ],
   "source": [
    "rural.head()"
   ]
  },
  {
   "cell_type": "code",
   "execution_count": 30,
   "metadata": {},
   "outputs": [],
   "source": [
    "f=rural[\"Total Population\"].astype(float)\n",
    "g=f.tolist()\n",
    "rural_pop_reduced=[]\n",
    "for item in g:\n",
    "    h=item/100\n",
    "    rural_pop_reduced.append(h)"
   ]
  },
  {
   "cell_type": "code",
   "execution_count": 31,
   "metadata": {},
   "outputs": [
    {
     "name": "stdout",
     "output_type": "stream",
     "text": [
      "The r-squared is: -0.09387455131694734\n",
      "y = -0.31x + 73.07\n"
     ]
    },
    {
     "data": {
      "image/png": "[encoded data removed]",
      "text/plain": [
       "<Figure size 432x288 with 1 Axes>"
      ]
     },
     "metadata": {
      "needs_background": "light"
     },
     "output_type": "display_data"
    }
   ],
   "source": [
    "#create a scatterplot for unemployment vs %Republican vote-URBAN COUNTIES\n",
    "plt.scatter(rural[\"% Unemployment\"],rural[\"GOP %\"],s=rural_pop_reduced*10000, alpha=0.5);\n",
    "plt.xlabel(\"Percent Unemployed in Rural Counties\",weight=\"bold\");\n",
    "plt.ylabel(\"Percentage of GOP Vote\",weight=\"bold\");\n",
    "#plt.title(\"Percent Unemployment vs Percent GOP Vote\",weight=\"bold\");\n",
    "plt.ylim(55,85)\n",
    "a=3\n",
    "b=64\n",
    "LinearRegression(rural[\"% Unemployment\"],rural[\"GOP %\"])\n",
    "plt.annotate(f\"R-squared = -0.094\",(3,60),fontsize=15,color='red');\n",
    "plt.savefig('unemployment_rural.png')"
   ]
  },
  {
   "cell_type": "code",
   "execution_count": null,
   "metadata": {},
   "outputs": [],
   "source": []
  }
 ],
 "metadata": {
  "kernelspec": {
   "display_name": "Python 3",
   "language": "python",
   "name": "python3"
  },
  "language_info": {
   "codemirror_mode": {
    "name": "ipython",
    "version": 3
   },
   "file_extension": ".py",
   "mimetype": "text/x-python",
   "name": "python",
   "nbconvert_exporter": "python",
   "pygments_lexer": "ipython3",
   "version": "3.7.4"
  }
 },
 "nbformat": 4,
 "nbformat_minor": 4
}
