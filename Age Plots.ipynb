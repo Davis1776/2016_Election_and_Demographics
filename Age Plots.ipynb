{
 "cells": [
  {
   "cell_type": "code",
   "execution_count": 80,
   "metadata": {},
   "outputs": [],
   "source": [
    "# Dependencies and Setup\n",
    "import matplotlib.pyplot as plt\n",
    "import pandas as pd\n",
    "import scipy.stats as st\n",
    "import numpy as np\n",
    "from scipy.stats import linregress"
   ]
  },
  {
   "cell_type": "code",
   "execution_count": 81,
   "metadata": {},
   "outputs": [
    {
     "data": {
      "text/html": [
       "<div>\n",
       "<style scoped>\n",
       "    .dataframe tbody tr th:only-of-type {\n",
       "        vertical-align: middle;\n",
       "    }\n",
       "\n",
       "    .dataframe tbody tr th {\n",
       "        vertical-align: top;\n",
       "    }\n",
       "\n",
       "    .dataframe thead th {\n",
       "        text-align: right;\n",
       "    }\n",
       "</style>\n",
       "<table border=\"1\" class=\"dataframe\">\n",
       "  <thead>\n",
       "    <tr style=\"text-align: right;\">\n",
       "      <th></th>\n",
       "      <th>Unnamed: 0</th>\n",
       "      <th>State</th>\n",
       "      <th>State Abbr</th>\n",
       "      <th>County</th>\n",
       "      <th>DEM Votes</th>\n",
       "      <th>GOP Votes</th>\n",
       "      <th>Total Votes</th>\n",
       "      <th>DEM %</th>\n",
       "      <th>GOP %</th>\n",
       "      <th>Total Population</th>\n",
       "      <th>...</th>\n",
       "      <th>Education (Bachelors)</th>\n",
       "      <th>Education (Masters)</th>\n",
       "      <th>Education (Professional)</th>\n",
       "      <th>Education (Doctorate)</th>\n",
       "      <th>Median Income</th>\n",
       "      <th>Income Per Capita</th>\n",
       "      <th>Median Home Value</th>\n",
       "      <th>Pop in Labor Force</th>\n",
       "      <th>Pop Not in Labor Force</th>\n",
       "      <th>Unemployed</th>\n",
       "    </tr>\n",
       "  </thead>\n",
       "  <tbody>\n",
       "    <tr>\n",
       "      <th>0</th>\n",
       "      <td>0</td>\n",
       "      <td>Indiana</td>\n",
       "      <td>IN</td>\n",
       "      <td>Adams County</td>\n",
       "      <td>2802</td>\n",
       "      <td>9642</td>\n",
       "      <td>13039</td>\n",
       "      <td>0.214894</td>\n",
       "      <td>0.739474</td>\n",
       "      <td>34813.0</td>\n",
       "      <td>...</td>\n",
       "      <td>2311.0</td>\n",
       "      <td>768.0</td>\n",
       "      <td>126.0</td>\n",
       "      <td>64.0</td>\n",
       "      <td>47572.0</td>\n",
       "      <td>21173.0</td>\n",
       "      <td>114600.0</td>\n",
       "      <td>15975.0</td>\n",
       "      <td>8948.0</td>\n",
       "      <td>872.0</td>\n",
       "    </tr>\n",
       "    <tr>\n",
       "      <th>1</th>\n",
       "      <td>1</td>\n",
       "      <td>Indiana</td>\n",
       "      <td>IN</td>\n",
       "      <td>Allen County</td>\n",
       "      <td>55222</td>\n",
       "      <td>83801</td>\n",
       "      <td>145787</td>\n",
       "      <td>0.378785</td>\n",
       "      <td>0.574818</td>\n",
       "      <td>365565.0</td>\n",
       "      <td>...</td>\n",
       "      <td>42160.0</td>\n",
       "      <td>16367.0</td>\n",
       "      <td>4152.0</td>\n",
       "      <td>1694.0</td>\n",
       "      <td>49574.0</td>\n",
       "      <td>26058.0</td>\n",
       "      <td>116400.0</td>\n",
       "      <td>186706.0</td>\n",
       "      <td>93216.0</td>\n",
       "      <td>13152.0</td>\n",
       "    </tr>\n",
       "    <tr>\n",
       "      <th>2</th>\n",
       "      <td>2</td>\n",
       "      <td>Indiana</td>\n",
       "      <td>IN</td>\n",
       "      <td>Bartholomew County</td>\n",
       "      <td>9841</td>\n",
       "      <td>20637</td>\n",
       "      <td>32389</td>\n",
       "      <td>0.303838</td>\n",
       "      <td>0.637161</td>\n",
       "      <td>80203.0</td>\n",
       "      <td>...</td>\n",
       "      <td>9685.0</td>\n",
       "      <td>5255.0</td>\n",
       "      <td>499.0</td>\n",
       "      <td>632.0</td>\n",
       "      <td>55874.0</td>\n",
       "      <td>28631.0</td>\n",
       "      <td>137500.0</td>\n",
       "      <td>41710.0</td>\n",
       "      <td>21169.0</td>\n",
       "      <td>2165.0</td>\n",
       "    </tr>\n",
       "    <tr>\n",
       "      <th>3</th>\n",
       "      <td>3</td>\n",
       "      <td>Indiana</td>\n",
       "      <td>IN</td>\n",
       "      <td>Benton County</td>\n",
       "      <td>860</td>\n",
       "      <td>2579</td>\n",
       "      <td>3654</td>\n",
       "      <td>0.235359</td>\n",
       "      <td>0.705802</td>\n",
       "      <td>8709.0</td>\n",
       "      <td>...</td>\n",
       "      <td>753.0</td>\n",
       "      <td>188.0</td>\n",
       "      <td>42.0</td>\n",
       "      <td>12.0</td>\n",
       "      <td>48069.0</td>\n",
       "      <td>23181.0</td>\n",
       "      <td>81500.0</td>\n",
       "      <td>4368.0</td>\n",
       "      <td>2364.0</td>\n",
       "      <td>201.0</td>\n",
       "    </tr>\n",
       "    <tr>\n",
       "      <th>4</th>\n",
       "      <td>4</td>\n",
       "      <td>Indiana</td>\n",
       "      <td>IN</td>\n",
       "      <td>Blackford County</td>\n",
       "      <td>1243</td>\n",
       "      <td>3349</td>\n",
       "      <td>4822</td>\n",
       "      <td>0.257777</td>\n",
       "      <td>0.694525</td>\n",
       "      <td>12364.0</td>\n",
       "      <td>...</td>\n",
       "      <td>546.0</td>\n",
       "      <td>315.0</td>\n",
       "      <td>51.0</td>\n",
       "      <td>42.0</td>\n",
       "      <td>38791.0</td>\n",
       "      <td>21980.0</td>\n",
       "      <td>67100.0</td>\n",
       "      <td>5763.0</td>\n",
       "      <td>4263.0</td>\n",
       "      <td>480.0</td>\n",
       "    </tr>\n",
       "  </tbody>\n",
       "</table>\n",
       "<p>5 rows × 31 columns</p>\n",
       "</div>"
      ],
      "text/plain": [
       "   Unnamed: 0    State State Abbr              County  DEM Votes  GOP Votes  \\\n",
       "0           0  Indiana         IN        Adams County       2802       9642   \n",
       "1           1  Indiana         IN        Allen County      55222      83801   \n",
       "2           2  Indiana         IN  Bartholomew County       9841      20637   \n",
       "3           3  Indiana         IN       Benton County        860       2579   \n",
       "4           4  Indiana         IN    Blackford County       1243       3349   \n",
       "\n",
       "   Total Votes     DEM %     GOP %  Total Population  ...  \\\n",
       "0        13039  0.214894  0.739474           34813.0  ...   \n",
       "1       145787  0.378785  0.574818          365565.0  ...   \n",
       "2        32389  0.303838  0.637161           80203.0  ...   \n",
       "3         3654  0.235359  0.705802            8709.0  ...   \n",
       "4         4822  0.257777  0.694525           12364.0  ...   \n",
       "\n",
       "   Education (Bachelors)  Education (Masters)  Education (Professional)  \\\n",
       "0                 2311.0                768.0                     126.0   \n",
       "1                42160.0              16367.0                    4152.0   \n",
       "2                 9685.0               5255.0                     499.0   \n",
       "3                  753.0                188.0                      42.0   \n",
       "4                  546.0                315.0                      51.0   \n",
       "\n",
       "   Education (Doctorate)  Median Income  Income Per Capita  Median Home Value  \\\n",
       "0                   64.0        47572.0            21173.0           114600.0   \n",
       "1                 1694.0        49574.0            26058.0           116400.0   \n",
       "2                  632.0        55874.0            28631.0           137500.0   \n",
       "3                   12.0        48069.0            23181.0            81500.0   \n",
       "4                   42.0        38791.0            21980.0            67100.0   \n",
       "\n",
       "   Pop in Labor Force  Pop Not in Labor Force  Unemployed  \n",
       "0             15975.0                  8948.0       872.0  \n",
       "1            186706.0                 93216.0     13152.0  \n",
       "2             41710.0                 21169.0      2165.0  \n",
       "3              4368.0                  2364.0       201.0  \n",
       "4              5763.0                  4263.0       480.0  \n",
       "\n",
       "[5 rows x 31 columns]"
      ]
     },
     "execution_count": 81,
     "metadata": {},
     "output_type": "execute_result"
    }
   ],
   "source": [
    "csvpath='merged_file.csv'\n",
    "election=pd.read_csv(csvpath)\n",
    "election.head()"
   ]
  },
  {
   "cell_type": "code",
   "execution_count": 119,
   "metadata": {
    "scrolled": true
   },
   "outputs": [
    {
     "data": {
      "text/plain": [
       "Unnamed: 0                         int64\n",
       "State                             object\n",
       "State Abbr                        object\n",
       "County                            object\n",
       "DEM Votes                          int64\n",
       "GOP Votes                          int64\n",
       "Total Votes                        int64\n",
       "DEM %                            float64\n",
       "GOP %                            float64\n",
       "Total Population                 float64\n",
       "Population (White)               float64\n",
       "Population (African-American)    float64\n",
       "Population (Asian)               float64\n",
       "Population (Hispanic)            float64\n",
       "Median Age                       float64\n",
       "Median Age (Male)                float64\n",
       "Median Age (Female)              float64\n",
       "Education (None)                 float64\n",
       "Education (High School)          float64\n",
       "Education (GED)                  float64\n",
       "Education (Associates)           float64\n",
       "Education (Bachelors)            float64\n",
       "Education (Masters)              float64\n",
       "Education (Professional)         float64\n",
       "Education (Doctorate)            float64\n",
       "Median Income                    float64\n",
       "Income Per Capita                float64\n",
       "Median Home Value                float64\n",
       "Pop in Labor Force               float64\n",
       "Pop Not in Labor Force           float64\n",
       "Unemployed                       float64\n",
       "dtype: object"
      ]
     },
     "execution_count": 119,
     "metadata": {},
     "output_type": "execute_result"
    }
   ],
   "source": [
    "election.dtypes"
   ]
  },
  {
   "cell_type": "code",
   "execution_count": 83,
   "metadata": {},
   "outputs": [],
   "source": [
    "age_thirty=election.loc[(election[\"Median Age\"]>33)&(election[\"Median Age\"]<35)]\n",
    "age_thirty.head()\n",
    "x_marion=age_thirty[\"Median Age\"][48]\n",
    "y_marion=age_thirty[\"GOP %\"][48]\n",
    "age_thirty.head()\n",
    "x_daviess=age_thirty[\"Median Age\"][13]\n",
    "y_daviess=age_thirty[\"GOP %\"][13]"
   ]
  },
  {
   "cell_type": "code",
   "execution_count": 107,
   "metadata": {
    "scrolled": true
   },
   "outputs": [
    {
     "name": "stdout",
     "output_type": "stream",
     "text": [
      "The r-squared is: 0.4850040167794374\n",
      "y = 0.01x + 0.14\n"
     ]
    },
    {
     "data": {
      "image/png": "[encoded data removed]",
      "text/plain": [
       "<Figure size 432x288 with 1 Axes>"
      ]
     },
     "metadata": {
      "needs_background": "light"
     },
     "output_type": "display_data"
    }
   ],
   "source": [
    "#create a scatterplot for median age vs %Republican vote\n",
    "plt.scatter(election[\"Median Age\"],election[\"GOP %\"])#,s=election[\"Total Population\"]*10, alpha=0.5);\n",
    "#plt.scatter(x, y, s=z*1000, alpha=0.5)\n",
    "plt.xlabel(\"Median Age of County\",weight=\"bold\");\n",
    "plt.ylabel(\"Percentage of GOP Vote\",weight=\"bold\");\n",
    "plt.title(\"Median Age per County vs Percent GOP Vote: 2016 Election\",weight=\"bold\");\n",
    "\n",
    "# Calculate the correlation coefficient and linear regression model for mouse weight and average tumor volume for the Capomulin regimen\n",
    "#Calculate the linear regression values to be plotted against weight\n",
    "(slope, intercept, rvalue, pvalue, stderr) = linregress(election[\"Median Age\"],election[\"GOP %\"])\n",
    "regress_values = election[\"Median Age\"] * slope + intercept\n",
    "line_eq = \"y = \" + str(round(slope,2)) + \"x + \" + str(round(intercept,2))\n",
    "\n",
    "#plot the regression values to form the regression line\n",
    "plt.plot(election[\"Median Age\"],regress_values,\"r-\")\n",
    "plt.annotate(line_eq,(39,0.45),fontsize=15,color=\"red\");\n",
    "plt.annotate(f\"R-squared = {round(rvalue,3)}\",(39,0.4),fontsize=15,color='red');\n",
    "\n",
    "print(f\"The r-squared is: {rvalue}\")\n",
    "print(line_eq)\n",
    "\n",
    "#plt.annotate('Marion County',(x_marion,y_marion));\n",
    "#plt.annotate('Daviess County',(x_daviess,y_daviess));"
   ]
  },
  {
   "cell_type": "code",
   "execution_count": 163,
   "metadata": {},
   "outputs": [],
   "source": [
    "x=election[\"Median Age\"].tolist()\n",
    "y=election[\"GOP %\"].tolist()\n",
    "a=election[\"Total Population\"].astype(float)\n",
    "z=a.tolist()\n",
    "pop_reduced=[]\n",
    "for item in z:\n",
    "    b=item/500\n",
    "    pop_reduced.append(b)"
   ]
  },
  {
   "cell_type": "code",
   "execution_count": 194,
   "metadata": {},
   "outputs": [],
   "source": [
    "tippecanoe=election.loc[election[\"County\"]==\"Tippecanoe County\"]\n",
    "x_tippecanoe=tippecanoe[\"Median Age\"][78]\n",
    "y_tippecanoe=tippecanoe[\"GOP %\"][78]\n",
    "monroe=election.loc[election[\"County\"]==\"Monroe County\"]\n",
    "x_monroe=monroe[\"Median Age\"][52]\n",
    "y_monroe=monroe[\"GOP %\"][52]\n"
   ]
  },
  {
   "cell_type": "code",
   "execution_count": 271,
   "metadata": {
    "scrolled": true
   },
   "outputs": [
    {
     "name": "stdout",
     "output_type": "stream",
     "text": [
      "The r-squared is: 0.4850040167794374\n",
      "y = 0.01x + 0.14\n",
      "0.49\n"
     ]
    },
    {
     "data": {
      "image/png": "[encoded data removed]",
      "text/plain": [
       "<Figure size 432x288 with 1 Axes>"
      ]
     },
     "metadata": {
      "needs_background": "light"
     },
     "output_type": "display_data"
    }
   ],
   "source": [
    "plt.scatter(x, y, s=pop_reduced*10000, alpha=0.5);\n",
    "\n",
    "plt.xlabel(\"Median Age of County\",weight=\"bold\",fontsize=15);\n",
    "plt.ylabel(\"Percentage of GOP Vote\",weight=\"bold\",fontsize=15);\n",
    "plt.title(\"Median Age per County vs Percent GOP Vote\",weight=\"bold\",fontsize=15);\n",
    "plt.ylim(0.2,0.93);\n",
    "plt.annotate('Marion', xy=(x_marion,y_marion), xytext=(20,20), \n",
    "            textcoords='offset points', ha='center', va='bottom',\n",
    "            bbox=dict(boxstyle='round,pad=0.2', fc='yellow', alpha=0.3),\n",
    "            arrowprops=dict(arrowstyle='->', connectionstyle='arc3,rad=-0.5', \n",
    "                            color='black'));\n",
    "\n",
    "plt.annotate('Daviess', xy=(x_daviess,y_daviess), xytext=(20,20), \n",
    "            textcoords='offset points', ha='center', va='bottom',\n",
    "            bbox=dict(boxstyle='round,pad=0.2', fc='yellow', alpha=0.3),\n",
    "            arrowprops=dict(arrowstyle='->', connectionstyle='arc3,rad=-0.5', \n",
    "                            color='black'));\n",
    "\n",
    "plt.annotate('Tippecanoe', xy=(x_tippecanoe,y_tippecanoe), xytext=(20,20), \n",
    "            textcoords='offset points', ha='center', va='bottom',\n",
    "            bbox=dict(boxstyle='round,pad=0.2', fc='yellow', alpha=0.3),\n",
    "            arrowprops=dict(arrowstyle='->', connectionstyle='arc3,rad=-0.5', \n",
    "                            color='black'));\n",
    "\n",
    "plt.annotate('Monroe', xy=(x_monroe,y_monroe), xytext=(20,20), \n",
    "            textcoords='offset points', ha='center', va='bottom',\n",
    "            bbox=dict(boxstyle='round,pad=0.2', fc='yellow', alpha=0.3),\n",
    "            arrowprops=dict(arrowstyle='->', connectionstyle='arc3,rad=-0.5', \n",
    "                            color='black'));\n",
    "\n",
    "a=39\n",
    "b=0.3\n",
    "LinearRegression(election[\"Median Age\"],election[\"GOP %\"])\n",
    "\n",
    "#plt.annotate(line_eq,(39,0.45),fontsize=15,color=\"red\");\n",
    "plt.annotate(f\"R-squared = {round(rvalue,3)}\",(39,0.23),fontsize=15,color='red');\n",
    "\n",
    "plt.savefig('median_age_GOP.png')\n",
    "\n",
    "correlation = st.pearsonr(x,y)\n",
    "print(round(correlation[0],2))"
   ]
  },
  {
   "attachments": {},
   "cell_type": "markdown",
   "metadata": {},
   "source": [
    "according to:\n",
    "https://www.census.gov/newsroom/blogs/random-samplings/2017/05/voting_in_america.html![image.png](attachment:image.png)\n",
    "\n",
    "**Voting Rates**\n",
    "\n",
    "- 18-29 year olds: 46.1%\n",
    "- 30-44 year olds: 58.7%\n",
    "- 45-64 year olds: 66.6%\n",
    "- 65 years and oldes: 70.9%\n",
    "\n"
   ]
  },
  {
   "cell_type": "code",
   "execution_count": 86,
   "metadata": {
    "scrolled": true
   },
   "outputs": [
    {
     "data": {
      "text/html": [
       "<div>\n",
       "<style scoped>\n",
       "    .dataframe tbody tr th:only-of-type {\n",
       "        vertical-align: middle;\n",
       "    }\n",
       "\n",
       "    .dataframe tbody tr th {\n",
       "        vertical-align: top;\n",
       "    }\n",
       "\n",
       "    .dataframe thead th {\n",
       "        text-align: right;\n",
       "    }\n",
       "</style>\n",
       "<table border=\"1\" class=\"dataframe\">\n",
       "  <thead>\n",
       "    <tr style=\"text-align: right;\">\n",
       "      <th></th>\n",
       "      <th>Unnamed: 0</th>\n",
       "      <th>State</th>\n",
       "      <th>State Abbr</th>\n",
       "      <th>County</th>\n",
       "      <th>DEM Votes</th>\n",
       "      <th>GOP Votes</th>\n",
       "      <th>Total Votes</th>\n",
       "      <th>DEM %</th>\n",
       "      <th>GOP %</th>\n",
       "      <th>Total Population</th>\n",
       "      <th>...</th>\n",
       "      <th>Education (Bachelors)</th>\n",
       "      <th>Education (Masters)</th>\n",
       "      <th>Education (Professional)</th>\n",
       "      <th>Education (Doctorate)</th>\n",
       "      <th>Median Income</th>\n",
       "      <th>Income Per Capita</th>\n",
       "      <th>Median Home Value</th>\n",
       "      <th>Pop in Labor Force</th>\n",
       "      <th>Pop Not in Labor Force</th>\n",
       "      <th>Unemployed</th>\n",
       "    </tr>\n",
       "  </thead>\n",
       "  <tbody>\n",
       "    <tr>\n",
       "      <th>52</th>\n",
       "      <td>52</td>\n",
       "      <td>Indiana</td>\n",
       "      <td>IN</td>\n",
       "      <td>Monroe County</td>\n",
       "      <td>34183</td>\n",
       "      <td>20527</td>\n",
       "      <td>57623</td>\n",
       "      <td>0.593218</td>\n",
       "      <td>0.356229</td>\n",
       "      <td>143292.0</td>\n",
       "      <td>...</td>\n",
       "      <td>18497.0</td>\n",
       "      <td>12266.0</td>\n",
       "      <td>1899.0</td>\n",
       "      <td>3772.0</td>\n",
       "      <td>43389.0</td>\n",
       "      <td>25488.0</td>\n",
       "      <td>161300.0</td>\n",
       "      <td>76130.0</td>\n",
       "      <td>46768.0</td>\n",
       "      <td>5034.0</td>\n",
       "    </tr>\n",
       "    <tr>\n",
       "      <th>78</th>\n",
       "      <td>78</td>\n",
       "      <td>Indiana</td>\n",
       "      <td>IN</td>\n",
       "      <td>Tippecanoe County</td>\n",
       "      <td>27207</td>\n",
       "      <td>30711</td>\n",
       "      <td>61916</td>\n",
       "      <td>0.439418</td>\n",
       "      <td>0.496011</td>\n",
       "      <td>183397.0</td>\n",
       "      <td>...</td>\n",
       "      <td>19941.0</td>\n",
       "      <td>10031.0</td>\n",
       "      <td>1590.0</td>\n",
       "      <td>3960.0</td>\n",
       "      <td>47406.0</td>\n",
       "      <td>24221.0</td>\n",
       "      <td>139500.0</td>\n",
       "      <td>94726.0</td>\n",
       "      <td>54661.0</td>\n",
       "      <td>5842.0</td>\n",
       "    </tr>\n",
       "  </tbody>\n",
       "</table>\n",
       "<p>2 rows × 31 columns</p>\n",
       "</div>"
      ],
      "text/plain": [
       "    Unnamed: 0    State State Abbr             County  DEM Votes  GOP Votes  \\\n",
       "52          52  Indiana         IN      Monroe County      34183      20527   \n",
       "78          78  Indiana         IN  Tippecanoe County      27207      30711   \n",
       "\n",
       "    Total Votes     DEM %     GOP %  Total Population  ...  \\\n",
       "52        57623  0.593218  0.356229          143292.0  ...   \n",
       "78        61916  0.439418  0.496011          183397.0  ...   \n",
       "\n",
       "    Education (Bachelors)  Education (Masters)  Education (Professional)  \\\n",
       "52                18497.0              12266.0                    1899.0   \n",
       "78                19941.0              10031.0                    1590.0   \n",
       "\n",
       "    Education (Doctorate)  Median Income  Income Per Capita  \\\n",
       "52                 3772.0        43389.0            25488.0   \n",
       "78                 3960.0        47406.0            24221.0   \n",
       "\n",
       "    Median Home Value  Pop in Labor Force  Pop Not in Labor Force  Unemployed  \n",
       "52           161300.0             76130.0                 46768.0      5034.0  \n",
       "78           139500.0             94726.0                 54661.0      5842.0  \n",
       "\n",
       "[2 rows x 31 columns]"
      ]
     },
     "execution_count": 86,
     "metadata": {},
     "output_type": "execute_result"
    }
   ],
   "source": [
    "under_thirty=election.loc[election[\"Median Age\"]<30]\n",
    "under_thirty"
   ]
  },
  {
   "cell_type": "code",
   "execution_count": 191,
   "metadata": {},
   "outputs": [],
   "source": [
    "late_thirties=election.loc[(election[\"Median Age\"]>38)&(election[\"Median Age\"]<40)]\n",
    "#late_thirties"
   ]
  },
  {
   "cell_type": "code",
   "execution_count": 88,
   "metadata": {},
   "outputs": [],
   "source": [
    "a=0\n",
    "b=0\n",
    "def LinearRegression(x,y):\n",
    "    # Calculate the correlation coefficient and linear regression model for mouse weight and average tumor volume for the Capomulin regimen\n",
    "    #Calculate the linear regression values to be plotted against weight\n",
    "    (slope, intercept, rvalue, pvalue, stderr) = linregress(x, y)\n",
    "    regress_values = x * slope + intercept\n",
    "    line_eq = \"y = \" + str(round(slope,2)) + \"x + \" + str(round(intercept,2))\n",
    "    \n",
    "    #plot the regression values to form the regression line\n",
    "    plt.plot(x,regress_values,\"r-\")\n",
    "    plt.annotate(line_eq,(a,b),fontsize=15,color=\"red\");\n",
    "    \n",
    "    print(f\"The r-squared is: {rvalue}\")\n",
    "    print(line_eq)"
   ]
  },
  {
   "cell_type": "code",
   "execution_count": 89,
   "metadata": {},
   "outputs": [
    {
     "name": "stdout",
     "output_type": "stream",
     "text": [
      "The r-squared is: -0.47952165837526367\n",
      "y = -0.01x + 0.79\n"
     ]
    },
    {
     "data": {
      "image/png": "[encoded data removed]",
      "text/plain": [
       "<Figure size 432x288 with 1 Axes>"
      ]
     },
     "metadata": {
      "needs_background": "light"
     },
     "output_type": "display_data"
    }
   ],
   "source": [
    "#create a scatterplot for median age vs %Republican vote\n",
    "plt.scatter(election[\"Median Age\"],election[\"DEM %\"],marker=\"o\");\n",
    "plt.xlabel(\"Median Age of County\",weight=\"bold\");\n",
    "plt.ylabel(\"Percentage of DEM Vote\",weight=\"bold\");\n",
    "plt.title(\"Median Age per County vs Percent GOP Vote: 2016 Election\",weight=\"bold\");\n",
    "\n",
    "a=40\n",
    "b=0.5\n",
    "LinearRegression(election[\"Median Age\"],election[\"DEM %\"])"
   ]
  },
  {
   "cell_type": "code",
   "execution_count": 90,
   "metadata": {
    "scrolled": true
   },
   "outputs": [
    {
     "name": "stdout",
     "output_type": "stream",
     "text": [
      "The r-squared is: 0.4613527069665731\n",
      "y = 0.01x + 0.2\n"
     ]
    },
    {
     "data": {
      "image/png": "[encoded data removed]",
      "text/plain": [
       "<Figure size 432x288 with 1 Axes>"
      ]
     },
     "metadata": {
      "needs_background": "light"
     },
     "output_type": "display_data"
    }
   ],
   "source": [
    "#create a scatterplot for median age vs %Republican vote\n",
    "plt.scatter(election[\"Median Age (Male)\"],election[\"GOP %\"],marker=\"o\");\n",
    "plt.xlabel(\"Median Age of Males per County\",weight=\"bold\");\n",
    "plt.ylabel(\"Percentage of GOP Vote\",weight=\"bold\");\n",
    "plt.title(\"Median Age of Males per County vs Percent GOP Vote: 2016 Election\",weight=\"bold\");\n",
    "\n",
    "a=40\n",
    "b=0.5\n",
    "LinearRegression(election[\"Median Age (Male)\"],election[\"GOP %\"])"
   ]
  },
  {
   "cell_type": "code",
   "execution_count": 91,
   "metadata": {},
   "outputs": [
    {
     "name": "stdout",
     "output_type": "stream",
     "text": [
      "The r-squared is: 0.4827949755082332\n",
      "y = 0.01x + 0.11\n"
     ]
    },
    {
     "data": {
      "image/png": "[encoded data removed]",
      "text/plain": [
       "<Figure size 432x288 with 1 Axes>"
      ]
     },
     "metadata": {
      "needs_background": "light"
     },
     "output_type": "display_data"
    }
   ],
   "source": [
    "#create a scatterplot for median age vs %Republican vote\n",
    "plt.scatter(election[\"Median Age (Female)\"],election[\"GOP %\"],marker=\"o\");\n",
    "plt.xlabel(\"Median Age of Females per County\",weight=\"bold\");\n",
    "plt.ylabel(\"Percentage of GOP Vote\",weight=\"bold\");\n",
    "plt.title(\"Median Age of Females per County vs Percent GOP Vote: 2016 Election\",weight=\"bold\");\n",
    "\n",
    "a=40\n",
    "b=0.4\n",
    "LinearRegression(election[\"Median Age (Female)\"],election[\"GOP %\"])"
   ]
  },
  {
   "cell_type": "code",
   "execution_count": 92,
   "metadata": {},
   "outputs": [
    {
     "name": "stdout",
     "output_type": "stream",
     "text": [
      "The r-squared is: 0.931231133107027\n",
      "y = 0.99x + -2.0\n"
     ]
    },
    {
     "data": {
      "image/png": "[encoded data removed]",
      "text/plain": [
       "<Figure size 432x288 with 1 Axes>"
      ]
     },
     "metadata": {
      "needs_background": "light"
     },
     "output_type": "display_data"
    }
   ],
   "source": [
    "#Just Checking!!! :)\n",
    "#create a scatterplot for Median Age of males vs median age females\n",
    "plt.scatter(election[\"Median Age (Female)\"],election[\"Median Age (Male)\"],marker=\"o\");\n",
    "plt.xlabel(\"Median Age of Females per County\",weight=\"bold\");\n",
    "plt.ylabel(\"Median Age of Males per County\",weight=\"bold\");\n",
    "plt.title(\"Median Age of Females vs Median Age of Males\",weight=\"bold\");\n",
    "\n",
    "a=40\n",
    "b=0.5\n",
    "LinearRegression(election[\"Median Age (Female)\"],election[\"Median Age (Male)\"])"
   ]
  },
  {
   "cell_type": "code",
   "execution_count": 93,
   "metadata": {
    "scrolled": false
   },
   "outputs": [
    {
     "data": {
      "text/plain": [
       "Index(['Unnamed: 0', 'County', 'Pop (18-19)', 'Pop (20)', 'Pop (21)',\n",
       "       'Pop (22-24)', 'Pop (25-29)', 'Pop (30-34)', 'Pop (35-39)',\n",
       "       'Pop (40-44)', 'Pop (45-49)', 'Pop (50-54)', 'Pop (55-59)',\n",
       "       'Pop (60-61)', 'Pop (62-64)', 'Pop (65-66)', 'Pop (67-69)',\n",
       "       'Pop (70-74)', 'Pop (75-79)', 'Pop (80-84)', 'Pop (85 and over)'],\n",
       "      dtype='object')"
      ]
     },
     "execution_count": 93,
     "metadata": {},
     "output_type": "execute_result"
    }
   ],
   "source": [
    "path='indiana_pop_age.csv'\n",
    "population_age=pd.read_csv(path)\n",
    "population_age.columns"
   ]
  },
  {
   "cell_type": "code",
   "execution_count": 94,
   "metadata": {},
   "outputs": [
    {
     "data": {
      "text/html": [
       "<div>\n",
       "<style scoped>\n",
       "    .dataframe tbody tr th:only-of-type {\n",
       "        vertical-align: middle;\n",
       "    }\n",
       "\n",
       "    .dataframe tbody tr th {\n",
       "        vertical-align: top;\n",
       "    }\n",
       "\n",
       "    .dataframe thead th {\n",
       "        text-align: right;\n",
       "    }\n",
       "</style>\n",
       "<table border=\"1\" class=\"dataframe\">\n",
       "  <thead>\n",
       "    <tr style=\"text-align: right;\">\n",
       "      <th></th>\n",
       "      <th>Unnamed: 0</th>\n",
       "      <th>County</th>\n",
       "      <th>Pop (18-19)</th>\n",
       "      <th>Pop (20)</th>\n",
       "      <th>Pop (21)</th>\n",
       "      <th>Pop (22-24)</th>\n",
       "      <th>Pop (25-29)</th>\n",
       "      <th>Pop (30-34)</th>\n",
       "      <th>Pop (35-39)</th>\n",
       "      <th>Pop (40-44)</th>\n",
       "      <th>...</th>\n",
       "      <th>Pop (50-54)</th>\n",
       "      <th>Pop (55-59)</th>\n",
       "      <th>Pop (60-61)</th>\n",
       "      <th>Pop (62-64)</th>\n",
       "      <th>Pop (65-66)</th>\n",
       "      <th>Pop (67-69)</th>\n",
       "      <th>Pop (70-74)</th>\n",
       "      <th>Pop (75-79)</th>\n",
       "      <th>Pop (80-84)</th>\n",
       "      <th>Pop (85 and over)</th>\n",
       "    </tr>\n",
       "  </thead>\n",
       "  <tbody>\n",
       "    <tr>\n",
       "      <th>0</th>\n",
       "      <td>759</td>\n",
       "      <td>Adams County</td>\n",
       "      <td>780.0</td>\n",
       "      <td>490.0</td>\n",
       "      <td>535.0</td>\n",
       "      <td>1117.0</td>\n",
       "      <td>1904.0</td>\n",
       "      <td>2064.0</td>\n",
       "      <td>1864.0</td>\n",
       "      <td>1948.0</td>\n",
       "      <td>...</td>\n",
       "      <td>2100.0</td>\n",
       "      <td>2032.0</td>\n",
       "      <td>877.0</td>\n",
       "      <td>1119.0</td>\n",
       "      <td>687.0</td>\n",
       "      <td>868.0</td>\n",
       "      <td>1076.0</td>\n",
       "      <td>881.0</td>\n",
       "      <td>525.0</td>\n",
       "      <td>996.0</td>\n",
       "    </tr>\n",
       "    <tr>\n",
       "      <th>1</th>\n",
       "      <td>760</td>\n",
       "      <td>Allen County</td>\n",
       "      <td>9334.0</td>\n",
       "      <td>4671.0</td>\n",
       "      <td>5232.0</td>\n",
       "      <td>15024.0</td>\n",
       "      <td>24951.0</td>\n",
       "      <td>24079.0</td>\n",
       "      <td>23368.0</td>\n",
       "      <td>22458.0</td>\n",
       "      <td>...</td>\n",
       "      <td>24523.0</td>\n",
       "      <td>24219.0</td>\n",
       "      <td>8953.0</td>\n",
       "      <td>11838.0</td>\n",
       "      <td>7299.0</td>\n",
       "      <td>8902.0</td>\n",
       "      <td>11118.0</td>\n",
       "      <td>7948.0</td>\n",
       "      <td>5969.0</td>\n",
       "      <td>6697.0</td>\n",
       "    </tr>\n",
       "    <tr>\n",
       "      <th>2</th>\n",
       "      <td>761</td>\n",
       "      <td>Bartholomew County</td>\n",
       "      <td>1671.0</td>\n",
       "      <td>1035.0</td>\n",
       "      <td>804.0</td>\n",
       "      <td>3146.0</td>\n",
       "      <td>5761.0</td>\n",
       "      <td>5299.0</td>\n",
       "      <td>5000.0</td>\n",
       "      <td>5514.0</td>\n",
       "      <td>...</td>\n",
       "      <td>5308.0</td>\n",
       "      <td>5222.0</td>\n",
       "      <td>1790.0</td>\n",
       "      <td>2898.0</td>\n",
       "      <td>1873.0</td>\n",
       "      <td>2127.0</td>\n",
       "      <td>2941.0</td>\n",
       "      <td>2172.0</td>\n",
       "      <td>1500.0</td>\n",
       "      <td>1379.0</td>\n",
       "    </tr>\n",
       "    <tr>\n",
       "      <th>3</th>\n",
       "      <td>762</td>\n",
       "      <td>Benton County</td>\n",
       "      <td>184.0</td>\n",
       "      <td>64.0</td>\n",
       "      <td>105.0</td>\n",
       "      <td>319.0</td>\n",
       "      <td>460.0</td>\n",
       "      <td>509.0</td>\n",
       "      <td>437.0</td>\n",
       "      <td>560.0</td>\n",
       "      <td>...</td>\n",
       "      <td>671.0</td>\n",
       "      <td>653.0</td>\n",
       "      <td>222.0</td>\n",
       "      <td>310.0</td>\n",
       "      <td>166.0</td>\n",
       "      <td>249.0</td>\n",
       "      <td>391.0</td>\n",
       "      <td>277.0</td>\n",
       "      <td>157.0</td>\n",
       "      <td>177.0</td>\n",
       "    </tr>\n",
       "    <tr>\n",
       "      <th>4</th>\n",
       "      <td>763</td>\n",
       "      <td>Blackford County</td>\n",
       "      <td>285.0</td>\n",
       "      <td>114.0</td>\n",
       "      <td>120.0</td>\n",
       "      <td>448.0</td>\n",
       "      <td>698.0</td>\n",
       "      <td>640.0</td>\n",
       "      <td>588.0</td>\n",
       "      <td>800.0</td>\n",
       "      <td>...</td>\n",
       "      <td>918.0</td>\n",
       "      <td>901.0</td>\n",
       "      <td>324.0</td>\n",
       "      <td>591.0</td>\n",
       "      <td>395.0</td>\n",
       "      <td>391.0</td>\n",
       "      <td>580.0</td>\n",
       "      <td>511.0</td>\n",
       "      <td>289.0</td>\n",
       "      <td>284.0</td>\n",
       "    </tr>\n",
       "  </tbody>\n",
       "</table>\n",
       "<p>5 rows × 21 columns</p>\n",
       "</div>"
      ],
      "text/plain": [
       "   Unnamed: 0              County  Pop (18-19)  Pop (20)  Pop (21)  \\\n",
       "0         759        Adams County        780.0     490.0     535.0   \n",
       "1         760        Allen County       9334.0    4671.0    5232.0   \n",
       "2         761  Bartholomew County       1671.0    1035.0     804.0   \n",
       "3         762       Benton County        184.0      64.0     105.0   \n",
       "4         763    Blackford County        285.0     114.0     120.0   \n",
       "\n",
       "   Pop (22-24)  Pop (25-29)  Pop (30-34)  Pop (35-39)  Pop (40-44)  ...  \\\n",
       "0       1117.0       1904.0       2064.0       1864.0       1948.0  ...   \n",
       "1      15024.0      24951.0      24079.0      23368.0      22458.0  ...   \n",
       "2       3146.0       5761.0       5299.0       5000.0       5514.0  ...   \n",
       "3        319.0        460.0        509.0        437.0        560.0  ...   \n",
       "4        448.0        698.0        640.0        588.0        800.0  ...   \n",
       "\n",
       "   Pop (50-54)  Pop (55-59)  Pop (60-61)  Pop (62-64)  Pop (65-66)  \\\n",
       "0       2100.0       2032.0        877.0       1119.0        687.0   \n",
       "1      24523.0      24219.0       8953.0      11838.0       7299.0   \n",
       "2       5308.0       5222.0       1790.0       2898.0       1873.0   \n",
       "3        671.0        653.0        222.0        310.0        166.0   \n",
       "4        918.0        901.0        324.0        591.0        395.0   \n",
       "\n",
       "   Pop (67-69)  Pop (70-74)  Pop (75-79)  Pop (80-84)  Pop (85 and over)  \n",
       "0        868.0       1076.0        881.0        525.0              996.0  \n",
       "1       8902.0      11118.0       7948.0       5969.0             6697.0  \n",
       "2       2127.0       2941.0       2172.0       1500.0             1379.0  \n",
       "3        249.0        391.0        277.0        157.0              177.0  \n",
       "4        391.0        580.0        511.0        289.0              284.0  \n",
       "\n",
       "[5 rows x 21 columns]"
      ]
     },
     "execution_count": 94,
     "metadata": {},
     "output_type": "execute_result"
    }
   ],
   "source": [
    "population_age.head()"
   ]
  },
  {
   "cell_type": "code",
   "execution_count": 95,
   "metadata": {},
   "outputs": [],
   "source": [
    "population_age[\"Total Voting Population\"]=population_age.iloc[:,2:21].sum(axis=1)\n",
    "population_age[\"65 & older\"]=population_age.iloc[:,15:21].sum(axis=1)\n",
    "population_age[\"% 65 & older\"]=(population_age[\"65 & older\"]/population_age[\"Total Voting Population\"])*100\n"
   ]
  },
  {
   "cell_type": "code",
   "execution_count": 96,
   "metadata": {},
   "outputs": [
    {
     "data": {
      "text/html": [
       "<div>\n",
       "<style scoped>\n",
       "    .dataframe tbody tr th:only-of-type {\n",
       "        vertical-align: middle;\n",
       "    }\n",
       "\n",
       "    .dataframe tbody tr th {\n",
       "        vertical-align: top;\n",
       "    }\n",
       "\n",
       "    .dataframe thead th {\n",
       "        text-align: right;\n",
       "    }\n",
       "</style>\n",
       "<table border=\"1\" class=\"dataframe\">\n",
       "  <thead>\n",
       "    <tr style=\"text-align: right;\">\n",
       "      <th></th>\n",
       "      <th>Unnamed: 0</th>\n",
       "      <th>County</th>\n",
       "      <th>Pop (18-19)</th>\n",
       "      <th>Pop (20)</th>\n",
       "      <th>Pop (21)</th>\n",
       "      <th>Pop (22-24)</th>\n",
       "      <th>Pop (25-29)</th>\n",
       "      <th>Pop (30-34)</th>\n",
       "      <th>Pop (35-39)</th>\n",
       "      <th>Pop (40-44)</th>\n",
       "      <th>...</th>\n",
       "      <th>Pop (62-64)</th>\n",
       "      <th>Pop (65-66)</th>\n",
       "      <th>Pop (67-69)</th>\n",
       "      <th>Pop (70-74)</th>\n",
       "      <th>Pop (75-79)</th>\n",
       "      <th>Pop (80-84)</th>\n",
       "      <th>Pop (85 and over)</th>\n",
       "      <th>Total Voting Population</th>\n",
       "      <th>65 &amp; older</th>\n",
       "      <th>% 65 &amp; older</th>\n",
       "    </tr>\n",
       "  </thead>\n",
       "  <tbody>\n",
       "    <tr>\n",
       "      <th>0</th>\n",
       "      <td>759</td>\n",
       "      <td>Adams County</td>\n",
       "      <td>780.0</td>\n",
       "      <td>490.0</td>\n",
       "      <td>535.0</td>\n",
       "      <td>1117.0</td>\n",
       "      <td>1904.0</td>\n",
       "      <td>2064.0</td>\n",
       "      <td>1864.0</td>\n",
       "      <td>1948.0</td>\n",
       "      <td>...</td>\n",
       "      <td>1119.0</td>\n",
       "      <td>687.0</td>\n",
       "      <td>868.0</td>\n",
       "      <td>1076.0</td>\n",
       "      <td>881.0</td>\n",
       "      <td>525.0</td>\n",
       "      <td>996.0</td>\n",
       "      <td>23864.0</td>\n",
       "      <td>5033.0</td>\n",
       "      <td>21.090345</td>\n",
       "    </tr>\n",
       "    <tr>\n",
       "      <th>1</th>\n",
       "      <td>760</td>\n",
       "      <td>Allen County</td>\n",
       "      <td>9334.0</td>\n",
       "      <td>4671.0</td>\n",
       "      <td>5232.0</td>\n",
       "      <td>15024.0</td>\n",
       "      <td>24951.0</td>\n",
       "      <td>24079.0</td>\n",
       "      <td>23368.0</td>\n",
       "      <td>22458.0</td>\n",
       "      <td>...</td>\n",
       "      <td>11838.0</td>\n",
       "      <td>7299.0</td>\n",
       "      <td>8902.0</td>\n",
       "      <td>11118.0</td>\n",
       "      <td>7948.0</td>\n",
       "      <td>5969.0</td>\n",
       "      <td>6697.0</td>\n",
       "      <td>269459.0</td>\n",
       "      <td>47933.0</td>\n",
       "      <td>17.788606</td>\n",
       "    </tr>\n",
       "    <tr>\n",
       "      <th>2</th>\n",
       "      <td>761</td>\n",
       "      <td>Bartholomew County</td>\n",
       "      <td>1671.0</td>\n",
       "      <td>1035.0</td>\n",
       "      <td>804.0</td>\n",
       "      <td>3146.0</td>\n",
       "      <td>5761.0</td>\n",
       "      <td>5299.0</td>\n",
       "      <td>5000.0</td>\n",
       "      <td>5514.0</td>\n",
       "      <td>...</td>\n",
       "      <td>2898.0</td>\n",
       "      <td>1873.0</td>\n",
       "      <td>2127.0</td>\n",
       "      <td>2941.0</td>\n",
       "      <td>2172.0</td>\n",
       "      <td>1500.0</td>\n",
       "      <td>1379.0</td>\n",
       "      <td>60811.0</td>\n",
       "      <td>11992.0</td>\n",
       "      <td>19.720116</td>\n",
       "    </tr>\n",
       "    <tr>\n",
       "      <th>3</th>\n",
       "      <td>762</td>\n",
       "      <td>Benton County</td>\n",
       "      <td>184.0</td>\n",
       "      <td>64.0</td>\n",
       "      <td>105.0</td>\n",
       "      <td>319.0</td>\n",
       "      <td>460.0</td>\n",
       "      <td>509.0</td>\n",
       "      <td>437.0</td>\n",
       "      <td>560.0</td>\n",
       "      <td>...</td>\n",
       "      <td>310.0</td>\n",
       "      <td>166.0</td>\n",
       "      <td>249.0</td>\n",
       "      <td>391.0</td>\n",
       "      <td>277.0</td>\n",
       "      <td>157.0</td>\n",
       "      <td>177.0</td>\n",
       "      <td>6504.0</td>\n",
       "      <td>1417.0</td>\n",
       "      <td>21.786593</td>\n",
       "    </tr>\n",
       "    <tr>\n",
       "      <th>4</th>\n",
       "      <td>763</td>\n",
       "      <td>Blackford County</td>\n",
       "      <td>285.0</td>\n",
       "      <td>114.0</td>\n",
       "      <td>120.0</td>\n",
       "      <td>448.0</td>\n",
       "      <td>698.0</td>\n",
       "      <td>640.0</td>\n",
       "      <td>588.0</td>\n",
       "      <td>800.0</td>\n",
       "      <td>...</td>\n",
       "      <td>591.0</td>\n",
       "      <td>395.0</td>\n",
       "      <td>391.0</td>\n",
       "      <td>580.0</td>\n",
       "      <td>511.0</td>\n",
       "      <td>289.0</td>\n",
       "      <td>284.0</td>\n",
       "      <td>9667.0</td>\n",
       "      <td>2450.0</td>\n",
       "      <td>25.343954</td>\n",
       "    </tr>\n",
       "  </tbody>\n",
       "</table>\n",
       "<p>5 rows × 24 columns</p>\n",
       "</div>"
      ],
      "text/plain": [
       "   Unnamed: 0              County  Pop (18-19)  Pop (20)  Pop (21)  \\\n",
       "0         759        Adams County        780.0     490.0     535.0   \n",
       "1         760        Allen County       9334.0    4671.0    5232.0   \n",
       "2         761  Bartholomew County       1671.0    1035.0     804.0   \n",
       "3         762       Benton County        184.0      64.0     105.0   \n",
       "4         763    Blackford County        285.0     114.0     120.0   \n",
       "\n",
       "   Pop (22-24)  Pop (25-29)  Pop (30-34)  Pop (35-39)  Pop (40-44)  ...  \\\n",
       "0       1117.0       1904.0       2064.0       1864.0       1948.0  ...   \n",
       "1      15024.0      24951.0      24079.0      23368.0      22458.0  ...   \n",
       "2       3146.0       5761.0       5299.0       5000.0       5514.0  ...   \n",
       "3        319.0        460.0        509.0        437.0        560.0  ...   \n",
       "4        448.0        698.0        640.0        588.0        800.0  ...   \n",
       "\n",
       "   Pop (62-64)  Pop (65-66)  Pop (67-69)  Pop (70-74)  Pop (75-79)  \\\n",
       "0       1119.0        687.0        868.0       1076.0        881.0   \n",
       "1      11838.0       7299.0       8902.0      11118.0       7948.0   \n",
       "2       2898.0       1873.0       2127.0       2941.0       2172.0   \n",
       "3        310.0        166.0        249.0        391.0        277.0   \n",
       "4        591.0        395.0        391.0        580.0        511.0   \n",
       "\n",
       "   Pop (80-84)  Pop (85 and over)  Total Voting Population  65 & older  \\\n",
       "0        525.0              996.0                  23864.0      5033.0   \n",
       "1       5969.0             6697.0                 269459.0     47933.0   \n",
       "2       1500.0             1379.0                  60811.0     11992.0   \n",
       "3        157.0              177.0                   6504.0      1417.0   \n",
       "4        289.0              284.0                   9667.0      2450.0   \n",
       "\n",
       "   % 65 & older  \n",
       "0     21.090345  \n",
       "1     17.788606  \n",
       "2     19.720116  \n",
       "3     21.786593  \n",
       "4     25.343954  \n",
       "\n",
       "[5 rows x 24 columns]"
      ]
     },
     "execution_count": 96,
     "metadata": {},
     "output_type": "execute_result"
    }
   ],
   "source": [
    "population_age.head()"
   ]
  },
  {
   "cell_type": "code",
   "execution_count": 97,
   "metadata": {},
   "outputs": [
    {
     "name": "stdout",
     "output_type": "stream",
     "text": [
      "2032.0\n",
      "877.0\n",
      "1119.0\n"
     ]
    }
   ],
   "source": [
    "print(population_age[\"Pop (55-59)\"][0])\n",
    "print(population_age[\"Pop (60-61)\"][0])\n",
    "print(population_age[\"Pop (62-64)\"][0])"
   ]
  },
  {
   "cell_type": "code",
   "execution_count": null,
   "metadata": {},
   "outputs": [],
   "source": []
  },
  {
   "cell_type": "code",
   "execution_count": 188,
   "metadata": {
    "scrolled": false
   },
   "outputs": [
    {
     "name": "stdout",
     "output_type": "stream",
     "text": [
      "The r-squared is: 0.5358310052769388\n",
      "y = 0.02x + 0.26\n"
     ]
    },
    {
     "data": {
      "image/png": "[encoded data removed]",
      "text/plain": [
       "<Figure size 432x288 with 1 Axes>"
      ]
     },
     "metadata": {
      "needs_background": "light"
     },
     "output_type": "display_data"
    }
   ],
   "source": [
    "#create a scatterplot for % 65 and older vs %Republican vote\n",
    "plt.scatter(population_age[\"% 65 & older\"],election[\"GOP %\"],s=pop_reduced*10000, alpha=0.5);\n",
    "plt.xlabel(\"Percentage of Population 65 and Over\",weight=\"bold\",fontsize=15);\n",
    "plt.ylabel(\"Percentage of GOP Vote\",weight=\"bold\",fontsize=15);\n",
    "plt.title(\"Percentage of Population 65 & Over vs Percent GOP Vote\",weight=\"bold\",fontsize=15);\n",
    "\n",
    "a=20\n",
    "b=0.3\n",
    "LinearRegression(population_age[\"% 65 & older\"],election[\"GOP %\"])\n",
    "\n",
    "\n",
    "plt.annotate(f\"R-squared = 0.536\",(20,0.25),fontsize=15,color='red');\n",
    "plt.savefig('over_sixtyfive_GOP.png')"
   ]
  },
  {
   "cell_type": "markdown",
   "metadata": {},
   "source": [
    "according to:\n",
    "https://www.census.gov/newsroom/blogs/random-samplings/2017/05/voting_in_america.html![image.png](attachment:image.png)\n",
    "\n",
    "**Voting Rates**\n",
    "\n",
    "- 18-29 year olds: 46.1%\n",
    "- 30-44 year olds: 58.7%\n",
    "- 45-64 year olds: 66.6%\n",
    "- 65 years and oldes: 70.9%\n"
   ]
  },
  {
   "cell_type": "code",
   "execution_count": 99,
   "metadata": {},
   "outputs": [
    {
     "data": {
      "text/html": [
       "<div>\n",
       "<style scoped>\n",
       "    .dataframe tbody tr th:only-of-type {\n",
       "        vertical-align: middle;\n",
       "    }\n",
       "\n",
       "    .dataframe tbody tr th {\n",
       "        vertical-align: top;\n",
       "    }\n",
       "\n",
       "    .dataframe thead th {\n",
       "        text-align: right;\n",
       "    }\n",
       "</style>\n",
       "<table border=\"1\" class=\"dataframe\">\n",
       "  <thead>\n",
       "    <tr style=\"text-align: right;\">\n",
       "      <th></th>\n",
       "      <th>Unnamed: 0</th>\n",
       "      <th>State</th>\n",
       "      <th>County</th>\n",
       "      <th>Female (18-19)</th>\n",
       "      <th>Female (20)</th>\n",
       "      <th>Female (21)</th>\n",
       "      <th>Female (22-24)</th>\n",
       "      <th>Female (25-29)</th>\n",
       "      <th>Female (30-34)</th>\n",
       "      <th>Female (35-39)</th>\n",
       "      <th>...</th>\n",
       "      <th>Male (55-59)</th>\n",
       "      <th>Male (60-61)</th>\n",
       "      <th>Male (62-64)</th>\n",
       "      <th>Male (65-66)</th>\n",
       "      <th>Male (67-69)</th>\n",
       "      <th>Male (70-74)</th>\n",
       "      <th>Male (75-79)</th>\n",
       "      <th>Male (80-84)</th>\n",
       "      <th>Male (85 and over)</th>\n",
       "      <th>Pop (18-19)</th>\n",
       "    </tr>\n",
       "  </thead>\n",
       "  <tbody>\n",
       "    <tr>\n",
       "      <th>0</th>\n",
       "      <td>759</td>\n",
       "      <td>Indiana</td>\n",
       "      <td>Adams County</td>\n",
       "      <td>362.0</td>\n",
       "      <td>145.0</td>\n",
       "      <td>250.0</td>\n",
       "      <td>644.0</td>\n",
       "      <td>951.0</td>\n",
       "      <td>971.0</td>\n",
       "      <td>921.0</td>\n",
       "      <td>...</td>\n",
       "      <td>994.0</td>\n",
       "      <td>397.0</td>\n",
       "      <td>572.0</td>\n",
       "      <td>337.0</td>\n",
       "      <td>335.0</td>\n",
       "      <td>536.0</td>\n",
       "      <td>451.0</td>\n",
       "      <td>194.0</td>\n",
       "      <td>277.0</td>\n",
       "      <td>780.0</td>\n",
       "    </tr>\n",
       "    <tr>\n",
       "      <th>1</th>\n",
       "      <td>760</td>\n",
       "      <td>Indiana</td>\n",
       "      <td>Allen County</td>\n",
       "      <td>4552.0</td>\n",
       "      <td>2281.0</td>\n",
       "      <td>2508.0</td>\n",
       "      <td>7806.0</td>\n",
       "      <td>12736.0</td>\n",
       "      <td>12169.0</td>\n",
       "      <td>11963.0</td>\n",
       "      <td>...</td>\n",
       "      <td>11663.0</td>\n",
       "      <td>4438.0</td>\n",
       "      <td>5673.0</td>\n",
       "      <td>3468.0</td>\n",
       "      <td>4189.0</td>\n",
       "      <td>4994.0</td>\n",
       "      <td>3427.0</td>\n",
       "      <td>2335.0</td>\n",
       "      <td>2145.0</td>\n",
       "      <td>9334.0</td>\n",
       "    </tr>\n",
       "    <tr>\n",
       "      <th>2</th>\n",
       "      <td>761</td>\n",
       "      <td>Indiana</td>\n",
       "      <td>Bartholomew County</td>\n",
       "      <td>733.0</td>\n",
       "      <td>540.0</td>\n",
       "      <td>332.0</td>\n",
       "      <td>1488.0</td>\n",
       "      <td>2671.0</td>\n",
       "      <td>2482.0</td>\n",
       "      <td>2691.0</td>\n",
       "      <td>...</td>\n",
       "      <td>2376.0</td>\n",
       "      <td>1000.0</td>\n",
       "      <td>1428.0</td>\n",
       "      <td>804.0</td>\n",
       "      <td>1094.0</td>\n",
       "      <td>1359.0</td>\n",
       "      <td>943.0</td>\n",
       "      <td>633.0</td>\n",
       "      <td>437.0</td>\n",
       "      <td>1671.0</td>\n",
       "    </tr>\n",
       "    <tr>\n",
       "      <th>3</th>\n",
       "      <td>762</td>\n",
       "      <td>Indiana</td>\n",
       "      <td>Benton County</td>\n",
       "      <td>85.0</td>\n",
       "      <td>30.0</td>\n",
       "      <td>55.0</td>\n",
       "      <td>127.0</td>\n",
       "      <td>216.0</td>\n",
       "      <td>258.0</td>\n",
       "      <td>210.0</td>\n",
       "      <td>...</td>\n",
       "      <td>332.0</td>\n",
       "      <td>104.0</td>\n",
       "      <td>158.0</td>\n",
       "      <td>77.0</td>\n",
       "      <td>129.0</td>\n",
       "      <td>179.0</td>\n",
       "      <td>141.0</td>\n",
       "      <td>54.0</td>\n",
       "      <td>39.0</td>\n",
       "      <td>184.0</td>\n",
       "    </tr>\n",
       "    <tr>\n",
       "      <th>4</th>\n",
       "      <td>763</td>\n",
       "      <td>Indiana</td>\n",
       "      <td>Blackford County</td>\n",
       "      <td>147.0</td>\n",
       "      <td>29.0</td>\n",
       "      <td>53.0</td>\n",
       "      <td>238.0</td>\n",
       "      <td>331.0</td>\n",
       "      <td>319.0</td>\n",
       "      <td>326.0</td>\n",
       "      <td>...</td>\n",
       "      <td>456.0</td>\n",
       "      <td>160.0</td>\n",
       "      <td>273.0</td>\n",
       "      <td>219.0</td>\n",
       "      <td>187.0</td>\n",
       "      <td>256.0</td>\n",
       "      <td>202.0</td>\n",
       "      <td>106.0</td>\n",
       "      <td>97.0</td>\n",
       "      <td>285.0</td>\n",
       "    </tr>\n",
       "  </tbody>\n",
       "</table>\n",
       "<p>5 rows × 42 columns</p>\n",
       "</div>"
      ],
      "text/plain": [
       "   Unnamed: 0    State              County  Female (18-19)  Female (20)  \\\n",
       "0         759  Indiana        Adams County           362.0        145.0   \n",
       "1         760  Indiana        Allen County          4552.0       2281.0   \n",
       "2         761  Indiana  Bartholomew County           733.0        540.0   \n",
       "3         762  Indiana       Benton County            85.0         30.0   \n",
       "4         763  Indiana    Blackford County           147.0         29.0   \n",
       "\n",
       "   Female (21)  Female (22-24)  Female (25-29)  Female (30-34)  \\\n",
       "0        250.0           644.0           951.0           971.0   \n",
       "1       2508.0          7806.0         12736.0         12169.0   \n",
       "2        332.0          1488.0          2671.0          2482.0   \n",
       "3         55.0           127.0           216.0           258.0   \n",
       "4         53.0           238.0           331.0           319.0   \n",
       "\n",
       "   Female (35-39)  ...  Male (55-59)  Male (60-61)  Male (62-64)  \\\n",
       "0           921.0  ...         994.0         397.0         572.0   \n",
       "1         11963.0  ...       11663.0        4438.0        5673.0   \n",
       "2          2691.0  ...        2376.0        1000.0        1428.0   \n",
       "3           210.0  ...         332.0         104.0         158.0   \n",
       "4           326.0  ...         456.0         160.0         273.0   \n",
       "\n",
       "   Male (65-66)  Male (67-69)  Male (70-74)  Male (75-79)  Male (80-84)  \\\n",
       "0         337.0         335.0         536.0         451.0         194.0   \n",
       "1        3468.0        4189.0        4994.0        3427.0        2335.0   \n",
       "2         804.0        1094.0        1359.0         943.0         633.0   \n",
       "3          77.0         129.0         179.0         141.0          54.0   \n",
       "4         219.0         187.0         256.0         202.0         106.0   \n",
       "\n",
       "   Male (85 and over)  Pop (18-19)  \n",
       "0               277.0        780.0  \n",
       "1              2145.0       9334.0  \n",
       "2               437.0       1671.0  \n",
       "3                39.0        184.0  \n",
       "4                97.0        285.0  \n",
       "\n",
       "[5 rows x 42 columns]"
      ]
     },
     "execution_count": 99,
     "metadata": {},
     "output_type": "execute_result"
    }
   ],
   "source": [
    "path='indiana_ages.csv'\n",
    "ages_sex=pd.read_csv(path)\n",
    "ages_sex.head()"
   ]
  },
  {
   "cell_type": "code",
   "execution_count": null,
   "metadata": {},
   "outputs": [],
   "source": []
  },
  {
   "cell_type": "code",
   "execution_count": 204,
   "metadata": {},
   "outputs": [
    {
     "data": {
      "text/html": [
       "<div>\n",
       "<style scoped>\n",
       "    .dataframe tbody tr th:only-of-type {\n",
       "        vertical-align: middle;\n",
       "    }\n",
       "\n",
       "    .dataframe tbody tr th {\n",
       "        vertical-align: top;\n",
       "    }\n",
       "\n",
       "    .dataframe thead th {\n",
       "        text-align: right;\n",
       "    }\n",
       "</style>\n",
       "<table border=\"1\" class=\"dataframe\">\n",
       "  <thead>\n",
       "    <tr style=\"text-align: right;\">\n",
       "      <th></th>\n",
       "      <th>Unnamed: 0</th>\n",
       "      <th>County</th>\n",
       "      <th>Pop (18-19)</th>\n",
       "      <th>Pop (20)</th>\n",
       "      <th>Pop (21)</th>\n",
       "      <th>Pop (22-24)</th>\n",
       "      <th>Pop (25-29)</th>\n",
       "      <th>Pop (30-34)</th>\n",
       "      <th>Pop (35-39)</th>\n",
       "      <th>Pop (40-44)</th>\n",
       "      <th>...</th>\n",
       "      <th>Pop (50-54)</th>\n",
       "      <th>Pop (55-59)</th>\n",
       "      <th>Pop (60-61)</th>\n",
       "      <th>Pop (62-64)</th>\n",
       "      <th>Pop (65-66)</th>\n",
       "      <th>Pop (67-69)</th>\n",
       "      <th>Pop (70-74)</th>\n",
       "      <th>Pop (75-79)</th>\n",
       "      <th>Pop (80-84)</th>\n",
       "      <th>Pop (85 and over)</th>\n",
       "    </tr>\n",
       "  </thead>\n",
       "  <tbody>\n",
       "    <tr>\n",
       "      <th>0</th>\n",
       "      <td>759</td>\n",
       "      <td>Adams County</td>\n",
       "      <td>780.0</td>\n",
       "      <td>490.0</td>\n",
       "      <td>535.0</td>\n",
       "      <td>1117.0</td>\n",
       "      <td>1904.0</td>\n",
       "      <td>2064.0</td>\n",
       "      <td>1864.0</td>\n",
       "      <td>1948.0</td>\n",
       "      <td>...</td>\n",
       "      <td>2100.0</td>\n",
       "      <td>2032.0</td>\n",
       "      <td>877.0</td>\n",
       "      <td>1119.0</td>\n",
       "      <td>687.0</td>\n",
       "      <td>868.0</td>\n",
       "      <td>1076.0</td>\n",
       "      <td>881.0</td>\n",
       "      <td>525.0</td>\n",
       "      <td>996.0</td>\n",
       "    </tr>\n",
       "    <tr>\n",
       "      <th>1</th>\n",
       "      <td>760</td>\n",
       "      <td>Allen County</td>\n",
       "      <td>9334.0</td>\n",
       "      <td>4671.0</td>\n",
       "      <td>5232.0</td>\n",
       "      <td>15024.0</td>\n",
       "      <td>24951.0</td>\n",
       "      <td>24079.0</td>\n",
       "      <td>23368.0</td>\n",
       "      <td>22458.0</td>\n",
       "      <td>...</td>\n",
       "      <td>24523.0</td>\n",
       "      <td>24219.0</td>\n",
       "      <td>8953.0</td>\n",
       "      <td>11838.0</td>\n",
       "      <td>7299.0</td>\n",
       "      <td>8902.0</td>\n",
       "      <td>11118.0</td>\n",
       "      <td>7948.0</td>\n",
       "      <td>5969.0</td>\n",
       "      <td>6697.0</td>\n",
       "    </tr>\n",
       "    <tr>\n",
       "      <th>2</th>\n",
       "      <td>761</td>\n",
       "      <td>Bartholomew County</td>\n",
       "      <td>1671.0</td>\n",
       "      <td>1035.0</td>\n",
       "      <td>804.0</td>\n",
       "      <td>3146.0</td>\n",
       "      <td>5761.0</td>\n",
       "      <td>5299.0</td>\n",
       "      <td>5000.0</td>\n",
       "      <td>5514.0</td>\n",
       "      <td>...</td>\n",
       "      <td>5308.0</td>\n",
       "      <td>5222.0</td>\n",
       "      <td>1790.0</td>\n",
       "      <td>2898.0</td>\n",
       "      <td>1873.0</td>\n",
       "      <td>2127.0</td>\n",
       "      <td>2941.0</td>\n",
       "      <td>2172.0</td>\n",
       "      <td>1500.0</td>\n",
       "      <td>1379.0</td>\n",
       "    </tr>\n",
       "    <tr>\n",
       "      <th>3</th>\n",
       "      <td>762</td>\n",
       "      <td>Benton County</td>\n",
       "      <td>184.0</td>\n",
       "      <td>64.0</td>\n",
       "      <td>105.0</td>\n",
       "      <td>319.0</td>\n",
       "      <td>460.0</td>\n",
       "      <td>509.0</td>\n",
       "      <td>437.0</td>\n",
       "      <td>560.0</td>\n",
       "      <td>...</td>\n",
       "      <td>671.0</td>\n",
       "      <td>653.0</td>\n",
       "      <td>222.0</td>\n",
       "      <td>310.0</td>\n",
       "      <td>166.0</td>\n",
       "      <td>249.0</td>\n",
       "      <td>391.0</td>\n",
       "      <td>277.0</td>\n",
       "      <td>157.0</td>\n",
       "      <td>177.0</td>\n",
       "    </tr>\n",
       "    <tr>\n",
       "      <th>4</th>\n",
       "      <td>763</td>\n",
       "      <td>Blackford County</td>\n",
       "      <td>285.0</td>\n",
       "      <td>114.0</td>\n",
       "      <td>120.0</td>\n",
       "      <td>448.0</td>\n",
       "      <td>698.0</td>\n",
       "      <td>640.0</td>\n",
       "      <td>588.0</td>\n",
       "      <td>800.0</td>\n",
       "      <td>...</td>\n",
       "      <td>918.0</td>\n",
       "      <td>901.0</td>\n",
       "      <td>324.0</td>\n",
       "      <td>591.0</td>\n",
       "      <td>395.0</td>\n",
       "      <td>391.0</td>\n",
       "      <td>580.0</td>\n",
       "      <td>511.0</td>\n",
       "      <td>289.0</td>\n",
       "      <td>284.0</td>\n",
       "    </tr>\n",
       "  </tbody>\n",
       "</table>\n",
       "<p>5 rows × 21 columns</p>\n",
       "</div>"
      ],
      "text/plain": [
       "   Unnamed: 0              County  Pop (18-19)  Pop (20)  Pop (21)  \\\n",
       "0         759        Adams County        780.0     490.0     535.0   \n",
       "1         760        Allen County       9334.0    4671.0    5232.0   \n",
       "2         761  Bartholomew County       1671.0    1035.0     804.0   \n",
       "3         762       Benton County        184.0      64.0     105.0   \n",
       "4         763    Blackford County        285.0     114.0     120.0   \n",
       "\n",
       "   Pop (22-24)  Pop (25-29)  Pop (30-34)  Pop (35-39)  Pop (40-44)  ...  \\\n",
       "0       1117.0       1904.0       2064.0       1864.0       1948.0  ...   \n",
       "1      15024.0      24951.0      24079.0      23368.0      22458.0  ...   \n",
       "2       3146.0       5761.0       5299.0       5000.0       5514.0  ...   \n",
       "3        319.0        460.0        509.0        437.0        560.0  ...   \n",
       "4        448.0        698.0        640.0        588.0        800.0  ...   \n",
       "\n",
       "   Pop (50-54)  Pop (55-59)  Pop (60-61)  Pop (62-64)  Pop (65-66)  \\\n",
       "0       2100.0       2032.0        877.0       1119.0        687.0   \n",
       "1      24523.0      24219.0       8953.0      11838.0       7299.0   \n",
       "2       5308.0       5222.0       1790.0       2898.0       1873.0   \n",
       "3        671.0        653.0        222.0        310.0        166.0   \n",
       "4        918.0        901.0        324.0        591.0        395.0   \n",
       "\n",
       "   Pop (67-69)  Pop (70-74)  Pop (75-79)  Pop (80-84)  Pop (85 and over)  \n",
       "0        868.0       1076.0        881.0        525.0              996.0  \n",
       "1       8902.0      11118.0       7948.0       5969.0             6697.0  \n",
       "2       2127.0       2941.0       2172.0       1500.0             1379.0  \n",
       "3        249.0        391.0        277.0        157.0              177.0  \n",
       "4        391.0        580.0        511.0        289.0              284.0  \n",
       "\n",
       "[5 rows x 21 columns]"
      ]
     },
     "execution_count": 204,
     "metadata": {},
     "output_type": "execute_result"
    }
   ],
   "source": [
    "total_pop='indiana_pop_age.csv'\n",
    "indiana_pop_ages=pd.read_csv(total_pop)\n",
    "indiana_pop_ages.head()"
   ]
  },
  {
   "cell_type": "code",
   "execution_count": 218,
   "metadata": {},
   "outputs": [
    {
     "data": {
      "text/plain": [
       "'Daviess County'"
      ]
     },
     "execution_count": 218,
     "metadata": {},
     "output_type": "execute_result"
    }
   ],
   "source": [
    "#Plot Population vs Age categories for Marion vs Daviess counties...is the distribution the same??\n",
    "#isolate data for Marion County\n",
    "marion_county_ages=indiana_pop_ages.loc[indiana_pop_ages[\"County\"]==\"Marion County\"].values.flatten().tolist()\n",
    "marion_county_ages.pop(0)\n",
    "marion_county_ages.pop(0)\n",
    "#marion_county_ages\n",
    "daviess_county_ages=indiana_pop_ages.loc[indiana_pop_ages[\"County\"]==\"Daviess County\"].values.flatten().tolist()\n",
    "daviess_county_ages.pop(0)\n",
    "daviess_county_ages.pop(0)\n",
    "#daviess_county_ages"
   ]
  },
  {
   "cell_type": "code",
   "execution_count": 220,
   "metadata": {},
   "outputs": [],
   "source": [
    "categories=[\"18-19\",\"20\",\"21\",\"22-24\",\"25-29\",\"30-34\",\"35-39\",\"40-44\",\"45-49\",\"50-54\",\"55-59\",\"60-61\",\n",
    "           \"62-64\",\"65-66\",\"67-69\",\"70-74\",\"75-79\",\"80-84\",\"85 & over\"]\n"
   ]
  },
  {
   "cell_type": "code",
   "execution_count": 221,
   "metadata": {},
   "outputs": [
    {
     "data": {
      "image/png": "[encoded data removed]",
      "text/plain": [
       "<Figure size 432x288 with 1 Axes>"
      ]
     },
     "metadata": {
      "needs_background": "light"
     },
     "output_type": "display_data"
    }
   ],
   "source": [
    "marion_daviess=pd.DataFrame(np.c_[marion_county_ages,daviess_county_ages],index=categories)\n",
    "marion_daviess.plot.bar();"
   ]
  },
  {
   "cell_type": "code",
   "execution_count": 226,
   "metadata": {
    "scrolled": true
   },
   "outputs": [
    {
     "data": {
      "text/plain": [
       "array([ 1,  2,  3,  4,  5,  6,  7,  8,  9, 10, 11, 12, 13, 14, 15, 16, 17,\n",
       "       18, 19])"
      ]
     },
     "execution_count": 226,
     "metadata": {},
     "output_type": "execute_result"
    }
   ],
   "source": [
    "x_values=np.arange(1,len(marion_county_ages)+1,1)\n",
    "#plt.()\n",
    "x_values"
   ]
  },
  {
   "cell_type": "code",
   "execution_count": 228,
   "metadata": {},
   "outputs": [
    {
     "data": {
      "image/png": "[encoded data removed]",
      "text/plain": [
       "<Figure size 432x288 with 1 Axes>"
      ]
     },
     "metadata": {
      "needs_background": "light"
     },
     "output_type": "display_data"
    }
   ],
   "source": [
    "plt.plot(x_values,marion_county_ages);\n",
    "plt.plot(x_values,daviess_county_ages);"
   ]
  },
  {
   "cell_type": "code",
   "execution_count": 250,
   "metadata": {},
   "outputs": [],
   "source": [
    "marion_reduced=[]\n",
    "for item in marion_county_ages:\n",
    "    reduced=item/25\n",
    "    marion_reduced.append(reduced)\n",
    "    \n",
    "marion_population=election[\"Total Population\"][48]\n",
    "daviess_population=election[\"Total Population\"][13]\n"
   ]
  },
  {
   "cell_type": "markdown",
   "metadata": {},
   "source": [
    "**Total Population**\n",
    "- Marion County: 932,142\n",
    "- Daviess County: 32,583"
   ]
  },
  {
   "cell_type": "code",
   "execution_count": 268,
   "metadata": {
    "scrolled": false
   },
   "outputs": [
    {
     "data": {
      "image/png": "[encoded data removed]",
      "text/plain": [
       "<Figure size 432x288 with 1 Axes>"
      ]
     },
     "metadata": {
      "needs_background": "light"
     },
     "output_type": "display_data"
    }
   ],
   "source": [
    "marion_county,=plt.plot(x_values,marion_reduced,label=\"Marion County (/25)\");\n",
    "daviess_county,=plt.plot(x_values,daviess_county_ages,label=\"Daviess County\");\n",
    "plt.xticks(x_values, categories, rotation='vertical');\n",
    "plt.legend(handles=[marion_county, daviess_county], loc=\"best\");\n",
    "plt.xlabel(\"Age (years)\",weight=\"bold\",fontsize=12);\n",
    "plt.ylabel(\"Population per Age Group\",weight=\"bold\",fontsize=12);\n",
    "plt.savefig('marion_daviess_ages.png')"
   ]
  },
  {
   "cell_type": "code",
   "execution_count": null,
   "metadata": {},
   "outputs": [],
   "source": []
  },
  {
   "cell_type": "code",
   "execution_count": 266,
   "metadata": {},
   "outputs": [
    {
     "data": {
      "text/plain": [
       "'Monroe County'"
      ]
     },
     "execution_count": 266,
     "metadata": {},
     "output_type": "execute_result"
    }
   ],
   "source": [
    "#isolate data for Marion County\n",
    "tippecanoe_county_ages=indiana_pop_ages.loc[indiana_pop_ages[\"County\"]==\"Tippecanoe County\"].values.flatten().tolist()\n",
    "tippecanoe_county_ages.pop(0)\n",
    "tippecanoe_county_ages.pop(0)\n",
    "#tippecanoe_county_ages\n",
    "monroe_county_ages=indiana_pop_ages.loc[indiana_pop_ages[\"County\"]==\"Monroe County\"].values.flatten().tolist()\n",
    "monroe_county_ages.pop(0)\n",
    "monroe_county_ages.pop(0)\n",
    "#daviess_county_ages"
   ]
  },
  {
   "cell_type": "markdown",
   "metadata": {},
   "source": [
    "**Total Population**\n",
    "- Tippecanoe County: 143,292\n",
    "- Monroe County: 183,397"
   ]
  },
  {
   "cell_type": "code",
   "execution_count": 269,
   "metadata": {
    "scrolled": true
   },
   "outputs": [
    {
     "data": {
      "image/png": "[encoded data removed]",
      "text/plain": [
       "<Figure size 432x288 with 1 Axes>"
      ]
     },
     "metadata": {
      "needs_background": "light"
     },
     "output_type": "display_data"
    }
   ],
   "source": [
    "tippecanoe_county,=plt.plot(x_values,tippecanoe_county_ages,label=\"Tippecanoe County\");\n",
    "monroe_county,=plt.plot(x_values,monroe_county_ages,label=\"Monroe County\");\n",
    "plt.xticks(x_values, categories, rotation='vertical');\n",
    "plt.legend(handles=[tippecanoe_county, monroe_county], loc=\"best\");\n",
    "plt.xlabel(\"Age (years)\",weight=\"bold\",fontsize=12);\n",
    "plt.ylabel(\"Population per Age Group\",weight=\"bold\",fontsize=12);\n",
    "plt.savefig('tippecanoe_monroe_ages.png')"
   ]
  },
  {
   "cell_type": "code",
   "execution_count": null,
   "metadata": {},
   "outputs": [],
   "source": []
  }
 ],
 "metadata": {
  "kernelspec": {
   "display_name": "Python [conda env:PythonData] *",
   "language": "python",
   "name": "conda-env-PythonData-py"
  },
  "language_info": {
   "codemirror_mode": {
    "name": "ipython",
    "version": 3
   },
   "file_extension": ".py",
   "mimetype": "text/x-python",
   "name": "python",
   "nbconvert_exporter": "python",
   "pygments_lexer": "ipython3",
   "version": "3.7.5"
  }
 },
 "nbformat": 4,
 "nbformat_minor": 2
}
