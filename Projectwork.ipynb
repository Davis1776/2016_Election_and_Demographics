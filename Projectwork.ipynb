{
 "cells": [
  {
   "cell_type": "markdown",
   "metadata": {},
   "source": [
    "**American Community Survey**\n",
    "- Five year estimate is the mean of the previous 60 months, so 2016 data is mean of 2012-2016\n",
    "- Chosen because data is available for tracts of land with smaller populations....not all data is available in the one year survey because populations under 20,000 are excluded.  This includes several counties in Indiana.\n",
    "- Largest sample size of the 1-year,3-year, and 5-year estimates\n",
    "- most reliable\n",
    "- drawback: least current\n",
    "- https://www.census.gov/programs-surveys/acs/guidance/estimates.html\n",
    "- https://www.census.gov/programs-surveys/acs/methodology.html\n",
    "- The American Community Survey (ACS) is a national survey that uses continuous measurement methods. In this survey, a series of monthly samples produce annual estimates for the same small areas (census tracts and block groups) formerly surveyed via the decennial census long-form sample.\n",
    "- https://www.census.gov/programs-surveys/acs/methodology.html\n",
    "    - about 3.5 million households surveyed each year\n",
    "    -internet, mail, telephone, personal visit\n"
   ]
  },
  {
   "cell_type": "markdown",
   "metadata": {},
   "source": [
    "We have exit poll results - if Michael addresses the modeling aspect.  These results were summarized from cnn.\n",
    "\n"
   ]
  },
  {
   "cell_type": "markdown",
   "metadata": {},
   "source": [
    "**Harvard Dataverse**\n",
    "- https://dataverse.harvard.edu/file.xhtml?persistentId=doi:10.7910/DVN/VOQCHQ/HEIJCQ&version=6.0\n",
    "- maintained by MIT Election Data and Science Lab"
   ]
  },
  {
   "cell_type": "code",
   "execution_count": 2,
   "metadata": {
    "scrolled": true
   },
   "outputs": [
    {
     "data": {
      "text/html": [
       "<div>\n",
       "<style scoped>\n",
       "    .dataframe tbody tr th:only-of-type {\n",
       "        vertical-align: middle;\n",
       "    }\n",
       "\n",
       "    .dataframe tbody tr th {\n",
       "        vertical-align: top;\n",
       "    }\n",
       "\n",
       "    .dataframe thead th {\n",
       "        text-align: right;\n",
       "    }\n",
       "</style>\n",
       "<table border=\"1\" class=\"dataframe\">\n",
       "  <thead>\n",
       "    <tr style=\"text-align: right;\">\n",
       "      <th></th>\n",
       "      <th>Unnamed: 0</th>\n",
       "      <th>votes_dem</th>\n",
       "      <th>votes_gop</th>\n",
       "      <th>total_votes</th>\n",
       "      <th>per_dem</th>\n",
       "      <th>per_gop</th>\n",
       "      <th>diff</th>\n",
       "      <th>per_point_diff</th>\n",
       "      <th>state_abbr</th>\n",
       "      <th>county_name</th>\n",
       "      <th>combined_fips</th>\n",
       "    </tr>\n",
       "  </thead>\n",
       "  <tbody>\n",
       "    <tr>\n",
       "      <th>0</th>\n",
       "      <td>0</td>\n",
       "      <td>93003.0</td>\n",
       "      <td>130413.0</td>\n",
       "      <td>246588.0</td>\n",
       "      <td>0.377159</td>\n",
       "      <td>0.52887</td>\n",
       "      <td>37,410</td>\n",
       "      <td>15.17%</td>\n",
       "      <td>AK</td>\n",
       "      <td>Alaska</td>\n",
       "      <td>2013</td>\n",
       "    </tr>\n",
       "    <tr>\n",
       "      <th>1</th>\n",
       "      <td>1</td>\n",
       "      <td>93003.0</td>\n",
       "      <td>130413.0</td>\n",
       "      <td>246588.0</td>\n",
       "      <td>0.377159</td>\n",
       "      <td>0.52887</td>\n",
       "      <td>37,410</td>\n",
       "      <td>15.17%</td>\n",
       "      <td>AK</td>\n",
       "      <td>Alaska</td>\n",
       "      <td>2016</td>\n",
       "    </tr>\n",
       "    <tr>\n",
       "      <th>2</th>\n",
       "      <td>2</td>\n",
       "      <td>93003.0</td>\n",
       "      <td>130413.0</td>\n",
       "      <td>246588.0</td>\n",
       "      <td>0.377159</td>\n",
       "      <td>0.52887</td>\n",
       "      <td>37,410</td>\n",
       "      <td>15.17%</td>\n",
       "      <td>AK</td>\n",
       "      <td>Alaska</td>\n",
       "      <td>2020</td>\n",
       "    </tr>\n",
       "    <tr>\n",
       "      <th>3</th>\n",
       "      <td>3</td>\n",
       "      <td>93003.0</td>\n",
       "      <td>130413.0</td>\n",
       "      <td>246588.0</td>\n",
       "      <td>0.377159</td>\n",
       "      <td>0.52887</td>\n",
       "      <td>37,410</td>\n",
       "      <td>15.17%</td>\n",
       "      <td>AK</td>\n",
       "      <td>Alaska</td>\n",
       "      <td>2050</td>\n",
       "    </tr>\n",
       "    <tr>\n",
       "      <th>4</th>\n",
       "      <td>4</td>\n",
       "      <td>93003.0</td>\n",
       "      <td>130413.0</td>\n",
       "      <td>246588.0</td>\n",
       "      <td>0.377159</td>\n",
       "      <td>0.52887</td>\n",
       "      <td>37,410</td>\n",
       "      <td>15.17%</td>\n",
       "      <td>AK</td>\n",
       "      <td>Alaska</td>\n",
       "      <td>2060</td>\n",
       "    </tr>\n",
       "  </tbody>\n",
       "</table>\n",
       "</div>"
      ],
      "text/plain": [
       "   Unnamed: 0  votes_dem  votes_gop  total_votes   per_dem  per_gop    diff  \\\n",
       "0           0    93003.0   130413.0     246588.0  0.377159  0.52887  37,410   \n",
       "1           1    93003.0   130413.0     246588.0  0.377159  0.52887  37,410   \n",
       "2           2    93003.0   130413.0     246588.0  0.377159  0.52887  37,410   \n",
       "3           3    93003.0   130413.0     246588.0  0.377159  0.52887  37,410   \n",
       "4           4    93003.0   130413.0     246588.0  0.377159  0.52887  37,410   \n",
       "\n",
       "  per_point_diff state_abbr county_name  combined_fips  \n",
       "0         15.17%         AK      Alaska           2013  \n",
       "1         15.17%         AK      Alaska           2016  \n",
       "2         15.17%         AK      Alaska           2020  \n",
       "3         15.17%         AK      Alaska           2050  \n",
       "4         15.17%         AK      Alaska           2060  "
      ]
     },
     "execution_count": 2,
     "metadata": {},
     "output_type": "execute_result"
    }
   ],
   "source": [
    "import pandas as pd\n",
    "import numpy as np\n",
    "import requests\n",
    "import json\n",
    "csvpath='2016_US_County_Level_Presidential_Results.csv'\n",
    "election_results=pd.read_csv(csvpath)\n",
    "election_results.head()"
   ]
  },
  {
   "cell_type": "code",
   "execution_count": 3,
   "metadata": {},
   "outputs": [
    {
     "data": {
      "text/html": [
       "<div>\n",
       "<style scoped>\n",
       "    .dataframe tbody tr th:only-of-type {\n",
       "        vertical-align: middle;\n",
       "    }\n",
       "\n",
       "    .dataframe tbody tr th {\n",
       "        vertical-align: top;\n",
       "    }\n",
       "\n",
       "    .dataframe thead th {\n",
       "        text-align: right;\n",
       "    }\n",
       "</style>\n",
       "<table border=\"1\" class=\"dataframe\">\n",
       "  <thead>\n",
       "    <tr style=\"text-align: right;\">\n",
       "      <th></th>\n",
       "      <th>Unnamed: 0</th>\n",
       "      <th>votes_dem</th>\n",
       "      <th>votes_gop</th>\n",
       "      <th>total_votes</th>\n",
       "      <th>per_dem</th>\n",
       "      <th>per_gop</th>\n",
       "      <th>diff</th>\n",
       "      <th>per_point_diff</th>\n",
       "      <th>state_abbr</th>\n",
       "      <th>county_name</th>\n",
       "      <th>combined_fips</th>\n",
       "    </tr>\n",
       "  </thead>\n",
       "  <tbody>\n",
       "    <tr>\n",
       "      <th>795</th>\n",
       "      <td>795</td>\n",
       "      <td>2802.0</td>\n",
       "      <td>9642.0</td>\n",
       "      <td>13039.0</td>\n",
       "      <td>0.214894</td>\n",
       "      <td>0.739474</td>\n",
       "      <td>6,840</td>\n",
       "      <td>52.46%</td>\n",
       "      <td>IN</td>\n",
       "      <td>Adams County</td>\n",
       "      <td>18001</td>\n",
       "    </tr>\n",
       "    <tr>\n",
       "      <th>796</th>\n",
       "      <td>796</td>\n",
       "      <td>55222.0</td>\n",
       "      <td>83801.0</td>\n",
       "      <td>145787.0</td>\n",
       "      <td>0.378785</td>\n",
       "      <td>0.574818</td>\n",
       "      <td>28,579</td>\n",
       "      <td>19.60%</td>\n",
       "      <td>IN</td>\n",
       "      <td>Allen County</td>\n",
       "      <td>18003</td>\n",
       "    </tr>\n",
       "    <tr>\n",
       "      <th>797</th>\n",
       "      <td>797</td>\n",
       "      <td>9841.0</td>\n",
       "      <td>20637.0</td>\n",
       "      <td>32389.0</td>\n",
       "      <td>0.303838</td>\n",
       "      <td>0.637161</td>\n",
       "      <td>10,796</td>\n",
       "      <td>33.33%</td>\n",
       "      <td>IN</td>\n",
       "      <td>Bartholomew County</td>\n",
       "      <td>18005</td>\n",
       "    </tr>\n",
       "    <tr>\n",
       "      <th>798</th>\n",
       "      <td>798</td>\n",
       "      <td>860.0</td>\n",
       "      <td>2579.0</td>\n",
       "      <td>3654.0</td>\n",
       "      <td>0.235359</td>\n",
       "      <td>0.705802</td>\n",
       "      <td>1,719</td>\n",
       "      <td>47.04%</td>\n",
       "      <td>IN</td>\n",
       "      <td>Benton County</td>\n",
       "      <td>18007</td>\n",
       "    </tr>\n",
       "    <tr>\n",
       "      <th>799</th>\n",
       "      <td>799</td>\n",
       "      <td>1243.0</td>\n",
       "      <td>3349.0</td>\n",
       "      <td>4822.0</td>\n",
       "      <td>0.257777</td>\n",
       "      <td>0.694525</td>\n",
       "      <td>2,106</td>\n",
       "      <td>43.67%</td>\n",
       "      <td>IN</td>\n",
       "      <td>Blackford County</td>\n",
       "      <td>18009</td>\n",
       "    </tr>\n",
       "  </tbody>\n",
       "</table>\n",
       "</div>"
      ],
      "text/plain": [
       "     Unnamed: 0  votes_dem  votes_gop  total_votes   per_dem   per_gop  \\\n",
       "795         795     2802.0     9642.0      13039.0  0.214894  0.739474   \n",
       "796         796    55222.0    83801.0     145787.0  0.378785  0.574818   \n",
       "797         797     9841.0    20637.0      32389.0  0.303838  0.637161   \n",
       "798         798      860.0     2579.0       3654.0  0.235359  0.705802   \n",
       "799         799     1243.0     3349.0       4822.0  0.257777  0.694525   \n",
       "\n",
       "       diff per_point_diff state_abbr         county_name  combined_fips  \n",
       "795   6,840         52.46%         IN        Adams County          18001  \n",
       "796  28,579         19.60%         IN        Allen County          18003  \n",
       "797  10,796         33.33%         IN  Bartholomew County          18005  \n",
       "798   1,719         47.04%         IN       Benton County          18007  \n",
       "799   2,106         43.67%         IN    Blackford County          18009  "
      ]
     },
     "execution_count": 3,
     "metadata": {},
     "output_type": "execute_result"
    }
   ],
   "source": [
    "indiana_data=election_results.loc[election_results[\"state_abbr\"]==\"IN\"]\n",
    "total_counties=indiana_data[\"county_name\"].count()\n",
    "indiana_data.head()"
   ]
  },
  {
   "cell_type": "code",
   "execution_count": 4,
   "metadata": {
    "scrolled": true
   },
   "outputs": [
    {
     "name": "stdout",
     "output_type": "stream",
     "text": [
      "92\n"
     ]
    }
   ],
   "source": [
    "indiana_fips=indiana_data[\"combined_fips\"]\n",
    "print(len(indiana_fips))\n",
    "fips=pd.Series(indiana_fips)\n",
    "fips=fips.tolist()\n"
   ]
  },
  {
   "cell_type": "code",
   "execution_count": 6,
   "metadata": {
    "scrolled": true
   },
   "outputs": [
    {
     "ename": "ImportError",
     "evalue": "geopandas, pyshp and shapely must be installed for this figure factory.\n\nRun the following commands to install the correct versions of the following modules:\n\n```\n$ pip install geopandas==0.3.0\n$ pip install pyshp==1.2.10\n$ pip install shapely==1.6.3\n```\nIf you are using Windows, follow this post to properly install geopandas and dependencies:http://geoffboeing.com/2014/09/using-geopandas-windows/\n\nIf you are using Anaconda, do not use PIP to install the packages above. Instead use conda to install them:\n\n```\n$ conda install plotly\n$ conda install geopandas\n```",
     "output_type": "error",
     "traceback": [
      "\u001b[0;31m---------------------------------------------------------------------------\u001b[0m",
      "\u001b[0;31mImportError\u001b[0m                               Traceback (most recent call last)",
      "\u001b[0;32m<ipython-input-6-e32ec6c706cb>\u001b[0m in \u001b[0;36m<module>\u001b[0;34m\u001b[0m\n\u001b[1;32m      7\u001b[0m \u001b[0mvalues\u001b[0m \u001b[0;34m=\u001b[0m \u001b[0mrange\u001b[0m\u001b[0;34m(\u001b[0m\u001b[0mlen\u001b[0m\u001b[0;34m(\u001b[0m\u001b[0mfips\u001b[0m\u001b[0;34m)\u001b[0m\u001b[0;34m)\u001b[0m\u001b[0;34m\u001b[0m\u001b[0;34m\u001b[0m\u001b[0m\n\u001b[1;32m      8\u001b[0m \u001b[0;34m\u001b[0m\u001b[0m\n\u001b[0;32m----> 9\u001b[0;31m \u001b[0mfig\u001b[0m \u001b[0;34m=\u001b[0m \u001b[0mff\u001b[0m\u001b[0;34m.\u001b[0m\u001b[0mcreate_choropleth\u001b[0m\u001b[0;34m(\u001b[0m\u001b[0mfips\u001b[0m\u001b[0;34m=\u001b[0m\u001b[0mfips\u001b[0m\u001b[0;34m,\u001b[0m \u001b[0mvalues\u001b[0m\u001b[0;34m=\u001b[0m\u001b[0mvalues\u001b[0m\u001b[0;34m)\u001b[0m\u001b[0;34m\u001b[0m\u001b[0;34m\u001b[0m\u001b[0m\n\u001b[0m\u001b[1;32m     10\u001b[0m \u001b[0mfig\u001b[0m\u001b[0;34m.\u001b[0m\u001b[0mlayout\u001b[0m\u001b[0;34m.\u001b[0m\u001b[0mtemplate\u001b[0m \u001b[0;34m=\u001b[0m \u001b[0;32mNone\u001b[0m\u001b[0;34m\u001b[0m\u001b[0;34m\u001b[0m\u001b[0m\n\u001b[1;32m     11\u001b[0m \u001b[0mfig\u001b[0m\u001b[0;34m.\u001b[0m\u001b[0mshow\u001b[0m\u001b[0;34m(\u001b[0m\u001b[0;34m)\u001b[0m\u001b[0;34m\u001b[0m\u001b[0;34m\u001b[0m\u001b[0m\n",
      "\u001b[0;32m~/Applications/anaconda3/envs/PythonData/lib/python3.7/site-packages/plotly/figure_factory/_county_choropleth.py\u001b[0m in \u001b[0;36mcreate_choropleth\u001b[0;34m(fips, values, scope, binning_endpoints, colorscale, order, simplify_county, simplify_state, asp, show_hover, show_state_data, state_outline, county_outline, centroid_marker, round_legend_values, exponent_format, legend_title, **layout_options)\u001b[0m\n\u001b[1;32m    625\u001b[0m     \u001b[0;32mif\u001b[0m \u001b[0;32mnot\u001b[0m \u001b[0mgp\u001b[0m \u001b[0;32mor\u001b[0m \u001b[0;32mnot\u001b[0m \u001b[0mshapefile\u001b[0m \u001b[0;32mor\u001b[0m \u001b[0;32mnot\u001b[0m \u001b[0mshapely\u001b[0m\u001b[0;34m:\u001b[0m\u001b[0;34m\u001b[0m\u001b[0;34m\u001b[0m\u001b[0m\n\u001b[1;32m    626\u001b[0m         raise ImportError(\n\u001b[0;32m--> 627\u001b[0;31m             \u001b[0;34m\"geopandas, pyshp and shapely must be installed for this figure \"\u001b[0m\u001b[0;34m\u001b[0m\u001b[0;34m\u001b[0m\u001b[0m\n\u001b[0m\u001b[1;32m    628\u001b[0m             \u001b[0;34m\"factory.\\n\\nRun the following commands to install the correct \"\u001b[0m\u001b[0;34m\u001b[0m\u001b[0;34m\u001b[0m\u001b[0m\n\u001b[1;32m    629\u001b[0m             \u001b[0;34m\"versions of the following modules:\\n\\n\"\u001b[0m\u001b[0;34m\u001b[0m\u001b[0;34m\u001b[0m\u001b[0m\n",
      "\u001b[0;31mImportError\u001b[0m: geopandas, pyshp and shapely must be installed for this figure factory.\n\nRun the following commands to install the correct versions of the following modules:\n\n```\n$ pip install geopandas==0.3.0\n$ pip install pyshp==1.2.10\n$ pip install shapely==1.6.3\n```\nIf you are using Windows, follow this post to properly install geopandas and dependencies:http://geoffboeing.com/2014/09/using-geopandas-windows/\n\nIf you are using Anaconda, do not use PIP to install the packages above. Instead use conda to install them:\n\n```\n$ conda install plotly\n$ conda install geopandas\n```"
     ]
    }
   ],
   "source": [
    "import plotly.figure_factory as ff\n",
    "\n",
    "#fips = ['06021', '06023', '06027',\n",
    "        #'06029', '06033', '06059',\n",
    "        #'06047', '06049', '06051',\n",
    "        #'06055', '06061']\n",
    "values = range(len(fips))\n",
    "\n",
    "fig = ff.create_choropleth(fips=fips, values=values)\n",
    "fig.layout.template = None\n",
    "fig.show()\n"
   ]
  },
  {
   "cell_type": "code",
   "execution_count": null,
   "metadata": {},
   "outputs": [],
   "source": []
  },
  {
   "cell_type": "code",
   "execution_count": null,
   "metadata": {},
   "outputs": [],
   "source": []
  },
  {
   "cell_type": "code",
   "execution_count": 2,
   "metadata": {
    "scrolled": false
   },
   "outputs": [],
   "source": [
    "# Dependencies\n",
    "import numpy as np\n",
    "import pandas as pd\n",
    "import matplotlib.pyplot as plt\n",
    "import requests\n",
    "from census import Census\n",
    "from us import states\n",
    "\n",
    "# Census API Key\n",
    "from config import census_api_key\n",
    "c = Census(census_api_key, year=2016)\n",
    "import pandas as pd"
   ]
  },
  {
   "cell_type": "code",
   "execution_count": 3,
   "metadata": {},
   "outputs": [],
   "source": [
    "census_data = c.acs5.get((\"NAME\", \"B01003_001E\", \"B02001_002E\",\"B02001_003E\",\"B02001_005E\",\"B03001_003E\",\n",
    "                          \"B25077_001E\",\"B15003_002E\",\"B15003_017E\",\"B15003_018E\",\n",
    "                         \"B15003_021E\",\"B15003_022E\",\"B15003_023E\",\"B15003_024E\",\"B15003_025E\"), {'for': 'county:*'})"
   ]
  },
  {
   "cell_type": "code",
   "execution_count": 4,
   "metadata": {
    "scrolled": true
   },
   "outputs": [
    {
     "data": {
      "text/html": [
       "<div>\n",
       "<style scoped>\n",
       "    .dataframe tbody tr th:only-of-type {\n",
       "        vertical-align: middle;\n",
       "    }\n",
       "\n",
       "    .dataframe tbody tr th {\n",
       "        vertical-align: top;\n",
       "    }\n",
       "\n",
       "    .dataframe thead th {\n",
       "        text-align: right;\n",
       "    }\n",
       "</style>\n",
       "<table border=\"1\" class=\"dataframe\">\n",
       "  <thead>\n",
       "    <tr style=\"text-align: right;\">\n",
       "      <th></th>\n",
       "      <th>NAME</th>\n",
       "      <th>Total Population</th>\n",
       "      <th>Population (White)</th>\n",
       "      <th>Population (African-American)</th>\n",
       "      <th>Population (Asian)</th>\n",
       "      <th>Population (Hispanic)</th>\n",
       "      <th>Median Home Value</th>\n",
       "      <th>Education (None)</th>\n",
       "      <th>Education (High School)</th>\n",
       "      <th>Education (GED)</th>\n",
       "      <th>Education (Associates)</th>\n",
       "      <th>Education (Bachelors)</th>\n",
       "      <th>Education (Masters)</th>\n",
       "      <th>Education (Professional)</th>\n",
       "      <th>Education (Doctorate)</th>\n",
       "      <th>state</th>\n",
       "      <th>county</th>\n",
       "    </tr>\n",
       "  </thead>\n",
       "  <tbody>\n",
       "    <tr>\n",
       "      <th>0</th>\n",
       "      <td>Carroll County, Arkansas</td>\n",
       "      <td>27690.0</td>\n",
       "      <td>25856.0</td>\n",
       "      <td>318.0</td>\n",
       "      <td>245.0</td>\n",
       "      <td>4021.0</td>\n",
       "      <td>118500.0</td>\n",
       "      <td>128.0</td>\n",
       "      <td>5458.0</td>\n",
       "      <td>1346.0</td>\n",
       "      <td>1162.0</td>\n",
       "      <td>2157.0</td>\n",
       "      <td>951.0</td>\n",
       "      <td>119.0</td>\n",
       "      <td>219.0</td>\n",
       "      <td>05</td>\n",
       "      <td>015</td>\n",
       "    </tr>\n",
       "    <tr>\n",
       "      <th>1</th>\n",
       "      <td>Chicot County, Arkansas</td>\n",
       "      <td>11189.0</td>\n",
       "      <td>4778.0</td>\n",
       "      <td>6070.0</td>\n",
       "      <td>46.0</td>\n",
       "      <td>578.0</td>\n",
       "      <td>59600.0</td>\n",
       "      <td>96.0</td>\n",
       "      <td>2621.0</td>\n",
       "      <td>627.0</td>\n",
       "      <td>312.0</td>\n",
       "      <td>718.0</td>\n",
       "      <td>220.0</td>\n",
       "      <td>58.0</td>\n",
       "      <td>19.0</td>\n",
       "      <td>05</td>\n",
       "      <td>017</td>\n",
       "    </tr>\n",
       "    <tr>\n",
       "      <th>2</th>\n",
       "      <td>Clark County, Arkansas</td>\n",
       "      <td>22684.0</td>\n",
       "      <td>16387.0</td>\n",
       "      <td>5348.0</td>\n",
       "      <td>174.0</td>\n",
       "      <td>1013.0</td>\n",
       "      <td>92700.0</td>\n",
       "      <td>145.0</td>\n",
       "      <td>3428.0</td>\n",
       "      <td>628.0</td>\n",
       "      <td>1131.0</td>\n",
       "      <td>2010.0</td>\n",
       "      <td>928.0</td>\n",
       "      <td>96.0</td>\n",
       "      <td>214.0</td>\n",
       "      <td>05</td>\n",
       "      <td>019</td>\n",
       "    </tr>\n",
       "    <tr>\n",
       "      <th>3</th>\n",
       "      <td>Clay County, Arkansas</td>\n",
       "      <td>15202.0</td>\n",
       "      <td>14632.0</td>\n",
       "      <td>76.0</td>\n",
       "      <td>26.0</td>\n",
       "      <td>275.0</td>\n",
       "      <td>66700.0</td>\n",
       "      <td>192.0</td>\n",
       "      <td>3414.0</td>\n",
       "      <td>1172.0</td>\n",
       "      <td>564.0</td>\n",
       "      <td>775.0</td>\n",
       "      <td>354.0</td>\n",
       "      <td>67.0</td>\n",
       "      <td>31.0</td>\n",
       "      <td>05</td>\n",
       "      <td>021</td>\n",
       "    </tr>\n",
       "    <tr>\n",
       "      <th>4</th>\n",
       "      <td>Cleburne County, Arkansas</td>\n",
       "      <td>25587.0</td>\n",
       "      <td>24850.0</td>\n",
       "      <td>143.0</td>\n",
       "      <td>147.0</td>\n",
       "      <td>615.0</td>\n",
       "      <td>126100.0</td>\n",
       "      <td>177.0</td>\n",
       "      <td>5655.0</td>\n",
       "      <td>1533.0</td>\n",
       "      <td>1162.0</td>\n",
       "      <td>1817.0</td>\n",
       "      <td>690.0</td>\n",
       "      <td>242.0</td>\n",
       "      <td>146.0</td>\n",
       "      <td>05</td>\n",
       "      <td>023</td>\n",
       "    </tr>\n",
       "  </tbody>\n",
       "</table>\n",
       "</div>"
      ],
      "text/plain": [
       "                        NAME  Total Population  Population (White)  \\\n",
       "0   Carroll County, Arkansas           27690.0             25856.0   \n",
       "1    Chicot County, Arkansas           11189.0              4778.0   \n",
       "2     Clark County, Arkansas           22684.0             16387.0   \n",
       "3      Clay County, Arkansas           15202.0             14632.0   \n",
       "4  Cleburne County, Arkansas           25587.0             24850.0   \n",
       "\n",
       "   Population (African-American)  Population (Asian)  Population (Hispanic)  \\\n",
       "0                          318.0               245.0                 4021.0   \n",
       "1                         6070.0                46.0                  578.0   \n",
       "2                         5348.0               174.0                 1013.0   \n",
       "3                           76.0                26.0                  275.0   \n",
       "4                          143.0               147.0                  615.0   \n",
       "\n",
       "   Median Home Value  Education (None)  Education (High School)  \\\n",
       "0           118500.0             128.0                   5458.0   \n",
       "1            59600.0              96.0                   2621.0   \n",
       "2            92700.0             145.0                   3428.0   \n",
       "3            66700.0             192.0                   3414.0   \n",
       "4           126100.0             177.0                   5655.0   \n",
       "\n",
       "   Education (GED)  Education (Associates)  Education (Bachelors)  \\\n",
       "0           1346.0                  1162.0                 2157.0   \n",
       "1            627.0                   312.0                  718.0   \n",
       "2            628.0                  1131.0                 2010.0   \n",
       "3           1172.0                   564.0                  775.0   \n",
       "4           1533.0                  1162.0                 1817.0   \n",
       "\n",
       "   Education (Masters)  Education (Professional)  Education (Doctorate) state  \\\n",
       "0                951.0                     119.0                  219.0    05   \n",
       "1                220.0                      58.0                   19.0    05   \n",
       "2                928.0                      96.0                  214.0    05   \n",
       "3                354.0                      67.0                   31.0    05   \n",
       "4                690.0                     242.0                  146.0    05   \n",
       "\n",
       "  county  \n",
       "0    015  \n",
       "1    017  \n",
       "2    019  \n",
       "3    021  \n",
       "4    023  "
      ]
     },
     "execution_count": 4,
     "metadata": {},
     "output_type": "execute_result"
    }
   ],
   "source": [
    "census_complete=pd.DataFrame(census_data)\n",
    "census_complete=census_complete.rename(columns={\"B01003_001E\":\"Total Population\",\n",
    "                                                \"B02001_002E\":\"Population (White)\",\n",
    "                                                \"B02001_003E\":\"Population (African-American)\",\n",
    "                                               \"B02001_005E\":\"Population (Asian)\",\n",
    "                                               \"B03001_003E\":\"Population (Hispanic)\",\n",
    "                                               \"B25077_001E\":\"Median Home Value\",\n",
    "                                               \"B15003_002E\":\"Education (None)\",\n",
    "                                               \"B15003_017E\":\"Education (High School)\",\n",
    "                                               \"B15003_018E\":\"Education (GED)\",\n",
    "                                               \"B15003_021E\":\"Education (Associates)\",\n",
    "                                               \"B15003_022E\":\"Education (Bachelors)\",\n",
    "                                               \"B15003_023E\":\"Education (Masters)\",\n",
    "                                               \"B15003_024E\":\"Education (Professional)\",\n",
    "                                               \"B15003_025E\":\"Education (Doctorate)\"})\n",
    "census_complete.head()\n",
    "#census_county = census_complete[1].str.split(' ').apply(Series, 1)"
   ]
  },
  {
   "cell_type": "code",
   "execution_count": null,
   "metadata": {},
   "outputs": [],
   "source": [
    "county =census_complete.NAME.str.split(', ', expand=True).loc[:,0]\n",
    "state=census_complete.NAME.str.split(', ', expand=True).loc[:,1]"
   ]
  },
  {
   "cell_type": "code",
   "execution_count": null,
   "metadata": {},
   "outputs": [],
   "source": [
    "census_complete[\"County\"]=county\n",
    "census_complete\n",
    "census_complete[\"State\"]=state\n",
    "census_complete.head()"
   ]
  },
  {
   "cell_type": "code",
   "execution_count": null,
   "metadata": {
    "scrolled": true
   },
   "outputs": [],
   "source": [
    "indiana_census=census_complete.loc[census_complete[\"State\"]==\"Indiana\"]\n",
    "indiana_census.head()"
   ]
  },
  {
   "cell_type": "code",
   "execution_count": null,
   "metadata": {},
   "outputs": [],
   "source": [
    "count=indiana_census[\"State\"].count()\n",
    "count\n"
   ]
  },
  {
   "cell_type": "code",
   "execution_count": null,
   "metadata": {
    "scrolled": false
   },
   "outputs": [],
   "source": [
    "indiana_final=pd.DataFrame({\"State\":indiana_census[\"State\"],\"County\":indiana_census[\"County\"],\"Total Population\":indiana_census[\"Total Population\"],\n",
    "                            \"Population (White)\":indiana_census[\"Population (White)\"],\n",
    "                            \"Population (African-American)\":indiana_census[\"Population (African-American)\"],\n",
    "                           \"Population (Asian)\":indiana_census[\"Population (Asian)\"],\n",
    "                           \"Population (Hispanic)\":indiana_census[\"Population (Hispanic)\"],\n",
    "                           \"Median Home Value\":indiana_census[\"Median Home Value\"],\n",
    "                           \"Education (None)\":indiana_census[\"Education (None)\"],\n",
    "                           \"Education (High School)\":indiana_census[\"Education (High School)\"],\n",
    "                           \"Education (GED)\":indiana_census[\"Education (GED)\"],\n",
    "                           \"Education (Associates)\":indiana_census[\"Education (Associates)\"],\n",
    "                           \"Education (Bachelors)\":indiana_census[\"Education (Bachelors)\"],\n",
    "                           \"Education (Masters)\":indiana_census[\"Education (Masters)\"],\n",
    "                           \"Education (Professional)\":indiana_census[\"Education (Professional)\"],\n",
    "                           \"Education (Doctorate)\":indiana_census[\"Education (Doctorate)\"]})\n",
    "\n"
   ]
  },
  {
   "cell_type": "code",
   "execution_count": null,
   "metadata": {},
   "outputs": [],
   "source": [
    "indiana_final.head()"
   ]
  },
  {
   "cell_type": "code",
   "execution_count": null,
   "metadata": {},
   "outputs": [],
   "source": [
    "indiana_final.to_csv(\"indiana_census.csv\")"
   ]
  },
  {
   "cell_type": "code",
   "execution_count": null,
   "metadata": {
    "scrolled": true
   },
   "outputs": [],
   "source": [
    "census_data2 = c.acs5.get((\"NAME\", \"B19013_001E\",\"B19301_001E\",\"B23025_002E\",\"B23025_007E\",\"B23025_005E\",\"B01002_001E\",\n",
    "                           \"B01002_002E\",\"B01002_003E\"), {'for': 'county:*'})"
   ]
  },
  {
   "cell_type": "code",
   "execution_count": null,
   "metadata": {},
   "outputs": [],
   "source": [
    "census2=pd.DataFrame(census_data2)\n",
    "#census2.head()\n",
    "county2 =census2.NAME.str.split(', ', expand=True).loc[:,0]\n",
    "state2=census2.NAME.str.split(', ', expand=True).loc[:,1]"
   ]
  },
  {
   "cell_type": "code",
   "execution_count": null,
   "metadata": {},
   "outputs": [],
   "source": [
    "\n",
    "census_final2=pd.DataFrame({\"County\":county2,\n",
    "                             \"State\":state2,\n",
    "                            \"Median Income\":indiana_census2[\"B19013_001E\"],\n",
    "                            \"Income Per Capita\":indiana_census2[\"B19301_001E\"],\n",
    "                            \"Pop in Labor Force\":indiana_census2[\"B23025_002E\"],\n",
    "                            \"Pop not in Labor Force\":indiana_census2[\"B23025_007E\"],\n",
    "                            \"Unemployed\":indiana_census2[\"B23025_005E\"],\n",
    "                            \"Median Age\":indiana_census2[\"B01002_001E\"],\n",
    "                            \"Median Age (male)\":indiana_census2[\"B01002_002E\"],\n",
    "                            \"Median Age (female)\":indiana_census2[\"B01002_003E\"]})\n",
    "census_final2.head()"
   ]
  },
  {
   "cell_type": "code",
   "execution_count": null,
   "metadata": {
    "scrolled": true
   },
   "outputs": [],
   "source": [
    "indiana_final2=census_final2.loc[census_final2[\"State\"]==\"Indiana\"]\n",
    "indiana_final2.to_csv(\"indiana_census2.csv\")"
   ]
  },
  {
   "cell_type": "code",
   "execution_count": null,
   "metadata": {},
   "outputs": [],
   "source": []
  },
  {
   "cell_type": "code",
   "execution_count": null,
   "metadata": {
    "scrolled": true
   },
   "outputs": [],
   "source": [
    "census_data2 = c.acs5.get((\"NAME\", \"B01001_049E\"), {'for': 'county:*'})\n",
    "data=pd.DataFrame(census_data2)\n",
    "data.head()"
   ]
  },
  {
   "cell_type": "code",
   "execution_count": null,
   "metadata": {
    "scrolled": true
   },
   "outputs": [],
   "source": [
    "#collect census data for age groups....\n",
    "age = c.acs5.get((\"NAME\", \"B01001_031E\",\"B01001_032E\",\"B01001_033E\",\n",
    "                           \"B01001_034E\",\"B01001_035E\",\"B01001_036E\",\n",
    "                           \"B01001_037E\",\"B01001_038E\",\"B01001_039E\",\n",
    "                          \"B01001_040E\",\"B01001_041E\",\"B01001_042E\",\n",
    "                          \"B01001_043E\",\"B01001_044E\",\"B01001_045E\",\n",
    "                          \"B01001_046E\",\"B01001_047E\",\"B01001_048E\",\"B01001_049E\",\n",
    "                         \"B01001_007E\",\"B01001_008E\",\"B01001_009E\",\n",
    "                           \"B01001_010E\",\"B01001_011E\",\"B01001_012E\",\n",
    "                           \"B01001_013E\",\"B01001_014E\",\"B01001_015E\",\n",
    "                          \"B01001_016E\",\"B01001_017E\",\"B01001_018E\",\n",
    "                          \"B01001_019E\",\"B01001_020E\",\"B01001_021E\",\n",
    "                          \"B01001_022E\",\"B01001_023E\",\"B01001_024E\",\"B01001_025E\"), {'for': 'county:*'})\n",
    "age_sex=pd.DataFrame(age)\n",
    "age_sex.head()"
   ]
  },
  {
   "cell_type": "code",
   "execution_count": null,
   "metadata": {},
   "outputs": [],
   "source": [
    "county3 =age_sex.NAME.str.split(', ', expand=True).loc[:,0]\n",
    "state3=age_sex.NAME.str.split(', ', expand=True).loc[:,1]\n"
   ]
  },
  {
   "cell_type": "code",
   "execution_count": null,
   "metadata": {
    "scrolled": true
   },
   "outputs": [],
   "source": [
    "age_sex_complete=pd.DataFrame({\"State\":state3,\"County\":county3,\n",
    "                            \"Female (18-19)\":age_sex[\"B01001_031E\"],\"Female (20)\":age_sex[\"B01001_032E\"],\n",
    "                            \"Female (21)\":age_sex[\"B01001_033E\"],\"Female (22-24)\":age_sex[\"B01001_034E\"],\n",
    "                            \"Female (25-29)\":age_sex[\"B01001_035E\"],\"Female (30-34)\":age_sex[\"B01001_036E\"],\n",
    "                             \"Female (35-39)\":age_sex[\"B01001_037E\"],\n",
    "                            \"Female (40-44)\":age_sex[\"B01001_038E\"],\"Female (45-49)\":age_sex[\"B01001_039E\"],\n",
    "                            \"Female (50-54)\":age_sex[\"B01001_040E\"],\"Female (55-59)\":age_sex[\"B01001_041E\"],\n",
    "                            \"Female (60-61)\":age_sex[\"B01001_042E\"],\"Female (62-64)\":age_sex[\"B01001_043E\"],\n",
    "                            \"Female (65-66)\":age_sex[\"B01001_044E\"],\"Female (67-69)\":age_sex[\"B01001_045E\"],\n",
    "                            \"Female (70-74)\":age_sex[\"B01001_046E\"],\"Female (75-79)\":age_sex[\"B01001_047E\"],\n",
    "                            \"Female (80-84)\":age_sex[\"B01001_048E\"],\"Female (85 and over)\":age_sex[\"B01001_049E\"],\n",
    "                              \"Male (18-19)\":age_sex[\"B01001_007E\"],\"Male (20)\":age_sex[\"B01001_008E\"],\n",
    "                            \"Male (21)\":age_sex[\"B01001_009E\"],\"Male (22-24)\":age_sex[\"B01001_010E\"],\n",
    "                            \"Male (25-29)\":age_sex[\"B01001_011E\"],\"Male (30-34)\":age_sex[\"B01001_012E\"],\n",
    "                             \"Male (35-39)\":age_sex[\"B01001_013E\"],\n",
    "                            \"Male (40-44)\":age_sex[\"B01001_014E\"],\"Male (45-49)\":age_sex[\"B01001_015E\"],\n",
    "                            \"Male (50-54)\":age_sex[\"B01001_016E\"],\"Male (55-59)\":age_sex[\"B01001_017E\"],\n",
    "                            \"Male (60-61)\":age_sex[\"B01001_018E\"],\"Male (62-64)\":age_sex[\"B01001_019E\"],\n",
    "                            \"Male (65-66)\":age_sex[\"B01001_020E\"],\"Male (67-69)\":age_sex[\"B01001_021E\"],\n",
    "                            \"Male (70-74)\":age_sex[\"B01001_022E\"],\"Male (75-79)\":age_sex[\"B01001_023E\"],\n",
    "                            \"Male (80-84)\":age_sex[\"B01001_024E\"],\"Male (85 and over)\":age_sex[\"B01001_025E\"]})\n",
    "\n",
    "indiana_ages=age_sex_complete.loc[age_sex_complete[\"State\"]==\"Indiana\"]\n",
    "indiana_ages.head()\n"
   ]
  },
  {
   "cell_type": "code",
   "execution_count": null,
   "metadata": {},
   "outputs": [],
   "source": [
    "indiana_ages.to_csv(\"indiana_ages.csv\")"
   ]
  },
  {
   "cell_type": "code",
   "execution_count": null,
   "metadata": {
    "scrolled": false
   },
   "outputs": [],
   "source": [
    "indiana_ages.columns"
   ]
  },
  {
   "cell_type": "code",
   "execution_count": null,
   "metadata": {
    "scrolled": true
   },
   "outputs": [],
   "source": [
    "indiana_ages_total=pd.DataFrame({\"County\":indiana_ages[\"County\"],\n",
    "                                \"Pop (18-19)\":indiana_ages[\"Female (18-19)\"]+indiana_ages[\"Male (18-19)\"],\n",
    "                                \"Pop (20)\":indiana_ages[\"Female (20)\"]+indiana_ages[\"Male (20)\"],\n",
    "                                \"Pop (21)\":indiana_ages[\"Female (21)\"]+indiana_ages[\"Male (21)\"],\n",
    "                                \"Pop (22-24)\":indiana_ages[\"Female (22-24)\"]+indiana_ages[\"Male (22-24)\"],\n",
    "                                \"Pop (25-29)\":indiana_ages[\"Female (25-29)\"]+indiana_ages[\"Male (25-29)\"],\n",
    "                                \"Pop (30-34)\":indiana_ages[\"Female (30-34)\"]+indiana_ages[\"Male (30-34)\"],\n",
    "                                \"Pop (35-39)\":indiana_ages[\"Female (35-39)\"]+indiana_ages[\"Male (35-39)\"],\n",
    "                                \"Pop (40-44)\":indiana_ages[\"Female (40-44)\"]+indiana_ages[\"Male (40-44)\"],\n",
    "                                \"Pop (45-49)\":indiana_ages[\"Female (45-49)\"]+indiana_ages[\"Male (45-49)\"],\n",
    "                                \"Pop (50-54)\":indiana_ages[\"Female (50-54)\"]+indiana_ages[\"Male (50-54)\"],\n",
    "                                \"Pop (55-59)\":indiana_ages[\"Female (55-59)\"]+indiana_ages[\"Male (55-59)\"],\n",
    "                                \"Pop (60-61)\":indiana_ages[\"Female (60-61)\"]+indiana_ages[\"Male (60-61)\"],\n",
    "                                \"Pop (62-64)\":indiana_ages[\"Female (62-64)\"]+indiana_ages[\"Male (62-64)\"],\n",
    "                                \"Pop (65-66)\":indiana_ages[\"Female (65-66)\"]+indiana_ages[\"Male (65-66)\"],\n",
    "                                \"Pop (67-69)\":indiana_ages[\"Female (67-69)\"]+indiana_ages[\"Male (67-69)\"],\n",
    "                                \"Pop (70-74)\":indiana_ages[\"Female (70-74)\"]+indiana_ages[\"Male (70-74)\"],\n",
    "                                \"Pop (75-79)\":indiana_ages[\"Female (75-79)\"]+indiana_ages[\"Male (75-79)\"],\n",
    "                                \"Pop (80-84)\":indiana_ages[\"Female (80-84)\"]+indiana_ages[\"Male (80-84)\"],\n",
    "                                \"Pop (85 and over)\":indiana_ages[\"Female (85 and over)\"]+indiana_ages[\"Male (85 and over)\"]})\n",
    "\n",
    "indiana_ages_total\n",
    "marion=indiana_ages_total.loc[indiana_ages_total[\"County\"]==\"Marion County\"]\n",
    "#indiana_counties=indiana_ages_total[\"County\"].unique()\n",
    "#indiana_counties\n",
    "marion_data=marion.iloc[:,[1,2,3,4,5,6,7,8,9,10,11,12,13,14,15,16,17,18,19]].values.flatten().tolist()\n",
    "\n"
   ]
  },
  {
   "cell_type": "code",
   "execution_count": null,
   "metadata": {
    "scrolled": false
   },
   "outputs": [],
   "source": [
    "indiana_ages_total.head()"
   ]
  },
  {
   "cell_type": "code",
   "execution_count": null,
   "metadata": {},
   "outputs": [],
   "source": [
    "indiana_ages_total.to_csv(\"indiana_pop_age.csv\")\n"
   ]
  },
  {
   "cell_type": "code",
   "execution_count": null,
   "metadata": {},
   "outputs": [],
   "source": [
    "#create histogram for \n",
    "x_axis=np.arange(len(marion_data))\n",
    "\n",
    "plt.bar(x_axis,marion_data);"
   ]
  },
  {
   "cell_type": "code",
   "execution_count": null,
   "metadata": {},
   "outputs": [],
   "source": [
    "daviess=indiana_ages_total.loc[indiana_ages_total[\"County\"]==\"Daviess County\"]\n",
    "#indiana_counties=indiana_ages_total[\"County\"].unique()\n",
    "#indiana_counties\n",
    "daviess_data=daviess.iloc[:,[1,2,3,4,5,6,7,8,9,10,11,12,13,14,15,16,17,18,19]].values.flatten().tolist()"
   ]
  },
  {
   "cell_type": "code",
   "execution_count": null,
   "metadata": {
    "scrolled": true
   },
   "outputs": [],
   "source": [
    "x_axis=np.arange(len(daviess_data))\n",
    "plt.bar(x_axis,daviess_data);"
   ]
  },
  {
   "cell_type": "code",
   "execution_count": null,
   "metadata": {},
   "outputs": [],
   "source": [
    "tippecanoe=indiana_ages_total.loc[indiana_ages_total[\"County\"]==\"Tippecanoe County\"]\n",
    "monroe=indiana_ages_total.loc[indiana_ages_total[\"County\"]==\"Monroe County\"]\n",
    "tippecanoe_data=tippecanoe.iloc[:,[1,2,3,4,5,6,7,8,9,10,11,12,13,14,15,16,17,18,19]].values.flatten().tolist()\n",
    "monroe_data=monroe.iloc[:,[1,2,3,4,5,6,7,8,9,10,11,12,13,14,15,16,17,18,19]].values.flatten().tolist()\n",
    "x_axis=np.arange(len(tippecanoe_data))"
   ]
  },
  {
   "cell_type": "code",
   "execution_count": null,
   "metadata": {
    "scrolled": true
   },
   "outputs": [],
   "source": [
    "\n"
   ]
  },
  {
   "cell_type": "code",
   "execution_count": null,
   "metadata": {},
   "outputs": [],
   "source": [
    "#ax = plt.subplot(111)\n",
    "#ax.bar(x-0.2, y, width=0.2, color='b', align='center')\n",
    "#ax.bar(x, z, width=0.2, color='g', align='center')\n",
    "#ax.bar(x+0.2, k, width=0.2, color='r', align='center')\n",
    "#ax.xaxis_date()\n",
    "\n",
    "\n"
   ]
  },
  {
   "cell_type": "code",
   "execution_count": null,
   "metadata": {},
   "outputs": [],
   "source": [
    "#tippecanoe male vs female\n",
    "tippecanoe=indiana_ages.loc[indiana_ages[\"County\"]==\"Tippecanoe County\"]\n",
    "tippecanoe_female=tippecanoe.iloc[:,[2,3,4,5,6,7,8,9,10,11,12,13,14,15,16,17,18,19,20]].values.flatten().tolist()\n",
    "tippecanoe_male=tippecanoe.iloc[:,[21,22,23,24,25,26,27,28,29,30,31,32,33,34,35,36,37,38,39]].values.flatten().tolist()\n",
    "categories=[\"18-19\",\"20\",\"21\",\"22-24\",\"25-29\",\"30-34\",\"35-39\",\"40-44\",\"45-49\",\"50-54\",\"55-59\",\"60-61\",\n",
    "           \"62-64\",\"65-66\",\"67-69\",\"70-74\",\"75-79\",\"80-84\",\"85 & over\"]"
   ]
  },
  {
   "cell_type": "code",
   "execution_count": null,
   "metadata": {},
   "outputs": [],
   "source": [
    "import numpy as np\n",
    "import matplotlib.pyplot as plt\n",
    "import pandas as pd\n",
    "\n",
    "tippecanoe_df=pd.DataFrame(np.c_[tippecanoe_female,tippecanoe_male],index=categories)\n",
    "tippecanoe_df.plot.bar();\n",
    "\n"
   ]
  },
  {
   "cell_type": "code",
   "execution_count": null,
   "metadata": {
    "scrolled": false
   },
   "outputs": [],
   "source": [
    "#monroe male vs female\n",
    "monroe=indiana_ages.loc[indiana_ages[\"County\"]==\"Monroe County\"]\n",
    "monroe_female=monroe.iloc[:,[2,3,4,5,6,7,8,9,10,11,12,13,14,15,16,17,18,19,20]].values.flatten().tolist()\n",
    "monroe_male=monroe.iloc[:,[21,22,23,24,25,26,27,28,29,30,31,32,33,34,35,36,37,38,39]].values.flatten().tolist()\n",
    "categories=[\"18-19\",\"20\",\"21\",\"22-24\",\"25-29\",\"30-34\",\"35-39\",\"40-44\",\"45-49\",\"50-54\",\"55-59\",\"60-61\",\n",
    "           \"62-64\",\"65-66\",\"67-69\",\"70-74\",\"75-79\",\"80-84\",\"85 & over\"]"
   ]
  },
  {
   "cell_type": "code",
   "execution_count": null,
   "metadata": {
    "scrolled": true
   },
   "outputs": [],
   "source": [
    "monroe_df=pd.DataFrame(np.c_[monroe_female,monroe_male],index=categories)\n",
    "monroe_df.plot.bar();"
   ]
  },
  {
   "cell_type": "code",
   "execution_count": null,
   "metadata": {},
   "outputs": [],
   "source": [
    "#marion male vs female\n",
    "marion=indiana_ages.loc[indiana_ages[\"County\"]==\"Marion County\"]\n",
    "marion_female=marion.iloc[:,[2,3,4,5,6,7,8,9,10,11,12,13,14,15,16,17,18,19,20]].values.flatten().tolist()\n",
    "marion_male=marion.iloc[:,[21,22,23,24,25,26,27,28,29,30,31,32,33,34,35,36,37,38,39]].values.flatten().tolist()\n",
    "categories=[\"18-19\",\"20\",\"21\",\"22-24\",\"25-29\",\"30-34\",\"35-39\",\"40-44\",\"45-49\",\"50-54\",\"55-59\",\"60-61\",\n",
    "           \"62-64\",\"65-66\",\"67-69\",\"70-74\",\"75-79\",\"80-84\",\"85 & over\"]"
   ]
  },
  {
   "cell_type": "code",
   "execution_count": null,
   "metadata": {
    "scrolled": false
   },
   "outputs": [],
   "source": [
    "marion_df=pd.DataFrame(np.c_[marion_female,marion_male],index=categories)\n",
    "marion_df.plot.bar();"
   ]
  },
  {
   "cell_type": "code",
   "execution_count": null,
   "metadata": {},
   "outputs": [],
   "source": [
    "#daviess male vs female\n",
    "daviess=indiana_ages.loc[indiana_ages[\"County\"]==\"Daviess County\"]\n",
    "daviess_female=daviess.iloc[:,[2,3,4,5,6,7,8,9,10,11,12,13,14,15,16,17,18,19,20]].values.flatten().tolist()\n",
    "daviess_male=daviess.iloc[:,[21,22,23,24,25,26,27,28,29,30,31,32,33,34,35,36,37,38,39]].values.flatten().tolist()\n",
    "categories=[\"18-19\",\"20\",\"21\",\"22-24\",\"25-29\",\"30-34\",\"35-39\",\"40-44\",\"45-49\",\"50-54\",\"55-59\",\"60-61\",\n",
    "           \"62-64\",\"65-66\",\"67-69\",\"70-74\",\"75-79\",\"80-84\",\"85 & over\"]"
   ]
  },
  {
   "cell_type": "code",
   "execution_count": null,
   "metadata": {},
   "outputs": [],
   "source": [
    "daviess_df=pd.DataFrame(np.c_[daviess_female,daviess_male],index=categories)\n",
    "daviess_df.plot.bar();"
   ]
  },
  {
   "cell_type": "code",
   "execution_count": null,
   "metadata": {},
   "outputs": [],
   "source": [
    "#daviess male vs female\n",
    "lake=indiana_ages.loc[indiana_ages[\"County\"]==\"Lake County\"]\n",
    "lake_female=lake.iloc[:,[2,3,4,5,6,7,8,9,10,11,12,13,14,15,16,17,18,19,20]].values.flatten().tolist()\n",
    "lake_male=lake.iloc[:,[21,22,23,24,25,26,27,28,29,30,31,32,33,34,35,36,37,38,39]].values.flatten().tolist()\n",
    "categories=[\"18-19\",\"20\",\"21\",\"22-24\",\"25-29\",\"30-34\",\"35-39\",\"40-44\",\"45-49\",\"50-54\",\"55-59\",\"60-61\",\n",
    "           \"62-64\",\"65-66\",\"67-69\",\"70-74\",\"75-79\",\"80-84\",\"85 & over\"]\n"
   ]
  },
  {
   "cell_type": "code",
   "execution_count": null,
   "metadata": {},
   "outputs": [],
   "source": [
    "lake_df=pd.DataFrame(np.c_[lake_female,lake_male],index=categories)\n",
    "lake_df.plot.bar();"
   ]
  },
  {
   "cell_type": "code",
   "execution_count": 8,
   "metadata": {},
   "outputs": [],
   "source": [
    "education_data = c.acs5.get((\"NAME\", \"C15002A_001E\", \"C15002A_002E\",\"C15002A_003E\",\n",
    "                             \"C15002A_004E\",\"C15002A_005E\",\"C15002A_006E\",\n",
    "                             \"C15002A_007E\",\"C15002A_008E\",\"C15002A_009E\",\n",
    "                             \"C15002A_010E\",\"C15002A_011E\",\n",
    "                             \"C15002B_001E\",\"C15002B_002E\",\"C15002B_003E\",\n",
    "                            \"C15002B_004E\",\"C15002B_005E\",\"C15002B_006E\",\n",
    "                            \"C15002B_007E\",\"C15002B_008E\",\"C15002B_009E\",\n",
    "                            \"C15002B_010E\",\"C15002B_011E\"), {'for': 'county:*'})\n",
    "\n",
    "\n"
   ]
  },
  {
   "cell_type": "code",
   "execution_count": 12,
   "metadata": {
    "scrolled": true
   },
   "outputs": [
    {
     "data": {
      "text/html": [
       "<div>\n",
       "<style scoped>\n",
       "    .dataframe tbody tr th:only-of-type {\n",
       "        vertical-align: middle;\n",
       "    }\n",
       "\n",
       "    .dataframe tbody tr th {\n",
       "        vertical-align: top;\n",
       "    }\n",
       "\n",
       "    .dataframe thead th {\n",
       "        text-align: right;\n",
       "    }\n",
       "</style>\n",
       "<table border=\"1\" class=\"dataframe\">\n",
       "  <thead>\n",
       "    <tr style=\"text-align: right;\">\n",
       "      <th></th>\n",
       "      <th>NAME</th>\n",
       "      <th>C15002A_001E</th>\n",
       "      <th>C15002A_002E</th>\n",
       "      <th>C15002A_003E</th>\n",
       "      <th>C15002A_004E</th>\n",
       "      <th>C15002A_005E</th>\n",
       "      <th>C15002A_006E</th>\n",
       "      <th>C15002A_007E</th>\n",
       "      <th>C15002A_008E</th>\n",
       "      <th>C15002A_009E</th>\n",
       "      <th>...</th>\n",
       "      <th>C15002B_004E</th>\n",
       "      <th>C15002B_005E</th>\n",
       "      <th>C15002B_006E</th>\n",
       "      <th>C15002B_007E</th>\n",
       "      <th>C15002B_008E</th>\n",
       "      <th>C15002B_009E</th>\n",
       "      <th>C15002B_010E</th>\n",
       "      <th>C15002B_011E</th>\n",
       "      <th>state</th>\n",
       "      <th>county</th>\n",
       "    </tr>\n",
       "  </thead>\n",
       "  <tbody>\n",
       "    <tr>\n",
       "      <th>0</th>\n",
       "      <td>Carroll County, Arkansas</td>\n",
       "      <td>18332.0</td>\n",
       "      <td>8841.0</td>\n",
       "      <td>1575.0</td>\n",
       "      <td>3090.0</td>\n",
       "      <td>2526.0</td>\n",
       "      <td>1650.0</td>\n",
       "      <td>9491.0</td>\n",
       "      <td>1274.0</td>\n",
       "      <td>3361.0</td>\n",
       "      <td>...</td>\n",
       "      <td>38.0</td>\n",
       "      <td>8.0</td>\n",
       "      <td>0.0</td>\n",
       "      <td>107.0</td>\n",
       "      <td>0.0</td>\n",
       "      <td>77.0</td>\n",
       "      <td>26.0</td>\n",
       "      <td>4.0</td>\n",
       "      <td>05</td>\n",
       "      <td>015</td>\n",
       "    </tr>\n",
       "    <tr>\n",
       "      <th>1</th>\n",
       "      <td>Chicot County, Arkansas</td>\n",
       "      <td>3614.0</td>\n",
       "      <td>1756.0</td>\n",
       "      <td>294.0</td>\n",
       "      <td>727.0</td>\n",
       "      <td>442.0</td>\n",
       "      <td>293.0</td>\n",
       "      <td>1858.0</td>\n",
       "      <td>241.0</td>\n",
       "      <td>696.0</td>\n",
       "      <td>...</td>\n",
       "      <td>899.0</td>\n",
       "      <td>277.0</td>\n",
       "      <td>101.0</td>\n",
       "      <td>2147.0</td>\n",
       "      <td>454.0</td>\n",
       "      <td>868.0</td>\n",
       "      <td>557.0</td>\n",
       "      <td>268.0</td>\n",
       "      <td>05</td>\n",
       "      <td>017</td>\n",
       "    </tr>\n",
       "    <tr>\n",
       "      <th>2</th>\n",
       "      <td>Clark County, Arkansas</td>\n",
       "      <td>9839.0</td>\n",
       "      <td>4722.0</td>\n",
       "      <td>659.0</td>\n",
       "      <td>1444.0</td>\n",
       "      <td>1332.0</td>\n",
       "      <td>1287.0</td>\n",
       "      <td>5117.0</td>\n",
       "      <td>606.0</td>\n",
       "      <td>1570.0</td>\n",
       "      <td>...</td>\n",
       "      <td>536.0</td>\n",
       "      <td>375.0</td>\n",
       "      <td>218.0</td>\n",
       "      <td>1695.0</td>\n",
       "      <td>236.0</td>\n",
       "      <td>444.0</td>\n",
       "      <td>617.0</td>\n",
       "      <td>398.0</td>\n",
       "      <td>05</td>\n",
       "      <td>019</td>\n",
       "    </tr>\n",
       "    <tr>\n",
       "      <th>3</th>\n",
       "      <td>Clay County, Arkansas</td>\n",
       "      <td>10482.0</td>\n",
       "      <td>5005.0</td>\n",
       "      <td>1137.0</td>\n",
       "      <td>2240.0</td>\n",
       "      <td>1161.0</td>\n",
       "      <td>467.0</td>\n",
       "      <td>5477.0</td>\n",
       "      <td>1041.0</td>\n",
       "      <td>2231.0</td>\n",
       "      <td>...</td>\n",
       "      <td>15.0</td>\n",
       "      <td>6.0</td>\n",
       "      <td>0.0</td>\n",
       "      <td>0.0</td>\n",
       "      <td>0.0</td>\n",
       "      <td>0.0</td>\n",
       "      <td>0.0</td>\n",
       "      <td>0.0</td>\n",
       "      <td>05</td>\n",
       "      <td>021</td>\n",
       "    </tr>\n",
       "    <tr>\n",
       "      <th>4</th>\n",
       "      <td>Cleburne County, Arkansas</td>\n",
       "      <td>18320.0</td>\n",
       "      <td>8891.0</td>\n",
       "      <td>1672.0</td>\n",
       "      <td>3280.0</td>\n",
       "      <td>2554.0</td>\n",
       "      <td>1385.0</td>\n",
       "      <td>9429.0</td>\n",
       "      <td>1389.0</td>\n",
       "      <td>3712.0</td>\n",
       "      <td>...</td>\n",
       "      <td>28.0</td>\n",
       "      <td>21.0</td>\n",
       "      <td>12.0</td>\n",
       "      <td>11.0</td>\n",
       "      <td>0.0</td>\n",
       "      <td>4.0</td>\n",
       "      <td>7.0</td>\n",
       "      <td>0.0</td>\n",
       "      <td>05</td>\n",
       "      <td>023</td>\n",
       "    </tr>\n",
       "  </tbody>\n",
       "</table>\n",
       "<p>5 rows × 25 columns</p>\n",
       "</div>"
      ],
      "text/plain": [
       "                        NAME  C15002A_001E  C15002A_002E  C15002A_003E  \\\n",
       "0   Carroll County, Arkansas       18332.0        8841.0        1575.0   \n",
       "1    Chicot County, Arkansas        3614.0        1756.0         294.0   \n",
       "2     Clark County, Arkansas        9839.0        4722.0         659.0   \n",
       "3      Clay County, Arkansas       10482.0        5005.0        1137.0   \n",
       "4  Cleburne County, Arkansas       18320.0        8891.0        1672.0   \n",
       "\n",
       "   C15002A_004E  C15002A_005E  C15002A_006E  C15002A_007E  C15002A_008E  \\\n",
       "0        3090.0        2526.0        1650.0        9491.0        1274.0   \n",
       "1         727.0         442.0         293.0        1858.0         241.0   \n",
       "2        1444.0        1332.0        1287.0        5117.0         606.0   \n",
       "3        2240.0        1161.0         467.0        5477.0        1041.0   \n",
       "4        3280.0        2554.0        1385.0        9429.0        1389.0   \n",
       "\n",
       "   C15002A_009E  ...  C15002B_004E  C15002B_005E  C15002B_006E  C15002B_007E  \\\n",
       "0        3361.0  ...          38.0           8.0           0.0         107.0   \n",
       "1         696.0  ...         899.0         277.0         101.0        2147.0   \n",
       "2        1570.0  ...         536.0         375.0         218.0        1695.0   \n",
       "3        2231.0  ...          15.0           6.0           0.0           0.0   \n",
       "4        3712.0  ...          28.0          21.0          12.0          11.0   \n",
       "\n",
       "   C15002B_008E  C15002B_009E  C15002B_010E  C15002B_011E  state  county  \n",
       "0           0.0          77.0          26.0           4.0     05     015  \n",
       "1         454.0         868.0         557.0         268.0     05     017  \n",
       "2         236.0         444.0         617.0         398.0     05     019  \n",
       "3           0.0           0.0           0.0           0.0     05     021  \n",
       "4           0.0           4.0           7.0           0.0     05     023  \n",
       "\n",
       "[5 rows x 25 columns]"
      ]
     },
     "execution_count": 12,
     "metadata": {},
     "output_type": "execute_result"
    }
   ],
   "source": [
    "education=pd.DataFrame(education_data)\n",
    "#education.head()\n",
    "county4 =education.NAME.str.split(', ', expand=True).loc[:,0]\n",
    "state4=education.NAME.str.split(', ', expand=True).loc[:,1]\n",
    "\n",
    "education.head()"
   ]
  },
  {
   "cell_type": "code",
   "execution_count": 19,
   "metadata": {},
   "outputs": [],
   "source": [
    "indiana_education=pd.DataFrame({\"State\":state4,\"County\":county4,\"White Pop (25 and over)\":education[\"C15002A_001E\"],\n",
    "                               \"White Males (25 and over)\":education[\"C15002A_002E\"],\"White Male (less than High School)\":education[\"C15002A_003E\"],\n",
    "                                \"White Male (High School)\":education[\"C15002A_004E\"],\n",
    "                               \"White Male (some college)\":education[\"C15002A_005E\"],\n",
    "                               \"White Male (Bachelor's or higher)\":education[\"C15002A_006E\"],\n",
    "                               \"White Female (25 and over)\":education[\"C15002A_007E\"],\n",
    "                               \"White Female (less than High School)\":education[\"C15002A_008E\"],\n",
    "                               \"White Female (High School)\":education[\"C15002A_009E\"],\n",
    "                               \"White Female (some college)\":education[\"C15002A_010E\"],\n",
    "                               \"White Female (Bachelor's or higher)\":education[\"C15002A_011E\"],\n",
    "                               \"Af-Am (25 and over)\":education[\"C15002B_001E\"],\n",
    "                               \"Af-Am Male (25 and over)\":education[\"C15002B_002E\"],\n",
    "                               \"Af-Am Male (less than High School)\":education[\"C15002B_003E\"],\n",
    "                               \"Af-Am Male (High School)\":education[\"C15002B_004E\"],\n",
    "                               \"Af-Am Male (some college)\":education[\"C15002B_005E\"],\n",
    "                               \"Af-Am Male (Bachelor's or higher)\":education[\"C15002B_006E\"],\n",
    "                               \"Af-Am Female (25 and over)\":education[\"C15002B_007E\"],\n",
    "                               \"Af-Am Female (less than High School)\":education[\"C15002B_008E\"],\n",
    "                               \"Af-Am Female (High School)\":education[\"C15002B_009E\"],\n",
    "                               \"Af-Am Female (some college)\":education[\"C15002B_010E\"],\n",
    "                               \"Af-Am Female (Bachelor's or higher)\":education[\"C15002B_011E\"]})"
   ]
  },
  {
   "cell_type": "code",
   "execution_count": 27,
   "metadata": {
    "scrolled": true
   },
   "outputs": [],
   "source": [
    "indiana_education=indiana_education.loc[indiana_education[\"State\"]==\"Indiana\"]\n",
    "indiana_education.to_csv('indiana_education.csv')"
   ]
  },
  {
   "cell_type": "code",
   "execution_count": null,
   "metadata": {},
   "outputs": [],
   "source": []
  }
 ],
 "metadata": {
  "kernelspec": {
   "display_name": "Python [conda env:PythonData] *",
   "language": "python",
   "name": "conda-env-PythonData-py"
  },
  "language_info": {
   "codemirror_mode": {
    "name": "ipython",
    "version": 3
   },
   "file_extension": ".py",
   "mimetype": "text/x-python",
   "name": "python",
   "nbconvert_exporter": "python",
   "pygments_lexer": "ipython3",
   "version": "3.7.5"
  }
 },
 "nbformat": 4,
 "nbformat_minor": 2
}
