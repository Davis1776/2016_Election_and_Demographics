{
 "cells": [
  {
   "cell_type": "code",
   "execution_count": 3,
   "metadata": {},
   "outputs": [],
   "source": [
    "# Dependencies and Setup\n",
    "import matplotlib.pyplot as plt\n",
    "import pandas as pd\n",
    "import scipy.stats as st\n",
    "import numpy as np\n",
    "from scipy.stats import linregress"
   ]
  },
  {
   "cell_type": "code",
   "execution_count": 4,
   "metadata": {},
   "outputs": [
    {
     "data": {
      "text/html": [
       "<div>\n",
       "<style scoped>\n",
       "    .dataframe tbody tr th:only-of-type {\n",
       "        vertical-align: middle;\n",
       "    }\n",
       "\n",
       "    .dataframe tbody tr th {\n",
       "        vertical-align: top;\n",
       "    }\n",
       "\n",
       "    .dataframe thead th {\n",
       "        text-align: right;\n",
       "    }\n",
       "</style>\n",
       "<table border=\"1\" class=\"dataframe\">\n",
       "  <thead>\n",
       "    <tr style=\"text-align: right;\">\n",
       "      <th></th>\n",
       "      <th>Unnamed: 0</th>\n",
       "      <th>State</th>\n",
       "      <th>State Abbr</th>\n",
       "      <th>County</th>\n",
       "      <th>DEM Votes</th>\n",
       "      <th>GOP Votes</th>\n",
       "      <th>Total Votes</th>\n",
       "      <th>DEM %</th>\n",
       "      <th>GOP %</th>\n",
       "      <th>Total Population</th>\n",
       "      <th>...</th>\n",
       "      <th>Education (Bachelors)</th>\n",
       "      <th>Education (Masters)</th>\n",
       "      <th>Education (Professional)</th>\n",
       "      <th>Education (Doctorate)</th>\n",
       "      <th>Median Income</th>\n",
       "      <th>Income Per Capita</th>\n",
       "      <th>Median Home Value</th>\n",
       "      <th>Pop in Labor Force</th>\n",
       "      <th>Pop Not in Labor Force</th>\n",
       "      <th>Unemployed</th>\n",
       "    </tr>\n",
       "  </thead>\n",
       "  <tbody>\n",
       "    <tr>\n",
       "      <th>0</th>\n",
       "      <td>0</td>\n",
       "      <td>Indiana</td>\n",
       "      <td>IN</td>\n",
       "      <td>Adams County</td>\n",
       "      <td>2802</td>\n",
       "      <td>9642</td>\n",
       "      <td>13039</td>\n",
       "      <td>0.214894</td>\n",
       "      <td>0.739474</td>\n",
       "      <td>34813.0</td>\n",
       "      <td>...</td>\n",
       "      <td>2311.0</td>\n",
       "      <td>768.0</td>\n",
       "      <td>126.0</td>\n",
       "      <td>64.0</td>\n",
       "      <td>47572.0</td>\n",
       "      <td>21173.0</td>\n",
       "      <td>114600.0</td>\n",
       "      <td>15975.0</td>\n",
       "      <td>8948.0</td>\n",
       "      <td>872.0</td>\n",
       "    </tr>\n",
       "    <tr>\n",
       "      <th>1</th>\n",
       "      <td>1</td>\n",
       "      <td>Indiana</td>\n",
       "      <td>IN</td>\n",
       "      <td>Allen County</td>\n",
       "      <td>55222</td>\n",
       "      <td>83801</td>\n",
       "      <td>145787</td>\n",
       "      <td>0.378785</td>\n",
       "      <td>0.574818</td>\n",
       "      <td>365565.0</td>\n",
       "      <td>...</td>\n",
       "      <td>42160.0</td>\n",
       "      <td>16367.0</td>\n",
       "      <td>4152.0</td>\n",
       "      <td>1694.0</td>\n",
       "      <td>49574.0</td>\n",
       "      <td>26058.0</td>\n",
       "      <td>116400.0</td>\n",
       "      <td>186706.0</td>\n",
       "      <td>93216.0</td>\n",
       "      <td>13152.0</td>\n",
       "    </tr>\n",
       "    <tr>\n",
       "      <th>2</th>\n",
       "      <td>2</td>\n",
       "      <td>Indiana</td>\n",
       "      <td>IN</td>\n",
       "      <td>Bartholomew County</td>\n",
       "      <td>9841</td>\n",
       "      <td>20637</td>\n",
       "      <td>32389</td>\n",
       "      <td>0.303838</td>\n",
       "      <td>0.637161</td>\n",
       "      <td>80203.0</td>\n",
       "      <td>...</td>\n",
       "      <td>9685.0</td>\n",
       "      <td>5255.0</td>\n",
       "      <td>499.0</td>\n",
       "      <td>632.0</td>\n",
       "      <td>55874.0</td>\n",
       "      <td>28631.0</td>\n",
       "      <td>137500.0</td>\n",
       "      <td>41710.0</td>\n",
       "      <td>21169.0</td>\n",
       "      <td>2165.0</td>\n",
       "    </tr>\n",
       "    <tr>\n",
       "      <th>3</th>\n",
       "      <td>3</td>\n",
       "      <td>Indiana</td>\n",
       "      <td>IN</td>\n",
       "      <td>Benton County</td>\n",
       "      <td>860</td>\n",
       "      <td>2579</td>\n",
       "      <td>3654</td>\n",
       "      <td>0.235359</td>\n",
       "      <td>0.705802</td>\n",
       "      <td>8709.0</td>\n",
       "      <td>...</td>\n",
       "      <td>753.0</td>\n",
       "      <td>188.0</td>\n",
       "      <td>42.0</td>\n",
       "      <td>12.0</td>\n",
       "      <td>48069.0</td>\n",
       "      <td>23181.0</td>\n",
       "      <td>81500.0</td>\n",
       "      <td>4368.0</td>\n",
       "      <td>2364.0</td>\n",
       "      <td>201.0</td>\n",
       "    </tr>\n",
       "    <tr>\n",
       "      <th>4</th>\n",
       "      <td>4</td>\n",
       "      <td>Indiana</td>\n",
       "      <td>IN</td>\n",
       "      <td>Blackford County</td>\n",
       "      <td>1243</td>\n",
       "      <td>3349</td>\n",
       "      <td>4822</td>\n",
       "      <td>0.257777</td>\n",
       "      <td>0.694525</td>\n",
       "      <td>12364.0</td>\n",
       "      <td>...</td>\n",
       "      <td>546.0</td>\n",
       "      <td>315.0</td>\n",
       "      <td>51.0</td>\n",
       "      <td>42.0</td>\n",
       "      <td>38791.0</td>\n",
       "      <td>21980.0</td>\n",
       "      <td>67100.0</td>\n",
       "      <td>5763.0</td>\n",
       "      <td>4263.0</td>\n",
       "      <td>480.0</td>\n",
       "    </tr>\n",
       "  </tbody>\n",
       "</table>\n",
       "<p>5 rows × 31 columns</p>\n",
       "</div>"
      ],
      "text/plain": [
       "   Unnamed: 0    State State Abbr              County  DEM Votes  GOP Votes  \\\n",
       "0           0  Indiana         IN        Adams County       2802       9642   \n",
       "1           1  Indiana         IN        Allen County      55222      83801   \n",
       "2           2  Indiana         IN  Bartholomew County       9841      20637   \n",
       "3           3  Indiana         IN       Benton County        860       2579   \n",
       "4           4  Indiana         IN    Blackford County       1243       3349   \n",
       "\n",
       "   Total Votes     DEM %     GOP %  Total Population  ...  \\\n",
       "0        13039  0.214894  0.739474           34813.0  ...   \n",
       "1       145787  0.378785  0.574818          365565.0  ...   \n",
       "2        32389  0.303838  0.637161           80203.0  ...   \n",
       "3         3654  0.235359  0.705802            8709.0  ...   \n",
       "4         4822  0.257777  0.694525           12364.0  ...   \n",
       "\n",
       "   Education (Bachelors)  Education (Masters)  Education (Professional)  \\\n",
       "0                 2311.0                768.0                     126.0   \n",
       "1                42160.0              16367.0                    4152.0   \n",
       "2                 9685.0               5255.0                     499.0   \n",
       "3                  753.0                188.0                      42.0   \n",
       "4                  546.0                315.0                      51.0   \n",
       "\n",
       "   Education (Doctorate)  Median Income  Income Per Capita  Median Home Value  \\\n",
       "0                   64.0        47572.0            21173.0           114600.0   \n",
       "1                 1694.0        49574.0            26058.0           116400.0   \n",
       "2                  632.0        55874.0            28631.0           137500.0   \n",
       "3                   12.0        48069.0            23181.0            81500.0   \n",
       "4                   42.0        38791.0            21980.0            67100.0   \n",
       "\n",
       "   Pop in Labor Force  Pop Not in Labor Force  Unemployed  \n",
       "0             15975.0                  8948.0       872.0  \n",
       "1            186706.0                 93216.0     13152.0  \n",
       "2             41710.0                 21169.0      2165.0  \n",
       "3              4368.0                  2364.0       201.0  \n",
       "4              5763.0                  4263.0       480.0  \n",
       "\n",
       "[5 rows x 31 columns]"
      ]
     },
     "execution_count": 4,
     "metadata": {},
     "output_type": "execute_result"
    }
   ],
   "source": [
    "csvpath='merged_file.csv'\n",
    "election=pd.read_csv(csvpath)\n",
    "election.head()"
   ]
  },
  {
   "cell_type": "code",
   "execution_count": 7,
   "metadata": {},
   "outputs": [],
   "source": [
    "a=0\n",
    "b=0\n",
    "def LinearRegression(x,y):\n",
    "    # Calculate the correlation coefficient and linear regression model for mouse weight and average tumor volume for the Capomulin regimen\n",
    "    #Calculate the linear regression values to be plotted against weight\n",
    "    (slope, intercept, rvalue, pvalue, stderr) = linregress(x, y)\n",
    "    regress_values = x * slope + intercept\n",
    "    line_eq = \"y = \" + str(round(slope,2)) + \"x + \" + str(round(intercept,2))\n",
    "    \n",
    "    #plot the regression values to form the regression line\n",
    "    plt.plot(x,regress_values,\"r-\")\n",
    "    plt.annotate(line_eq,(a,b),fontsize=15,color=\"red\");\n",
    "    \n",
    "    print(f\"The r-squared is: {rvalue}\")\n",
    "    print(line_eq)"
   ]
  },
  {
   "cell_type": "code",
   "execution_count": 27,
   "metadata": {
    "scrolled": true
   },
   "outputs": [
    {
     "name": "stdout",
     "output_type": "stream",
     "text": [
      "The r-squared is: -0.6858586589534694\n",
      "y = -0.0x + 0.7\n"
     ]
    },
    {
     "data": {
      "image/png": "[encoded data removed]",
      "text/plain": [
       "<Figure size 432x288 with 1 Axes>"
      ]
     },
     "metadata": {
      "needs_background": "light"
     },
     "output_type": "display_data"
    }
   ],
   "source": [
    "#create a scatterplot for unemployment vs %Republican vote\n",
    "plt.scatter(election[\"Unemployed\"],election[\"GOP %\"],marker=\"o\");\n",
    "plt.xlabel(\"Number Unemployed\",weight=\"bold\");\n",
    "plt.ylabel(\"Percentage of GOP Vote\",weight=\"bold\");\n",
    "plt.title(\"Number Unemployed vs Percent GOP Vote: 2016 Election\",weight=\"bold\");\n",
    "\n",
    "a=20000\n",
    "b=0.7\n",
    "LinearRegression(election[\"Unemployed\"],election[\"GOP %\"])"
   ]
  },
  {
   "cell_type": "code",
   "execution_count": 12,
   "metadata": {},
   "outputs": [],
   "source": [
    "unemployment=pd.DataFrame({\"County\":election[\"County\"],\"Total Population\":election[\"Total Population\"],\n",
    "                           \"Unemployed\":election[\"Unemployed\"],\"GOP %\":election[\"GOP %\"]})"
   ]
  },
  {
   "cell_type": "code",
   "execution_count": 13,
   "metadata": {},
   "outputs": [],
   "source": [
    "unemployment[\"% Unemployment\"]=(election[\"Unemployed\"]/election[\"Total Population\"])*100"
   ]
  },
  {
   "cell_type": "code",
   "execution_count": 14,
   "metadata": {},
   "outputs": [
    {
     "data": {
      "text/html": [
       "<div>\n",
       "<style scoped>\n",
       "    .dataframe tbody tr th:only-of-type {\n",
       "        vertical-align: middle;\n",
       "    }\n",
       "\n",
       "    .dataframe tbody tr th {\n",
       "        vertical-align: top;\n",
       "    }\n",
       "\n",
       "    .dataframe thead th {\n",
       "        text-align: right;\n",
       "    }\n",
       "</style>\n",
       "<table border=\"1\" class=\"dataframe\">\n",
       "  <thead>\n",
       "    <tr style=\"text-align: right;\">\n",
       "      <th></th>\n",
       "      <th>County</th>\n",
       "      <th>Total Population</th>\n",
       "      <th>Unemployed</th>\n",
       "      <th>GOP %</th>\n",
       "      <th>% Unemployment</th>\n",
       "    </tr>\n",
       "  </thead>\n",
       "  <tbody>\n",
       "    <tr>\n",
       "      <th>0</th>\n",
       "      <td>Adams County</td>\n",
       "      <td>34813.0</td>\n",
       "      <td>872.0</td>\n",
       "      <td>0.739474</td>\n",
       "      <td>2.504811</td>\n",
       "    </tr>\n",
       "    <tr>\n",
       "      <th>1</th>\n",
       "      <td>Allen County</td>\n",
       "      <td>365565.0</td>\n",
       "      <td>13152.0</td>\n",
       "      <td>0.574818</td>\n",
       "      <td>3.597719</td>\n",
       "    </tr>\n",
       "    <tr>\n",
       "      <th>2</th>\n",
       "      <td>Bartholomew County</td>\n",
       "      <td>80203.0</td>\n",
       "      <td>2165.0</td>\n",
       "      <td>0.637161</td>\n",
       "      <td>2.699400</td>\n",
       "    </tr>\n",
       "    <tr>\n",
       "      <th>3</th>\n",
       "      <td>Benton County</td>\n",
       "      <td>8709.0</td>\n",
       "      <td>201.0</td>\n",
       "      <td>0.705802</td>\n",
       "      <td>2.307957</td>\n",
       "    </tr>\n",
       "    <tr>\n",
       "      <th>4</th>\n",
       "      <td>Blackford County</td>\n",
       "      <td>12364.0</td>\n",
       "      <td>480.0</td>\n",
       "      <td>0.694525</td>\n",
       "      <td>3.882239</td>\n",
       "    </tr>\n",
       "  </tbody>\n",
       "</table>\n",
       "</div>"
      ],
      "text/plain": [
       "               County  Total Population  Unemployed     GOP %  % Unemployment\n",
       "0        Adams County           34813.0       872.0  0.739474        2.504811\n",
       "1        Allen County          365565.0     13152.0  0.574818        3.597719\n",
       "2  Bartholomew County           80203.0      2165.0  0.637161        2.699400\n",
       "3       Benton County            8709.0       201.0  0.705802        2.307957\n",
       "4    Blackford County           12364.0       480.0  0.694525        3.882239"
      ]
     },
     "execution_count": 14,
     "metadata": {},
     "output_type": "execute_result"
    }
   ],
   "source": [
    "unemployment.head()"
   ]
  },
  {
   "cell_type": "code",
   "execution_count": 25,
   "metadata": {
    "scrolled": true
   },
   "outputs": [
    {
     "name": "stdout",
     "output_type": "stream",
     "text": [
      "The r-squared is: -0.3437278816725657\n",
      "y = -0.05x + 0.82\n"
     ]
    },
    {
     "data": {
      "image/png": "[encoded data removed]",
      "text/plain": [
       "<Figure size 432x288 with 1 Axes>"
      ]
     },
     "metadata": {
      "needs_background": "light"
     },
     "output_type": "display_data"
    },
    {
     "data": {
      "text/plain": [
       "<Figure size 1440x2880 with 0 Axes>"
      ]
     },
     "metadata": {},
     "output_type": "display_data"
    }
   ],
   "source": [
    "#create a scatterplot for unemployment vs %Republican vote\n",
    "plt.scatter(unemployment[\"% Unemployment\"],unemployment[\"GOP %\"],marker=\"o\");\n",
    "plt.xlabel(\"Percentage Unemployed\",weight=\"bold\");\n",
    "plt.ylabel(\"Percentage of GOP Vote\",weight=\"bold\");\n",
    "plt.title(\"% Unemployed vs Percent GOP Vote: 2016 Election\",weight=\"bold\");\n",
    "\n",
    "a=40\n",
    "b=0.5\n",
    "LinearRegression(unemployment[\"% Unemployment\"],unemployment[\"GOP %\"])\n",
    "\n",
    "plt.figure(figsize=(20,40));\n"
   ]
  },
  {
   "cell_type": "code",
   "execution_count": null,
   "metadata": {},
   "outputs": [],
   "source": []
  }
 ],
 "metadata": {
  "kernelspec": {
   "display_name": "Python [conda env:PythonData] *",
   "language": "python",
   "name": "conda-env-PythonData-py"
  },
  "language_info": {
   "codemirror_mode": {
    "name": "ipython",
    "version": 3
   },
   "file_extension": ".py",
   "mimetype": "text/x-python",
   "name": "python",
   "nbconvert_exporter": "python",
   "pygments_lexer": "ipython3",
   "version": "3.7.5"
  }
 },
 "nbformat": 4,
 "nbformat_minor": 2
}
