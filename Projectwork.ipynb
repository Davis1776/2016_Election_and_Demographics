{
 "cells": [
  {
   "cell_type": "code",
   "execution_count": 207,
   "metadata": {
    "scrolled": true
   },
   "outputs": [
    {
     "data": {
      "text/html": [
       "<div>\n",
       "<style scoped>\n",
       "    .dataframe tbody tr th:only-of-type {\n",
       "        vertical-align: middle;\n",
       "    }\n",
       "\n",
       "    .dataframe tbody tr th {\n",
       "        vertical-align: top;\n",
       "    }\n",
       "\n",
       "    .dataframe thead th {\n",
       "        text-align: right;\n",
       "    }\n",
       "</style>\n",
       "<table border=\"1\" class=\"dataframe\">\n",
       "  <thead>\n",
       "    <tr style=\"text-align: right;\">\n",
       "      <th></th>\n",
       "      <th>Unnamed: 0</th>\n",
       "      <th>votes_dem</th>\n",
       "      <th>votes_gop</th>\n",
       "      <th>total_votes</th>\n",
       "      <th>per_dem</th>\n",
       "      <th>per_gop</th>\n",
       "      <th>diff</th>\n",
       "      <th>per_point_diff</th>\n",
       "      <th>state_abbr</th>\n",
       "      <th>county_name</th>\n",
       "      <th>combined_fips</th>\n",
       "    </tr>\n",
       "  </thead>\n",
       "  <tbody>\n",
       "    <tr>\n",
       "      <th>0</th>\n",
       "      <td>0</td>\n",
       "      <td>93003.0</td>\n",
       "      <td>130413.0</td>\n",
       "      <td>246588.0</td>\n",
       "      <td>0.377159</td>\n",
       "      <td>0.52887</td>\n",
       "      <td>37,410</td>\n",
       "      <td>15.17%</td>\n",
       "      <td>AK</td>\n",
       "      <td>Alaska</td>\n",
       "      <td>2013</td>\n",
       "    </tr>\n",
       "    <tr>\n",
       "      <th>1</th>\n",
       "      <td>1</td>\n",
       "      <td>93003.0</td>\n",
       "      <td>130413.0</td>\n",
       "      <td>246588.0</td>\n",
       "      <td>0.377159</td>\n",
       "      <td>0.52887</td>\n",
       "      <td>37,410</td>\n",
       "      <td>15.17%</td>\n",
       "      <td>AK</td>\n",
       "      <td>Alaska</td>\n",
       "      <td>2016</td>\n",
       "    </tr>\n",
       "    <tr>\n",
       "      <th>2</th>\n",
       "      <td>2</td>\n",
       "      <td>93003.0</td>\n",
       "      <td>130413.0</td>\n",
       "      <td>246588.0</td>\n",
       "      <td>0.377159</td>\n",
       "      <td>0.52887</td>\n",
       "      <td>37,410</td>\n",
       "      <td>15.17%</td>\n",
       "      <td>AK</td>\n",
       "      <td>Alaska</td>\n",
       "      <td>2020</td>\n",
       "    </tr>\n",
       "    <tr>\n",
       "      <th>3</th>\n",
       "      <td>3</td>\n",
       "      <td>93003.0</td>\n",
       "      <td>130413.0</td>\n",
       "      <td>246588.0</td>\n",
       "      <td>0.377159</td>\n",
       "      <td>0.52887</td>\n",
       "      <td>37,410</td>\n",
       "      <td>15.17%</td>\n",
       "      <td>AK</td>\n",
       "      <td>Alaska</td>\n",
       "      <td>2050</td>\n",
       "    </tr>\n",
       "    <tr>\n",
       "      <th>4</th>\n",
       "      <td>4</td>\n",
       "      <td>93003.0</td>\n",
       "      <td>130413.0</td>\n",
       "      <td>246588.0</td>\n",
       "      <td>0.377159</td>\n",
       "      <td>0.52887</td>\n",
       "      <td>37,410</td>\n",
       "      <td>15.17%</td>\n",
       "      <td>AK</td>\n",
       "      <td>Alaska</td>\n",
       "      <td>2060</td>\n",
       "    </tr>\n",
       "  </tbody>\n",
       "</table>\n",
       "</div>"
      ],
      "text/plain": [
       "   Unnamed: 0  votes_dem  votes_gop  total_votes   per_dem  per_gop    diff  \\\n",
       "0           0    93003.0   130413.0     246588.0  0.377159  0.52887  37,410   \n",
       "1           1    93003.0   130413.0     246588.0  0.377159  0.52887  37,410   \n",
       "2           2    93003.0   130413.0     246588.0  0.377159  0.52887  37,410   \n",
       "3           3    93003.0   130413.0     246588.0  0.377159  0.52887  37,410   \n",
       "4           4    93003.0   130413.0     246588.0  0.377159  0.52887  37,410   \n",
       "\n",
       "  per_point_diff state_abbr county_name  combined_fips  \n",
       "0         15.17%         AK      Alaska           2013  \n",
       "1         15.17%         AK      Alaska           2016  \n",
       "2         15.17%         AK      Alaska           2020  \n",
       "3         15.17%         AK      Alaska           2050  \n",
       "4         15.17%         AK      Alaska           2060  "
      ]
     },
     "execution_count": 207,
     "metadata": {},
     "output_type": "execute_result"
    }
   ],
   "source": [
    "import pandas as pd\n",
    "import numpy as np\n",
    "import requests\n",
    "import json\n",
    "csvpath='2016_US_County_Level_Presidential_Results.csv'\n",
    "election_results=pd.read_csv(csvpath)\n",
    "election_results.head()"
   ]
  },
  {
   "cell_type": "code",
   "execution_count": 208,
   "metadata": {},
   "outputs": [
    {
     "data": {
      "text/html": [
       "<div>\n",
       "<style scoped>\n",
       "    .dataframe tbody tr th:only-of-type {\n",
       "        vertical-align: middle;\n",
       "    }\n",
       "\n",
       "    .dataframe tbody tr th {\n",
       "        vertical-align: top;\n",
       "    }\n",
       "\n",
       "    .dataframe thead th {\n",
       "        text-align: right;\n",
       "    }\n",
       "</style>\n",
       "<table border=\"1\" class=\"dataframe\">\n",
       "  <thead>\n",
       "    <tr style=\"text-align: right;\">\n",
       "      <th></th>\n",
       "      <th>Unnamed: 0</th>\n",
       "      <th>votes_dem</th>\n",
       "      <th>votes_gop</th>\n",
       "      <th>total_votes</th>\n",
       "      <th>per_dem</th>\n",
       "      <th>per_gop</th>\n",
       "      <th>diff</th>\n",
       "      <th>per_point_diff</th>\n",
       "      <th>state_abbr</th>\n",
       "      <th>county_name</th>\n",
       "      <th>combined_fips</th>\n",
       "    </tr>\n",
       "  </thead>\n",
       "  <tbody>\n",
       "    <tr>\n",
       "      <th>795</th>\n",
       "      <td>795</td>\n",
       "      <td>2802.0</td>\n",
       "      <td>9642.0</td>\n",
       "      <td>13039.0</td>\n",
       "      <td>0.214894</td>\n",
       "      <td>0.739474</td>\n",
       "      <td>6,840</td>\n",
       "      <td>52.46%</td>\n",
       "      <td>IN</td>\n",
       "      <td>Adams County</td>\n",
       "      <td>18001</td>\n",
       "    </tr>\n",
       "    <tr>\n",
       "      <th>796</th>\n",
       "      <td>796</td>\n",
       "      <td>55222.0</td>\n",
       "      <td>83801.0</td>\n",
       "      <td>145787.0</td>\n",
       "      <td>0.378785</td>\n",
       "      <td>0.574818</td>\n",
       "      <td>28,579</td>\n",
       "      <td>19.60%</td>\n",
       "      <td>IN</td>\n",
       "      <td>Allen County</td>\n",
       "      <td>18003</td>\n",
       "    </tr>\n",
       "    <tr>\n",
       "      <th>797</th>\n",
       "      <td>797</td>\n",
       "      <td>9841.0</td>\n",
       "      <td>20637.0</td>\n",
       "      <td>32389.0</td>\n",
       "      <td>0.303838</td>\n",
       "      <td>0.637161</td>\n",
       "      <td>10,796</td>\n",
       "      <td>33.33%</td>\n",
       "      <td>IN</td>\n",
       "      <td>Bartholomew County</td>\n",
       "      <td>18005</td>\n",
       "    </tr>\n",
       "    <tr>\n",
       "      <th>798</th>\n",
       "      <td>798</td>\n",
       "      <td>860.0</td>\n",
       "      <td>2579.0</td>\n",
       "      <td>3654.0</td>\n",
       "      <td>0.235359</td>\n",
       "      <td>0.705802</td>\n",
       "      <td>1,719</td>\n",
       "      <td>47.04%</td>\n",
       "      <td>IN</td>\n",
       "      <td>Benton County</td>\n",
       "      <td>18007</td>\n",
       "    </tr>\n",
       "    <tr>\n",
       "      <th>799</th>\n",
       "      <td>799</td>\n",
       "      <td>1243.0</td>\n",
       "      <td>3349.0</td>\n",
       "      <td>4822.0</td>\n",
       "      <td>0.257777</td>\n",
       "      <td>0.694525</td>\n",
       "      <td>2,106</td>\n",
       "      <td>43.67%</td>\n",
       "      <td>IN</td>\n",
       "      <td>Blackford County</td>\n",
       "      <td>18009</td>\n",
       "    </tr>\n",
       "  </tbody>\n",
       "</table>\n",
       "</div>"
      ],
      "text/plain": [
       "     Unnamed: 0  votes_dem  votes_gop  total_votes   per_dem   per_gop  \\\n",
       "795         795     2802.0     9642.0      13039.0  0.214894  0.739474   \n",
       "796         796    55222.0    83801.0     145787.0  0.378785  0.574818   \n",
       "797         797     9841.0    20637.0      32389.0  0.303838  0.637161   \n",
       "798         798      860.0     2579.0       3654.0  0.235359  0.705802   \n",
       "799         799     1243.0     3349.0       4822.0  0.257777  0.694525   \n",
       "\n",
       "       diff per_point_diff state_abbr         county_name  combined_fips  \n",
       "795   6,840         52.46%         IN        Adams County          18001  \n",
       "796  28,579         19.60%         IN        Allen County          18003  \n",
       "797  10,796         33.33%         IN  Bartholomew County          18005  \n",
       "798   1,719         47.04%         IN       Benton County          18007  \n",
       "799   2,106         43.67%         IN    Blackford County          18009  "
      ]
     },
     "execution_count": 208,
     "metadata": {},
     "output_type": "execute_result"
    }
   ],
   "source": [
    "indiana_data=election_results.loc[election_results[\"state_abbr\"]==\"IN\"]\n",
    "total_counties=indiana_data[\"county_name\"].count()\n",
    "indiana_data.head()"
   ]
  },
  {
   "cell_type": "code",
   "execution_count": 219,
   "metadata": {
    "scrolled": true
   },
   "outputs": [
    {
     "name": "stdout",
     "output_type": "stream",
     "text": [
      "92\n"
     ]
    }
   ],
   "source": [
    "indiana_fips=indiana_data[\"combined_fips\"]\n",
    "print(len(indiana_fips))\n",
    "fips=pd.Series(indiana_fips)\n",
    "fips=fips.tolist()\n"
   ]
  },
  {
   "cell_type": "code",
   "execution_count": 226,
   "metadata": {
    "scrolled": true
   },
   "outputs": [
    {
     "ename": "ValueError",
     "evalue": "\nThe create_choropleth figure factory requires the plotly-geo package.\nInstall using pip with:\n\n$ pip install plotly-geo\n\nOr, install using conda with\n\n$ conda install -c plotly plotly-geo\n",
     "output_type": "error",
     "traceback": [
      "\u001b[0;31m---------------------------------------------------------------------------\u001b[0m",
      "\u001b[0;31mValueError\u001b[0m                                Traceback (most recent call last)",
      "\u001b[0;32m<ipython-input-226-e32ec6c706cb>\u001b[0m in \u001b[0;36m<module>\u001b[0;34m\u001b[0m\n\u001b[1;32m      7\u001b[0m \u001b[0mvalues\u001b[0m \u001b[0;34m=\u001b[0m \u001b[0mrange\u001b[0m\u001b[0;34m(\u001b[0m\u001b[0mlen\u001b[0m\u001b[0;34m(\u001b[0m\u001b[0mfips\u001b[0m\u001b[0;34m)\u001b[0m\u001b[0;34m)\u001b[0m\u001b[0;34m\u001b[0m\u001b[0;34m\u001b[0m\u001b[0m\n\u001b[1;32m      8\u001b[0m \u001b[0;34m\u001b[0m\u001b[0m\n\u001b[0;32m----> 9\u001b[0;31m \u001b[0mfig\u001b[0m \u001b[0;34m=\u001b[0m \u001b[0mff\u001b[0m\u001b[0;34m.\u001b[0m\u001b[0mcreate_choropleth\u001b[0m\u001b[0;34m(\u001b[0m\u001b[0mfips\u001b[0m\u001b[0;34m=\u001b[0m\u001b[0mfips\u001b[0m\u001b[0;34m,\u001b[0m \u001b[0mvalues\u001b[0m\u001b[0;34m=\u001b[0m\u001b[0mvalues\u001b[0m\u001b[0;34m)\u001b[0m\u001b[0;34m\u001b[0m\u001b[0;34m\u001b[0m\u001b[0m\n\u001b[0m\u001b[1;32m     10\u001b[0m \u001b[0mfig\u001b[0m\u001b[0;34m.\u001b[0m\u001b[0mlayout\u001b[0m\u001b[0;34m.\u001b[0m\u001b[0mtemplate\u001b[0m \u001b[0;34m=\u001b[0m \u001b[0;32mNone\u001b[0m\u001b[0;34m\u001b[0m\u001b[0;34m\u001b[0m\u001b[0m\n\u001b[1;32m     11\u001b[0m \u001b[0mfig\u001b[0m\u001b[0;34m.\u001b[0m\u001b[0mshow\u001b[0m\u001b[0;34m(\u001b[0m\u001b[0;34m)\u001b[0m\u001b[0;34m\u001b[0m\u001b[0;34m\u001b[0m\u001b[0m\n",
      "\u001b[0;32m~/Applications/anaconda3/envs/PythonData/lib/python3.7/site-packages/plotly/figure_factory/_county_choropleth.py\u001b[0m in \u001b[0;36mcreate_choropleth\u001b[0;34m(fips, values, scope, binning_endpoints, colorscale, order, simplify_county, simplify_state, asp, show_hover, show_state_data, state_outline, county_outline, centroid_marker, round_legend_values, exponent_format, legend_title, **layout_options)\u001b[0m\n\u001b[1;32m    620\u001b[0m \u001b[0;34m\u001b[0m\u001b[0m\n\u001b[1;32m    621\u001b[0m \u001b[0;31m$\u001b[0m \u001b[0mconda\u001b[0m \u001b[0minstall\u001b[0m \u001b[0;34m-\u001b[0m\u001b[0mc\u001b[0m \u001b[0mplotly\u001b[0m \u001b[0mplotly\u001b[0m\u001b[0;34m-\u001b[0m\u001b[0mgeo\u001b[0m\u001b[0;34m\u001b[0m\u001b[0;34m\u001b[0m\u001b[0m\n\u001b[0;32m--> 622\u001b[0;31m \"\"\"\n\u001b[0m\u001b[1;32m    623\u001b[0m         )\n\u001b[1;32m    624\u001b[0m \u001b[0;34m\u001b[0m\u001b[0m\n",
      "\u001b[0;31mValueError\u001b[0m: \nThe create_choropleth figure factory requires the plotly-geo package.\nInstall using pip with:\n\n$ pip install plotly-geo\n\nOr, install using conda with\n\n$ conda install -c plotly plotly-geo\n"
     ]
    }
   ],
   "source": [
    "import plotly.figure_factory as ff\n",
    "\n",
    "#fips = ['06021', '06023', '06027',\n",
    "        #'06029', '06033', '06059',\n",
    "        #'06047', '06049', '06051',\n",
    "        #'06055', '06061']\n",
    "values = range(len(fips))\n",
    "\n",
    "fig = ff.create_choropleth(fips=fips, values=values)\n",
    "fig.layout.template = None\n",
    "fig.show()\n"
   ]
  },
  {
   "cell_type": "code",
   "execution_count": null,
   "metadata": {},
   "outputs": [],
   "source": []
  },
  {
   "cell_type": "code",
   "execution_count": null,
   "metadata": {},
   "outputs": [],
   "source": []
  },
  {
   "cell_type": "code",
   "execution_count": 43,
   "metadata": {
    "scrolled": false
   },
   "outputs": [],
   "source": [
    "# Dependencies\n",
    "import numpy as np\n",
    "import pandas as pd\n",
    "import matplotlib.pyplot as plt\n",
    "import requests\n",
    "from census import Census\n",
    "from us import states\n",
    "\n",
    "# Census API Key\n",
    "from config import census_api_key\n",
    "c = Census(census_api_key, year=2016)\n",
    "import pandas as pd"
   ]
  },
  {
   "cell_type": "code",
   "execution_count": 152,
   "metadata": {},
   "outputs": [],
   "source": [
    "census_data = c.acs5.get((\"NAME\", \"B01003_001E\", \"B02001_002E\",\"B02001_003E\",\"B02001_005E\",\"B03001_003E\",\n",
    "                          \"B25077_001E\",\"B15003_002E\",\"B15003_017E\",\"B15003_018E\",\n",
    "                         \"B15003_021E\",\"B15003_022E\",\"B15003_023E\",\"B15003_024E\",\"B15003_025E\"), {'for': 'county:*'})"
   ]
  },
  {
   "cell_type": "code",
   "execution_count": null,
   "metadata": {
    "scrolled": true
   },
   "outputs": [],
   "source": [
    "census_complete=pd.DataFrame(census_data)\n",
    "census_complete=census_complete.rename(columns={\"B01003_001E\":\"Total Population\",\n",
    "                                                \"B02001_002E\":\"Population (White)\",\n",
    "                                                \"B02001_003E\":\"Population (African-American)\",\n",
    "                                               \"B02001_005E\":\"Population (Asian)\",\n",
    "                                               \"B03001_003E\":\"Population (Hispanic)\",\n",
    "                                               \"B25077_001E\":\"Median Home Value\",\n",
    "                                               \"B15003_002E\":\"Education (None)\",\n",
    "                                               \"B15003_017E\":\"Education (High School)\",\n",
    "                                               \"B15003_018E\":\"Education (GED)\",\n",
    "                                               \"B15003_021E\":\"Education (Associates)\",\n",
    "                                               \"B15003_022E\":\"Education (Bachelors)\",\n",
    "                                               \"B15003_023E\":\"Education (Masters)\",\n",
    "                                               \"B15003_024E\":\"Education (Professional)\",\n",
    "                                               \"B15003_025E\":\"Education (Doctorate)\"})\n",
    "census_complete.head()\n",
    "#census_county = census_complete[1].str.split(' ').apply(Series, 1)"
   ]
  },
  {
   "cell_type": "code",
   "execution_count": null,
   "metadata": {},
   "outputs": [],
   "source": [
    "county =census_complete.NAME.str.split(', ', expand=True).loc[:,0]\n",
    "state=census_complete.NAME.str.split(', ', expand=True).loc[:,1]"
   ]
  },
  {
   "cell_type": "code",
   "execution_count": null,
   "metadata": {},
   "outputs": [],
   "source": [
    "census_complete[\"County\"]=county\n",
    "census_complete\n",
    "census_complete[\"State\"]=state\n",
    "census_complete.head()"
   ]
  },
  {
   "cell_type": "code",
   "execution_count": null,
   "metadata": {
    "scrolled": true
   },
   "outputs": [],
   "source": [
    "indiana_census=census_complete.loc[census_complete[\"State\"]==\"Indiana\"]\n",
    "indiana_census.head()"
   ]
  },
  {
   "cell_type": "code",
   "execution_count": null,
   "metadata": {},
   "outputs": [],
   "source": [
    "count=indiana_census[\"State\"].count()\n",
    "count\n"
   ]
  },
  {
   "cell_type": "code",
   "execution_count": null,
   "metadata": {
    "scrolled": false
   },
   "outputs": [],
   "source": [
    "indiana_final=pd.DataFrame({\"State\":indiana_census[\"State\"],\"County\":indiana_census[\"County\"],\"Total Population\":indiana_census[\"Total Population\"],\n",
    "                            \"Population (White)\":indiana_census[\"Population (White)\"],\n",
    "                            \"Population (African-American)\":indiana_census[\"Population (African-American)\"],\n",
    "                           \"Population (Asian)\":indiana_census[\"Population (Asian)\"],\n",
    "                           \"Population (Hispanic)\":indiana_census[\"Population (Hispanic)\"],\n",
    "                           \"Median Home Value\":indiana_census[\"Median Home Value\"],\n",
    "                           \"Education (None)\":indiana_census[\"Education (None)\"],\n",
    "                           \"Education (High School)\":indiana_census[\"Education (High School)\"],\n",
    "                           \"Education (GED)\":indiana_census[\"Education (GED)\"],\n",
    "                           \"Education (Associates)\":indiana_census[\"Education (Associates)\"],\n",
    "                           \"Education (Bachelors)\":indiana_census[\"Education (Bachelors)\"],\n",
    "                           \"Education (Masters)\":indiana_census[\"Education (Masters)\"],\n",
    "                           \"Education (Professional)\":indiana_census[\"Education (Professional)\"],\n",
    "                           \"Education (Doctorate)\":indiana_census[\"Education (Doctorate)\"]})\n",
    "\n"
   ]
  },
  {
   "cell_type": "code",
   "execution_count": null,
   "metadata": {},
   "outputs": [],
   "source": [
    "indiana_final.head()"
   ]
  },
  {
   "cell_type": "code",
   "execution_count": null,
   "metadata": {},
   "outputs": [],
   "source": [
    "indiana_final.to_csv(\"indiana_census.csv\")"
   ]
  },
  {
   "cell_type": "code",
   "execution_count": null,
   "metadata": {
    "scrolled": true
   },
   "outputs": [],
   "source": [
    "census_data2 = c.acs5.get((\"NAME\", \"B19013_001E\",\"B19301_001E\",\"B23025_002E\",\"B23025_007E\",\"B23025_005E\",\"B01002_001E\",\n",
    "                           \"B01002_002E\",\"B01002_003E\"), {'for': 'county:*'})"
   ]
  },
  {
   "cell_type": "code",
   "execution_count": null,
   "metadata": {},
   "outputs": [],
   "source": [
    "census2=pd.DataFrame(census_data2)\n",
    "#census2.head()\n",
    "county2 =census2.NAME.str.split(', ', expand=True).loc[:,0]\n",
    "state2=census2.NAME.str.split(', ', expand=True).loc[:,1]"
   ]
  },
  {
   "cell_type": "code",
   "execution_count": null,
   "metadata": {},
   "outputs": [],
   "source": [
    "\n",
    "census_final2=pd.DataFrame({\"County\":county2,\n",
    "                             \"State\":state2,\n",
    "                            \"Median Income\":indiana_census2[\"B19013_001E\"],\n",
    "                            \"Income Per Capita\":indiana_census2[\"B19301_001E\"],\n",
    "                            \"Pop in Labor Force\":indiana_census2[\"B23025_002E\"],\n",
    "                            \"Pop not in Labor Force\":indiana_census2[\"B23025_007E\"],\n",
    "                            \"Unemployed\":indiana_census2[\"B23025_005E\"],\n",
    "                            \"Median Age\":indiana_census2[\"B01002_001E\"],\n",
    "                            \"Median Age (male)\":indiana_census2[\"B01002_002E\"],\n",
    "                            \"Median Age (female)\":indiana_census2[\"B01002_003E\"]})\n",
    "census_final2.head()"
   ]
  },
  {
   "cell_type": "code",
   "execution_count": null,
   "metadata": {
    "scrolled": true
   },
   "outputs": [],
   "source": [
    "indiana_final2=census_final2.loc[census_final2[\"State\"]==\"Indiana\"]\n",
    "indiana_final2.to_csv(\"indiana_census2.csv\")"
   ]
  },
  {
   "cell_type": "code",
   "execution_count": null,
   "metadata": {},
   "outputs": [],
   "source": []
  },
  {
   "cell_type": "code",
   "execution_count": null,
   "metadata": {
    "scrolled": true
   },
   "outputs": [],
   "source": [
    "census_data2 = c.acs5.get((\"NAME\", \"B01001_049E\"), {'for': 'county:*'})\n",
    "data=pd.DataFrame(census_data2)\n",
    "data.head()"
   ]
  },
  {
   "cell_type": "code",
   "execution_count": 63,
   "metadata": {
    "scrolled": true
   },
   "outputs": [
    {
     "data": {
      "text/html": [
       "<div>\n",
       "<style scoped>\n",
       "    .dataframe tbody tr th:only-of-type {\n",
       "        vertical-align: middle;\n",
       "    }\n",
       "\n",
       "    .dataframe tbody tr th {\n",
       "        vertical-align: top;\n",
       "    }\n",
       "\n",
       "    .dataframe thead th {\n",
       "        text-align: right;\n",
       "    }\n",
       "</style>\n",
       "<table border=\"1\" class=\"dataframe\">\n",
       "  <thead>\n",
       "    <tr style=\"text-align: right;\">\n",
       "      <th></th>\n",
       "      <th>NAME</th>\n",
       "      <th>B01001_031E</th>\n",
       "      <th>B01001_032E</th>\n",
       "      <th>B01001_033E</th>\n",
       "      <th>B01001_034E</th>\n",
       "      <th>B01001_035E</th>\n",
       "      <th>B01001_036E</th>\n",
       "      <th>B01001_037E</th>\n",
       "      <th>B01001_038E</th>\n",
       "      <th>B01001_039E</th>\n",
       "      <th>...</th>\n",
       "      <th>B01001_018E</th>\n",
       "      <th>B01001_019E</th>\n",
       "      <th>B01001_020E</th>\n",
       "      <th>B01001_021E</th>\n",
       "      <th>B01001_022E</th>\n",
       "      <th>B01001_023E</th>\n",
       "      <th>B01001_024E</th>\n",
       "      <th>B01001_025E</th>\n",
       "      <th>state</th>\n",
       "      <th>county</th>\n",
       "    </tr>\n",
       "  </thead>\n",
       "  <tbody>\n",
       "    <tr>\n",
       "      <th>0</th>\n",
       "      <td>Carroll County, Arkansas</td>\n",
       "      <td>205.0</td>\n",
       "      <td>105.0</td>\n",
       "      <td>191.0</td>\n",
       "      <td>414.0</td>\n",
       "      <td>700.0</td>\n",
       "      <td>795.0</td>\n",
       "      <td>601.0</td>\n",
       "      <td>914.0</td>\n",
       "      <td>855.0</td>\n",
       "      <td>...</td>\n",
       "      <td>264.0</td>\n",
       "      <td>767.0</td>\n",
       "      <td>540.0</td>\n",
       "      <td>573.0</td>\n",
       "      <td>654.0</td>\n",
       "      <td>403.0</td>\n",
       "      <td>290.0</td>\n",
       "      <td>274.0</td>\n",
       "      <td>05</td>\n",
       "      <td>015</td>\n",
       "    </tr>\n",
       "    <tr>\n",
       "      <th>1</th>\n",
       "      <td>Chicot County, Arkansas</td>\n",
       "      <td>117.0</td>\n",
       "      <td>81.0</td>\n",
       "      <td>22.0</td>\n",
       "      <td>124.0</td>\n",
       "      <td>294.0</td>\n",
       "      <td>162.0</td>\n",
       "      <td>356.0</td>\n",
       "      <td>369.0</td>\n",
       "      <td>360.0</td>\n",
       "      <td>...</td>\n",
       "      <td>89.0</td>\n",
       "      <td>272.0</td>\n",
       "      <td>140.0</td>\n",
       "      <td>176.0</td>\n",
       "      <td>165.0</td>\n",
       "      <td>139.0</td>\n",
       "      <td>156.0</td>\n",
       "      <td>85.0</td>\n",
       "      <td>05</td>\n",
       "      <td>017</td>\n",
       "    </tr>\n",
       "    <tr>\n",
       "      <th>2</th>\n",
       "      <td>Clark County, Arkansas</td>\n",
       "      <td>995.0</td>\n",
       "      <td>442.0</td>\n",
       "      <td>488.0</td>\n",
       "      <td>810.0</td>\n",
       "      <td>525.0</td>\n",
       "      <td>422.0</td>\n",
       "      <td>581.0</td>\n",
       "      <td>785.0</td>\n",
       "      <td>605.0</td>\n",
       "      <td>...</td>\n",
       "      <td>291.0</td>\n",
       "      <td>427.0</td>\n",
       "      <td>265.0</td>\n",
       "      <td>368.0</td>\n",
       "      <td>296.0</td>\n",
       "      <td>316.0</td>\n",
       "      <td>146.0</td>\n",
       "      <td>151.0</td>\n",
       "      <td>05</td>\n",
       "      <td>019</td>\n",
       "    </tr>\n",
       "    <tr>\n",
       "      <th>3</th>\n",
       "      <td>Clay County, Arkansas</td>\n",
       "      <td>144.0</td>\n",
       "      <td>114.0</td>\n",
       "      <td>58.0</td>\n",
       "      <td>234.0</td>\n",
       "      <td>373.0</td>\n",
       "      <td>422.0</td>\n",
       "      <td>415.0</td>\n",
       "      <td>466.0</td>\n",
       "      <td>512.0</td>\n",
       "      <td>...</td>\n",
       "      <td>217.0</td>\n",
       "      <td>291.0</td>\n",
       "      <td>120.0</td>\n",
       "      <td>289.0</td>\n",
       "      <td>416.0</td>\n",
       "      <td>257.0</td>\n",
       "      <td>190.0</td>\n",
       "      <td>142.0</td>\n",
       "      <td>05</td>\n",
       "      <td>021</td>\n",
       "    </tr>\n",
       "    <tr>\n",
       "      <th>4</th>\n",
       "      <td>Cleburne County, Arkansas</td>\n",
       "      <td>228.0</td>\n",
       "      <td>160.0</td>\n",
       "      <td>142.0</td>\n",
       "      <td>241.0</td>\n",
       "      <td>600.0</td>\n",
       "      <td>654.0</td>\n",
       "      <td>747.0</td>\n",
       "      <td>570.0</td>\n",
       "      <td>755.0</td>\n",
       "      <td>...</td>\n",
       "      <td>326.0</td>\n",
       "      <td>575.0</td>\n",
       "      <td>388.0</td>\n",
       "      <td>550.0</td>\n",
       "      <td>806.0</td>\n",
       "      <td>678.0</td>\n",
       "      <td>382.0</td>\n",
       "      <td>281.0</td>\n",
       "      <td>05</td>\n",
       "      <td>023</td>\n",
       "    </tr>\n",
       "  </tbody>\n",
       "</table>\n",
       "<p>5 rows × 41 columns</p>\n",
       "</div>"
      ],
      "text/plain": [
       "                        NAME  B01001_031E  B01001_032E  B01001_033E  \\\n",
       "0   Carroll County, Arkansas        205.0        105.0        191.0   \n",
       "1    Chicot County, Arkansas        117.0         81.0         22.0   \n",
       "2     Clark County, Arkansas        995.0        442.0        488.0   \n",
       "3      Clay County, Arkansas        144.0        114.0         58.0   \n",
       "4  Cleburne County, Arkansas        228.0        160.0        142.0   \n",
       "\n",
       "   B01001_034E  B01001_035E  B01001_036E  B01001_037E  B01001_038E  \\\n",
       "0        414.0        700.0        795.0        601.0        914.0   \n",
       "1        124.0        294.0        162.0        356.0        369.0   \n",
       "2        810.0        525.0        422.0        581.0        785.0   \n",
       "3        234.0        373.0        422.0        415.0        466.0   \n",
       "4        241.0        600.0        654.0        747.0        570.0   \n",
       "\n",
       "   B01001_039E  ...  B01001_018E  B01001_019E  B01001_020E  B01001_021E  \\\n",
       "0        855.0  ...        264.0        767.0        540.0        573.0   \n",
       "1        360.0  ...         89.0        272.0        140.0        176.0   \n",
       "2        605.0  ...        291.0        427.0        265.0        368.0   \n",
       "3        512.0  ...        217.0        291.0        120.0        289.0   \n",
       "4        755.0  ...        326.0        575.0        388.0        550.0   \n",
       "\n",
       "   B01001_022E  B01001_023E  B01001_024E  B01001_025E  state  county  \n",
       "0        654.0        403.0        290.0        274.0     05     015  \n",
       "1        165.0        139.0        156.0         85.0     05     017  \n",
       "2        296.0        316.0        146.0        151.0     05     019  \n",
       "3        416.0        257.0        190.0        142.0     05     021  \n",
       "4        806.0        678.0        382.0        281.0     05     023  \n",
       "\n",
       "[5 rows x 41 columns]"
      ]
     },
     "execution_count": 63,
     "metadata": {},
     "output_type": "execute_result"
    }
   ],
   "source": [
    "#collect census data for age groups....\n",
    "age = c.acs5.get((\"NAME\", \"B01001_031E\",\"B01001_032E\",\"B01001_033E\",\n",
    "                           \"B01001_034E\",\"B01001_035E\",\"B01001_036E\",\n",
    "                           \"B01001_037E\",\"B01001_038E\",\"B01001_039E\",\n",
    "                          \"B01001_040E\",\"B01001_041E\",\"B01001_042E\",\n",
    "                          \"B01001_043E\",\"B01001_044E\",\"B01001_045E\",\n",
    "                          \"B01001_046E\",\"B01001_047E\",\"B01001_048E\",\"B01001_049E\",\n",
    "                         \"B01001_007E\",\"B01001_008E\",\"B01001_009E\",\n",
    "                           \"B01001_010E\",\"B01001_011E\",\"B01001_012E\",\n",
    "                           \"B01001_013E\",\"B01001_014E\",\"B01001_015E\",\n",
    "                          \"B01001_016E\",\"B01001_017E\",\"B01001_018E\",\n",
    "                          \"B01001_019E\",\"B01001_020E\",\"B01001_021E\",\n",
    "                          \"B01001_022E\",\"B01001_023E\",\"B01001_024E\",\"B01001_025E\"), {'for': 'county:*'})\n",
    "age_sex=pd.DataFrame(age)\n",
    "age_sex.head()"
   ]
  },
  {
   "cell_type": "code",
   "execution_count": 64,
   "metadata": {},
   "outputs": [],
   "source": [
    "county3 =age_sex.NAME.str.split(', ', expand=True).loc[:,0]\n",
    "state3=age_sex.NAME.str.split(', ', expand=True).loc[:,1]\n"
   ]
  },
  {
   "cell_type": "code",
   "execution_count": 71,
   "metadata": {
    "scrolled": true
   },
   "outputs": [
    {
     "data": {
      "text/html": [
       "<div>\n",
       "<style scoped>\n",
       "    .dataframe tbody tr th:only-of-type {\n",
       "        vertical-align: middle;\n",
       "    }\n",
       "\n",
       "    .dataframe tbody tr th {\n",
       "        vertical-align: top;\n",
       "    }\n",
       "\n",
       "    .dataframe thead th {\n",
       "        text-align: right;\n",
       "    }\n",
       "</style>\n",
       "<table border=\"1\" class=\"dataframe\">\n",
       "  <thead>\n",
       "    <tr style=\"text-align: right;\">\n",
       "      <th></th>\n",
       "      <th>State</th>\n",
       "      <th>County</th>\n",
       "      <th>Female (18-19)</th>\n",
       "      <th>Female (20)</th>\n",
       "      <th>Female (21)</th>\n",
       "      <th>Female (22-24)</th>\n",
       "      <th>Female (25-29)</th>\n",
       "      <th>Female (30-34)</th>\n",
       "      <th>Female (35-39)</th>\n",
       "      <th>Female (40-44)</th>\n",
       "      <th>...</th>\n",
       "      <th>Male (50-54)</th>\n",
       "      <th>Male (55-59)</th>\n",
       "      <th>Male (60-61)</th>\n",
       "      <th>Male (62-64)</th>\n",
       "      <th>Male (65-66)</th>\n",
       "      <th>Male (67-69)</th>\n",
       "      <th>Male (70-74)</th>\n",
       "      <th>Male (75-79)</th>\n",
       "      <th>Male (80-84)</th>\n",
       "      <th>Male (85 and over)</th>\n",
       "    </tr>\n",
       "  </thead>\n",
       "  <tbody>\n",
       "    <tr>\n",
       "      <th>759</th>\n",
       "      <td>Indiana</td>\n",
       "      <td>Adams County</td>\n",
       "      <td>362.0</td>\n",
       "      <td>145.0</td>\n",
       "      <td>250.0</td>\n",
       "      <td>644.0</td>\n",
       "      <td>951.0</td>\n",
       "      <td>971.0</td>\n",
       "      <td>921.0</td>\n",
       "      <td>996.0</td>\n",
       "      <td>...</td>\n",
       "      <td>1024.0</td>\n",
       "      <td>994.0</td>\n",
       "      <td>397.0</td>\n",
       "      <td>572.0</td>\n",
       "      <td>337.0</td>\n",
       "      <td>335.0</td>\n",
       "      <td>536.0</td>\n",
       "      <td>451.0</td>\n",
       "      <td>194.0</td>\n",
       "      <td>277.0</td>\n",
       "    </tr>\n",
       "    <tr>\n",
       "      <th>760</th>\n",
       "      <td>Indiana</td>\n",
       "      <td>Allen County</td>\n",
       "      <td>4552.0</td>\n",
       "      <td>2281.0</td>\n",
       "      <td>2508.0</td>\n",
       "      <td>7806.0</td>\n",
       "      <td>12736.0</td>\n",
       "      <td>12169.0</td>\n",
       "      <td>11963.0</td>\n",
       "      <td>11260.0</td>\n",
       "      <td>...</td>\n",
       "      <td>12109.0</td>\n",
       "      <td>11663.0</td>\n",
       "      <td>4438.0</td>\n",
       "      <td>5673.0</td>\n",
       "      <td>3468.0</td>\n",
       "      <td>4189.0</td>\n",
       "      <td>4994.0</td>\n",
       "      <td>3427.0</td>\n",
       "      <td>2335.0</td>\n",
       "      <td>2145.0</td>\n",
       "    </tr>\n",
       "    <tr>\n",
       "      <th>761</th>\n",
       "      <td>Indiana</td>\n",
       "      <td>Bartholomew County</td>\n",
       "      <td>733.0</td>\n",
       "      <td>540.0</td>\n",
       "      <td>332.0</td>\n",
       "      <td>1488.0</td>\n",
       "      <td>2671.0</td>\n",
       "      <td>2482.0</td>\n",
       "      <td>2691.0</td>\n",
       "      <td>2570.0</td>\n",
       "      <td>...</td>\n",
       "      <td>2661.0</td>\n",
       "      <td>2376.0</td>\n",
       "      <td>1000.0</td>\n",
       "      <td>1428.0</td>\n",
       "      <td>804.0</td>\n",
       "      <td>1094.0</td>\n",
       "      <td>1359.0</td>\n",
       "      <td>943.0</td>\n",
       "      <td>633.0</td>\n",
       "      <td>437.0</td>\n",
       "    </tr>\n",
       "    <tr>\n",
       "      <th>762</th>\n",
       "      <td>Indiana</td>\n",
       "      <td>Benton County</td>\n",
       "      <td>85.0</td>\n",
       "      <td>30.0</td>\n",
       "      <td>55.0</td>\n",
       "      <td>127.0</td>\n",
       "      <td>216.0</td>\n",
       "      <td>258.0</td>\n",
       "      <td>210.0</td>\n",
       "      <td>299.0</td>\n",
       "      <td>...</td>\n",
       "      <td>318.0</td>\n",
       "      <td>332.0</td>\n",
       "      <td>104.0</td>\n",
       "      <td>158.0</td>\n",
       "      <td>77.0</td>\n",
       "      <td>129.0</td>\n",
       "      <td>179.0</td>\n",
       "      <td>141.0</td>\n",
       "      <td>54.0</td>\n",
       "      <td>39.0</td>\n",
       "    </tr>\n",
       "    <tr>\n",
       "      <th>763</th>\n",
       "      <td>Indiana</td>\n",
       "      <td>Blackford County</td>\n",
       "      <td>147.0</td>\n",
       "      <td>29.0</td>\n",
       "      <td>53.0</td>\n",
       "      <td>238.0</td>\n",
       "      <td>331.0</td>\n",
       "      <td>319.0</td>\n",
       "      <td>326.0</td>\n",
       "      <td>367.0</td>\n",
       "      <td>...</td>\n",
       "      <td>470.0</td>\n",
       "      <td>456.0</td>\n",
       "      <td>160.0</td>\n",
       "      <td>273.0</td>\n",
       "      <td>219.0</td>\n",
       "      <td>187.0</td>\n",
       "      <td>256.0</td>\n",
       "      <td>202.0</td>\n",
       "      <td>106.0</td>\n",
       "      <td>97.0</td>\n",
       "    </tr>\n",
       "  </tbody>\n",
       "</table>\n",
       "<p>5 rows × 40 columns</p>\n",
       "</div>"
      ],
      "text/plain": [
       "       State              County  Female (18-19)  Female (20)  Female (21)  \\\n",
       "759  Indiana        Adams County           362.0        145.0        250.0   \n",
       "760  Indiana        Allen County          4552.0       2281.0       2508.0   \n",
       "761  Indiana  Bartholomew County           733.0        540.0        332.0   \n",
       "762  Indiana       Benton County            85.0         30.0         55.0   \n",
       "763  Indiana    Blackford County           147.0         29.0         53.0   \n",
       "\n",
       "     Female (22-24)  Female (25-29)  Female (30-34)  Female (35-39)  \\\n",
       "759           644.0           951.0           971.0           921.0   \n",
       "760          7806.0         12736.0         12169.0         11963.0   \n",
       "761          1488.0          2671.0          2482.0          2691.0   \n",
       "762           127.0           216.0           258.0           210.0   \n",
       "763           238.0           331.0           319.0           326.0   \n",
       "\n",
       "     Female (40-44)  ...  Male (50-54)  Male (55-59)  Male (60-61)  \\\n",
       "759           996.0  ...        1024.0         994.0         397.0   \n",
       "760         11260.0  ...       12109.0       11663.0        4438.0   \n",
       "761          2570.0  ...        2661.0        2376.0        1000.0   \n",
       "762           299.0  ...         318.0         332.0         104.0   \n",
       "763           367.0  ...         470.0         456.0         160.0   \n",
       "\n",
       "     Male (62-64)  Male (65-66)  Male (67-69)  Male (70-74)  Male (75-79)  \\\n",
       "759         572.0         337.0         335.0         536.0         451.0   \n",
       "760        5673.0        3468.0        4189.0        4994.0        3427.0   \n",
       "761        1428.0         804.0        1094.0        1359.0         943.0   \n",
       "762         158.0          77.0         129.0         179.0         141.0   \n",
       "763         273.0         219.0         187.0         256.0         202.0   \n",
       "\n",
       "     Male (80-84)  Male (85 and over)  \n",
       "759         194.0               277.0  \n",
       "760        2335.0              2145.0  \n",
       "761         633.0               437.0  \n",
       "762          54.0                39.0  \n",
       "763         106.0                97.0  \n",
       "\n",
       "[5 rows x 40 columns]"
      ]
     },
     "execution_count": 71,
     "metadata": {},
     "output_type": "execute_result"
    }
   ],
   "source": [
    "age_sex_complete=pd.DataFrame({\"State\":state3,\"County\":county3,\n",
    "                            \"Female (18-19)\":age_sex[\"B01001_031E\"],\"Female (20)\":age_sex[\"B01001_032E\"],\n",
    "                            \"Female (21)\":age_sex[\"B01001_033E\"],\"Female (22-24)\":age_sex[\"B01001_034E\"],\n",
    "                            \"Female (25-29)\":age_sex[\"B01001_035E\"],\"Female (30-34)\":age_sex[\"B01001_036E\"],\n",
    "                             \"Female (35-39)\":age_sex[\"B01001_037E\"],\n",
    "                            \"Female (40-44)\":age_sex[\"B01001_038E\"],\"Female (45-49)\":age_sex[\"B01001_039E\"],\n",
    "                            \"Female (50-54)\":age_sex[\"B01001_040E\"],\"Female (55-59)\":age_sex[\"B01001_041E\"],\n",
    "                            \"Female (60-61)\":age_sex[\"B01001_042E\"],\"Female (62-64)\":age_sex[\"B01001_043E\"],\n",
    "                            \"Female (65-66)\":age_sex[\"B01001_044E\"],\"Female (67-69)\":age_sex[\"B01001_045E\"],\n",
    "                            \"Female (70-74)\":age_sex[\"B01001_046E\"],\"Female (75-79)\":age_sex[\"B01001_047E\"],\n",
    "                            \"Female (80-84)\":age_sex[\"B01001_048E\"],\"Female (85 and over)\":age_sex[\"B01001_049E\"],\n",
    "                              \"Male (18-19)\":age_sex[\"B01001_007E\"],\"Male (20)\":age_sex[\"B01001_008E\"],\n",
    "                            \"Male (21)\":age_sex[\"B01001_009E\"],\"Male (22-24)\":age_sex[\"B01001_010E\"],\n",
    "                            \"Male (25-29)\":age_sex[\"B01001_011E\"],\"Male (30-34)\":age_sex[\"B01001_012E\"],\n",
    "                             \"Male (35-39)\":age_sex[\"B01001_013E\"],\n",
    "                            \"Male (40-44)\":age_sex[\"B01001_014E\"],\"Male (45-49)\":age_sex[\"B01001_015E\"],\n",
    "                            \"Male (50-54)\":age_sex[\"B01001_016E\"],\"Male (55-59)\":age_sex[\"B01001_017E\"],\n",
    "                            \"Male (60-61)\":age_sex[\"B01001_018E\"],\"Male (62-64)\":age_sex[\"B01001_019E\"],\n",
    "                            \"Male (65-66)\":age_sex[\"B01001_020E\"],\"Male (67-69)\":age_sex[\"B01001_021E\"],\n",
    "                            \"Male (70-74)\":age_sex[\"B01001_022E\"],\"Male (75-79)\":age_sex[\"B01001_023E\"],\n",
    "                            \"Male (80-84)\":age_sex[\"B01001_024E\"],\"Male (85 and over)\":age_sex[\"B01001_025E\"]})\n",
    "\n",
    "indiana_ages=age_sex_complete.loc[age_sex_complete[\"State\"]==\"Indiana\"]\n",
    "indiana_ages.head()\n"
   ]
  },
  {
   "cell_type": "code",
   "execution_count": 229,
   "metadata": {},
   "outputs": [],
   "source": [
    "indiana_ages.to_csv(\"indiana_ages.csv\")"
   ]
  },
  {
   "cell_type": "code",
   "execution_count": 74,
   "metadata": {
    "scrolled": false
   },
   "outputs": [
    {
     "data": {
      "text/plain": [
       "Index(['State', 'County', 'Female (18-19)', 'Female (20)', 'Female (21)',\n",
       "       'Female (22-24)', 'Female (25-29)', 'Female (30-34)', 'Female (35-39)',\n",
       "       'Female (40-44)', 'Female (45-49)', 'Female (50-54)', 'Female (55-59)',\n",
       "       'Female (60-61)', 'Female (62-64)', 'Female (65-66)', 'Female (67-69)',\n",
       "       'Female (70-74)', 'Female (75-79)', 'Female (80-84)',\n",
       "       'Female (85 and over)', 'Male (18-19)', 'Male (20)', 'Male (21)',\n",
       "       'Male (22-24)', 'Male (25-29)', 'Male (30-34)', 'Male (35-39)',\n",
       "       'Male (40-44)', 'Male (45-49)', 'Male (50-54)', 'Male (55-59)',\n",
       "       'Male (60-61)', 'Male (62-64)', 'Male (65-66)', 'Male (67-69)',\n",
       "       'Male (70-74)', 'Male (75-79)', 'Male (80-84)', 'Male (85 and over)'],\n",
       "      dtype='object')"
      ]
     },
     "execution_count": 74,
     "metadata": {},
     "output_type": "execute_result"
    }
   ],
   "source": [
    "indiana_ages.columns"
   ]
  },
  {
   "cell_type": "code",
   "execution_count": 118,
   "metadata": {
    "scrolled": true
   },
   "outputs": [],
   "source": [
    "indiana_ages_total=pd.DataFrame({\"County\":indiana_ages[\"County\"],\n",
    "                                \"Pop (18-19)\":indiana_ages[\"Female (18-19)\"]+indiana_ages[\"Male (18-19)\"],\n",
    "                                \"Pop (20)\":indiana_ages[\"Female (20)\"]+indiana_ages[\"Male (20)\"],\n",
    "                                \"Pop (21)\":indiana_ages[\"Female (21)\"]+indiana_ages[\"Male (21)\"],\n",
    "                                \"Pop (22-24)\":indiana_ages[\"Female (22-24)\"]+indiana_ages[\"Male (22-24)\"],\n",
    "                                \"Pop (25-29)\":indiana_ages[\"Female (25-29)\"]+indiana_ages[\"Male (25-29)\"],\n",
    "                                \"Pop (30-34)\":indiana_ages[\"Female (30-34)\"]+indiana_ages[\"Male (30-34)\"],\n",
    "                                \"Pop (35-39)\":indiana_ages[\"Female (35-39)\"]+indiana_ages[\"Male (35-39)\"],\n",
    "                                \"Pop (40-44)\":indiana_ages[\"Female (40-44)\"]+indiana_ages[\"Male (40-44)\"],\n",
    "                                \"Pop (45-49)\":indiana_ages[\"Female (45-49)\"]+indiana_ages[\"Male (45-49)\"],\n",
    "                                \"Pop (50-54)\":indiana_ages[\"Female (50-54)\"]+indiana_ages[\"Male (50-54)\"],\n",
    "                                \"Pop (55-59)\":indiana_ages[\"Female (55-59)\"]+indiana_ages[\"Male (55-59)\"],\n",
    "                                \"Pop (60-61)\":indiana_ages[\"Female (60-61)\"]+indiana_ages[\"Male (60-61)\"],\n",
    "                                \"Pop (62-64)\":indiana_ages[\"Female (62-64)\"]+indiana_ages[\"Male (62-64)\"],\n",
    "                                \"Pop (65-66)\":indiana_ages[\"Female (65-66)\"]+indiana_ages[\"Male (65-66)\"],\n",
    "                                \"Pop (67-69)\":indiana_ages[\"Female (67-69)\"]+indiana_ages[\"Male (67-69)\"],\n",
    "                                \"Pop (70-74)\":indiana_ages[\"Female (70-74)\"]+indiana_ages[\"Male (70-74)\"],\n",
    "                                \"Pop (75-79)\":indiana_ages[\"Female (75-79)\"]+indiana_ages[\"Male (75-79)\"],\n",
    "                                \"Pop (80-84)\":indiana_ages[\"Female (80-84)\"]+indiana_ages[\"Male (80-84)\"],\n",
    "                                \"Pop (85 and over)\":indiana_ages[\"Female (85 and over)\"]+indiana_ages[\"Male (85 and over)\"]})\n",
    "\n",
    "indiana_ages_total\n",
    "marion=indiana_ages_total.loc[indiana_ages_total[\"County\"]==\"Marion County\"]\n",
    "#indiana_counties=indiana_ages_total[\"County\"].unique()\n",
    "#indiana_counties\n",
    "marion_data=marion.iloc[:,[1,2,3,4,5,6,7,8,9,10,11,12,13,14,15,16,17,18,19]].values.flatten().tolist()\n",
    "\n"
   ]
  },
  {
   "cell_type": "code",
   "execution_count": 97,
   "metadata": {
    "scrolled": false
   },
   "outputs": [
    {
     "data": {
      "text/html": [
       "<div>\n",
       "<style scoped>\n",
       "    .dataframe tbody tr th:only-of-type {\n",
       "        vertical-align: middle;\n",
       "    }\n",
       "\n",
       "    .dataframe tbody tr th {\n",
       "        vertical-align: top;\n",
       "    }\n",
       "\n",
       "    .dataframe thead th {\n",
       "        text-align: right;\n",
       "    }\n",
       "</style>\n",
       "<table border=\"1\" class=\"dataframe\">\n",
       "  <thead>\n",
       "    <tr style=\"text-align: right;\">\n",
       "      <th></th>\n",
       "      <th>County</th>\n",
       "      <th>Pop (18-19)</th>\n",
       "      <th>Pop (20)</th>\n",
       "      <th>Pop (21)</th>\n",
       "      <th>Pop (22-24)</th>\n",
       "      <th>Pop (25-29)</th>\n",
       "      <th>Pop (30-34)</th>\n",
       "      <th>Pop (35-39)</th>\n",
       "      <th>Pop (40-44)</th>\n",
       "      <th>Pop (45-49)</th>\n",
       "      <th>Pop (50-54)</th>\n",
       "      <th>Pop (55-59)</th>\n",
       "      <th>Pop (60-61)</th>\n",
       "      <th>Pop (62-64)</th>\n",
       "      <th>Pop (65-66)</th>\n",
       "      <th>Pop (67-69)</th>\n",
       "      <th>Pop (70-74)</th>\n",
       "      <th>Pop (75-79)</th>\n",
       "      <th>Pop (80-84)</th>\n",
       "      <th>Pop (85 and over)</th>\n",
       "    </tr>\n",
       "  </thead>\n",
       "  <tbody>\n",
       "    <tr>\n",
       "      <th>759</th>\n",
       "      <td>Adams County</td>\n",
       "      <td>780.0</td>\n",
       "      <td>490.0</td>\n",
       "      <td>535.0</td>\n",
       "      <td>1117.0</td>\n",
       "      <td>1904.0</td>\n",
       "      <td>2064.0</td>\n",
       "      <td>1864.0</td>\n",
       "      <td>1948.0</td>\n",
       "      <td>2001.0</td>\n",
       "      <td>2100.0</td>\n",
       "      <td>2032.0</td>\n",
       "      <td>877.0</td>\n",
       "      <td>1119.0</td>\n",
       "      <td>687.0</td>\n",
       "      <td>868.0</td>\n",
       "      <td>1076.0</td>\n",
       "      <td>881.0</td>\n",
       "      <td>525.0</td>\n",
       "      <td>996.0</td>\n",
       "    </tr>\n",
       "    <tr>\n",
       "      <th>760</th>\n",
       "      <td>Allen County</td>\n",
       "      <td>9334.0</td>\n",
       "      <td>4671.0</td>\n",
       "      <td>5232.0</td>\n",
       "      <td>15024.0</td>\n",
       "      <td>24951.0</td>\n",
       "      <td>24079.0</td>\n",
       "      <td>23368.0</td>\n",
       "      <td>22458.0</td>\n",
       "      <td>22876.0</td>\n",
       "      <td>24523.0</td>\n",
       "      <td>24219.0</td>\n",
       "      <td>8953.0</td>\n",
       "      <td>11838.0</td>\n",
       "      <td>7299.0</td>\n",
       "      <td>8902.0</td>\n",
       "      <td>11118.0</td>\n",
       "      <td>7948.0</td>\n",
       "      <td>5969.0</td>\n",
       "      <td>6697.0</td>\n",
       "    </tr>\n",
       "    <tr>\n",
       "      <th>761</th>\n",
       "      <td>Bartholomew County</td>\n",
       "      <td>1671.0</td>\n",
       "      <td>1035.0</td>\n",
       "      <td>804.0</td>\n",
       "      <td>3146.0</td>\n",
       "      <td>5761.0</td>\n",
       "      <td>5299.0</td>\n",
       "      <td>5000.0</td>\n",
       "      <td>5514.0</td>\n",
       "      <td>5371.0</td>\n",
       "      <td>5308.0</td>\n",
       "      <td>5222.0</td>\n",
       "      <td>1790.0</td>\n",
       "      <td>2898.0</td>\n",
       "      <td>1873.0</td>\n",
       "      <td>2127.0</td>\n",
       "      <td>2941.0</td>\n",
       "      <td>2172.0</td>\n",
       "      <td>1500.0</td>\n",
       "      <td>1379.0</td>\n",
       "    </tr>\n",
       "    <tr>\n",
       "      <th>762</th>\n",
       "      <td>Benton County</td>\n",
       "      <td>184.0</td>\n",
       "      <td>64.0</td>\n",
       "      <td>105.0</td>\n",
       "      <td>319.0</td>\n",
       "      <td>460.0</td>\n",
       "      <td>509.0</td>\n",
       "      <td>437.0</td>\n",
       "      <td>560.0</td>\n",
       "      <td>593.0</td>\n",
       "      <td>671.0</td>\n",
       "      <td>653.0</td>\n",
       "      <td>222.0</td>\n",
       "      <td>310.0</td>\n",
       "      <td>166.0</td>\n",
       "      <td>249.0</td>\n",
       "      <td>391.0</td>\n",
       "      <td>277.0</td>\n",
       "      <td>157.0</td>\n",
       "      <td>177.0</td>\n",
       "    </tr>\n",
       "    <tr>\n",
       "      <th>763</th>\n",
       "      <td>Blackford County</td>\n",
       "      <td>285.0</td>\n",
       "      <td>114.0</td>\n",
       "      <td>120.0</td>\n",
       "      <td>448.0</td>\n",
       "      <td>698.0</td>\n",
       "      <td>640.0</td>\n",
       "      <td>588.0</td>\n",
       "      <td>800.0</td>\n",
       "      <td>790.0</td>\n",
       "      <td>918.0</td>\n",
       "      <td>901.0</td>\n",
       "      <td>324.0</td>\n",
       "      <td>591.0</td>\n",
       "      <td>395.0</td>\n",
       "      <td>391.0</td>\n",
       "      <td>580.0</td>\n",
       "      <td>511.0</td>\n",
       "      <td>289.0</td>\n",
       "      <td>284.0</td>\n",
       "    </tr>\n",
       "  </tbody>\n",
       "</table>\n",
       "</div>"
      ],
      "text/plain": [
       "                 County  Pop (18-19)  Pop (20)  Pop (21)  Pop (22-24)  \\\n",
       "759        Adams County        780.0     490.0     535.0       1117.0   \n",
       "760        Allen County       9334.0    4671.0    5232.0      15024.0   \n",
       "761  Bartholomew County       1671.0    1035.0     804.0       3146.0   \n",
       "762       Benton County        184.0      64.0     105.0        319.0   \n",
       "763    Blackford County        285.0     114.0     120.0        448.0   \n",
       "\n",
       "     Pop (25-29)  Pop (30-34)  Pop (35-39)  Pop (40-44)  Pop (45-49)  \\\n",
       "759       1904.0       2064.0       1864.0       1948.0       2001.0   \n",
       "760      24951.0      24079.0      23368.0      22458.0      22876.0   \n",
       "761       5761.0       5299.0       5000.0       5514.0       5371.0   \n",
       "762        460.0        509.0        437.0        560.0        593.0   \n",
       "763        698.0        640.0        588.0        800.0        790.0   \n",
       "\n",
       "     Pop (50-54)  Pop (55-59)  Pop (60-61)  Pop (62-64)  Pop (65-66)  \\\n",
       "759       2100.0       2032.0        877.0       1119.0        687.0   \n",
       "760      24523.0      24219.0       8953.0      11838.0       7299.0   \n",
       "761       5308.0       5222.0       1790.0       2898.0       1873.0   \n",
       "762        671.0        653.0        222.0        310.0        166.0   \n",
       "763        918.0        901.0        324.0        591.0        395.0   \n",
       "\n",
       "     Pop (67-69)  Pop (70-74)  Pop (75-79)  Pop (80-84)  Pop (85 and over)  \n",
       "759        868.0       1076.0        881.0        525.0              996.0  \n",
       "760       8902.0      11118.0       7948.0       5969.0             6697.0  \n",
       "761       2127.0       2941.0       2172.0       1500.0             1379.0  \n",
       "762        249.0        391.0        277.0        157.0              177.0  \n",
       "763        391.0        580.0        511.0        289.0              284.0  "
      ]
     },
     "execution_count": 97,
     "metadata": {},
     "output_type": "execute_result"
    }
   ],
   "source": [
    "indiana_ages_total.head()"
   ]
  },
  {
   "cell_type": "code",
   "execution_count": 228,
   "metadata": {},
   "outputs": [],
   "source": [
    "indiana_ages_total.to_csv(\"indiana_pop_age.csv\")\n"
   ]
  },
  {
   "cell_type": "code",
   "execution_count": 122,
   "metadata": {},
   "outputs": [
    {
     "data": {
      "image/png": "[encoded data removed]",
      "text/plain": [
       "<Figure size 432x288 with 1 Axes>"
      ]
     },
     "metadata": {
      "needs_background": "light"
     },
     "output_type": "display_data"
    }
   ],
   "source": [
    "#create histogram for \n",
    "x_axis=np.arange(len(marion_data))\n",
    "\n",
    "plt.bar(x_axis,marion_data);"
   ]
  },
  {
   "cell_type": "code",
   "execution_count": 126,
   "metadata": {},
   "outputs": [],
   "source": [
    "daviess=indiana_ages_total.loc[indiana_ages_total[\"County\"]==\"Daviess County\"]\n",
    "#indiana_counties=indiana_ages_total[\"County\"].unique()\n",
    "#indiana_counties\n",
    "daviess_data=daviess.iloc[:,[1,2,3,4,5,6,7,8,9,10,11,12,13,14,15,16,17,18,19]].values.flatten().tolist()"
   ]
  },
  {
   "cell_type": "code",
   "execution_count": 127,
   "metadata": {
    "scrolled": true
   },
   "outputs": [
    {
     "data": {
      "image/png": "[encoded data removed]",
      "text/plain": [
       "<Figure size 432x288 with 1 Axes>"
      ]
     },
     "metadata": {
      "needs_background": "light"
     },
     "output_type": "display_data"
    }
   ],
   "source": [
    "x_axis=np.arange(len(daviess_data))\n",
    "plt.bar(x_axis,daviess_data);"
   ]
  },
  {
   "cell_type": "code",
   "execution_count": 129,
   "metadata": {},
   "outputs": [],
   "source": [
    "tippecanoe=indiana_ages_total.loc[indiana_ages_total[\"County\"]==\"Tippecanoe County\"]\n",
    "monroe=indiana_ages_total.loc[indiana_ages_total[\"County\"]==\"Monroe County\"]\n",
    "tippecanoe_data=tippecanoe.iloc[:,[1,2,3,4,5,6,7,8,9,10,11,12,13,14,15,16,17,18,19]].values.flatten().tolist()\n",
    "monroe_data=monroe.iloc[:,[1,2,3,4,5,6,7,8,9,10,11,12,13,14,15,16,17,18,19]].values.flatten().tolist()\n",
    "x_axis=np.arange(len(tippecanoe_data))"
   ]
  },
  {
   "cell_type": "code",
   "execution_count": null,
   "metadata": {
    "scrolled": true
   },
   "outputs": [],
   "source": [
    "\n"
   ]
  },
  {
   "cell_type": "code",
   "execution_count": 139,
   "metadata": {},
   "outputs": [],
   "source": [
    "#ax = plt.subplot(111)\n",
    "#ax.bar(x-0.2, y, width=0.2, color='b', align='center')\n",
    "#ax.bar(x, z, width=0.2, color='g', align='center')\n",
    "#ax.bar(x+0.2, k, width=0.2, color='r', align='center')\n",
    "#ax.xaxis_date()\n",
    "\n",
    "\n"
   ]
  },
  {
   "cell_type": "code",
   "execution_count": 183,
   "metadata": {},
   "outputs": [],
   "source": [
    "#tippecanoe male vs female\n",
    "tippecanoe=indiana_ages.loc[indiana_ages[\"County\"]==\"Tippecanoe County\"]\n",
    "tippecanoe_female=tippecanoe.iloc[:,[2,3,4,5,6,7,8,9,10,11,12,13,14,15,16,17,18,19,20]].values.flatten().tolist()\n",
    "tippecanoe_male=tippecanoe.iloc[:,[21,22,23,24,25,26,27,28,29,30,31,32,33,34,35,36,37,38,39]].values.flatten().tolist()\n",
    "categories=[\"18-19\",\"20\",\"21\",\"22-24\",\"25-29\",\"30-34\",\"35-39\",\"40-44\",\"45-49\",\"50-54\",\"55-59\",\"60-61\",\n",
    "           \"62-64\",\"65-66\",\"67-69\",\"70-74\",\"75-79\",\"80-84\",\"85 & over\"]"
   ]
  },
  {
   "cell_type": "code",
   "execution_count": 184,
   "metadata": {},
   "outputs": [
    {
     "data": {
      "image/png": "[encoded data removed]",
      "text/plain": [
       "<Figure size 432x288 with 1 Axes>"
      ]
     },
     "metadata": {
      "needs_background": "light"
     },
     "output_type": "display_data"
    }
   ],
   "source": [
    "import numpy as np\n",
    "import matplotlib.pyplot as plt\n",
    "import pandas as pd\n",
    "\n",
    "tippecanoe_df=pd.DataFrame(np.c_[tippecanoe_female,tippecanoe_male],index=categories)\n",
    "tippecanoe_df.plot.bar();\n",
    "\n"
   ]
  },
  {
   "cell_type": "code",
   "execution_count": 181,
   "metadata": {
    "scrolled": false
   },
   "outputs": [],
   "source": [
    "#monroe male vs female\n",
    "monroe=indiana_ages.loc[indiana_ages[\"County\"]==\"Monroe County\"]\n",
    "monroe_female=monroe.iloc[:,[2,3,4,5,6,7,8,9,10,11,12,13,14,15,16,17,18,19,20]].values.flatten().tolist()\n",
    "monroe_male=monroe.iloc[:,[21,22,23,24,25,26,27,28,29,30,31,32,33,34,35,36,37,38,39]].values.flatten().tolist()\n",
    "categories=[\"18-19\",\"20\",\"21\",\"22-24\",\"25-29\",\"30-34\",\"35-39\",\"40-44\",\"45-49\",\"50-54\",\"55-59\",\"60-61\",\n",
    "           \"62-64\",\"65-66\",\"67-69\",\"70-74\",\"75-79\",\"80-84\",\"85 & over\"]"
   ]
  },
  {
   "cell_type": "code",
   "execution_count": 182,
   "metadata": {
    "scrolled": true
   },
   "outputs": [
    {
     "data": {
      "image/png": "[encoded data removed]",
      "text/plain": [
       "<Figure size 432x288 with 1 Axes>"
      ]
     },
     "metadata": {
      "needs_background": "light"
     },
     "output_type": "display_data"
    }
   ],
   "source": [
    "monroe_df=pd.DataFrame(np.c_[monroe_female,monroe_male],index=categories)\n",
    "monroe_df.plot.bar();"
   ]
  },
  {
   "cell_type": "code",
   "execution_count": 179,
   "metadata": {},
   "outputs": [],
   "source": [
    "#marion male vs female\n",
    "marion=indiana_ages.loc[indiana_ages[\"County\"]==\"Marion County\"]\n",
    "marion_female=marion.iloc[:,[2,3,4,5,6,7,8,9,10,11,12,13,14,15,16,17,18,19,20]].values.flatten().tolist()\n",
    "marion_male=marion.iloc[:,[21,22,23,24,25,26,27,28,29,30,31,32,33,34,35,36,37,38,39]].values.flatten().tolist()\n",
    "categories=[\"18-19\",\"20\",\"21\",\"22-24\",\"25-29\",\"30-34\",\"35-39\",\"40-44\",\"45-49\",\"50-54\",\"55-59\",\"60-61\",\n",
    "           \"62-64\",\"65-66\",\"67-69\",\"70-74\",\"75-79\",\"80-84\",\"85 & over\"]"
   ]
  },
  {
   "cell_type": "code",
   "execution_count": 180,
   "metadata": {
    "scrolled": false
   },
   "outputs": [
    {
     "data": {
      "image/png": "[encoded data removed]",
      "text/plain": [
       "<Figure size 432x288 with 1 Axes>"
      ]
     },
     "metadata": {
      "needs_background": "light"
     },
     "output_type": "display_data"
    }
   ],
   "source": [
    "marion_df=pd.DataFrame(np.c_[marion_female,marion_male],index=categories)\n",
    "marion_df.plot.bar();"
   ]
  },
  {
   "cell_type": "code",
   "execution_count": 177,
   "metadata": {},
   "outputs": [],
   "source": [
    "#daviess male vs female\n",
    "daviess=indiana_ages.loc[indiana_ages[\"County\"]==\"Daviess County\"]\n",
    "daviess_female=daviess.iloc[:,[2,3,4,5,6,7,8,9,10,11,12,13,14,15,16,17,18,19,20]].values.flatten().tolist()\n",
    "daviess_male=daviess.iloc[:,[21,22,23,24,25,26,27,28,29,30,31,32,33,34,35,36,37,38,39]].values.flatten().tolist()\n",
    "categories=[\"18-19\",\"20\",\"21\",\"22-24\",\"25-29\",\"30-34\",\"35-39\",\"40-44\",\"45-49\",\"50-54\",\"55-59\",\"60-61\",\n",
    "           \"62-64\",\"65-66\",\"67-69\",\"70-74\",\"75-79\",\"80-84\",\"85 & over\"]"
   ]
  },
  {
   "cell_type": "code",
   "execution_count": 178,
   "metadata": {},
   "outputs": [
    {
     "data": {
      "image/png": "[encoded data removed]",
      "text/plain": [
       "<Figure size 432x288 with 1 Axes>"
      ]
     },
     "metadata": {
      "needs_background": "light"
     },
     "output_type": "display_data"
    }
   ],
   "source": [
    "daviess_df=pd.DataFrame(np.c_[daviess_female,daviess_male],index=categories)\n",
    "daviess_df.plot.bar();"
   ]
  },
  {
   "cell_type": "code",
   "execution_count": 175,
   "metadata": {},
   "outputs": [],
   "source": [
    "#daviess male vs female\n",
    "lake=indiana_ages.loc[indiana_ages[\"County\"]==\"Lake County\"]\n",
    "lake_female=lake.iloc[:,[2,3,4,5,6,7,8,9,10,11,12,13,14,15,16,17,18,19,20]].values.flatten().tolist()\n",
    "lake_male=lake.iloc[:,[21,22,23,24,25,26,27,28,29,30,31,32,33,34,35,36,37,38,39]].values.flatten().tolist()\n",
    "categories=[\"18-19\",\"20\",\"21\",\"22-24\",\"25-29\",\"30-34\",\"35-39\",\"40-44\",\"45-49\",\"50-54\",\"55-59\",\"60-61\",\n",
    "           \"62-64\",\"65-66\",\"67-69\",\"70-74\",\"75-79\",\"80-84\",\"85 & over\"]\n"
   ]
  },
  {
   "cell_type": "code",
   "execution_count": 176,
   "metadata": {},
   "outputs": [
    {
     "data": {
      "image/png": "[encoded data removed]",
      "text/plain": [
       "<Figure size 432x288 with 1 Axes>"
      ]
     },
     "metadata": {
      "needs_background": "light"
     },
     "output_type": "display_data"
    }
   ],
   "source": [
    "lake_df=pd.DataFrame(np.c_[lake_female,lake_male],index=categories)\n",
    "lake_df.plot.bar();"
   ]
  },
  {
   "cell_type": "code",
   "execution_count": null,
   "metadata": {},
   "outputs": [],
   "source": []
  }
 ],
 "metadata": {
  "kernelspec": {
   "display_name": "Python [conda env:PythonData] *",
   "language": "python",
   "name": "conda-env-PythonData-py"
  },
  "language_info": {
   "codemirror_mode": {
    "name": "ipython",
    "version": 3
   },
   "file_extension": ".py",
   "mimetype": "text/x-python",
   "name": "python",
   "nbconvert_exporter": "python",
   "pygments_lexer": "ipython3",
   "version": "3.7.5"
  }
 },
 "nbformat": 4,
 "nbformat_minor": 2
}
