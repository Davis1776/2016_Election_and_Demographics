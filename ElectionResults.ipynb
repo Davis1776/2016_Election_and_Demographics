{
 "cells": [
  {
   "cell_type": "code",
   "execution_count": null,
   "metadata": {},
   "outputs": [],
   "source": []
  },
  {
   "cell_type": "code",
   "execution_count": 18,
   "metadata": {},
   "outputs": [
    {
     "name": "stdout",
     "output_type": "stream",
     "text": [
      "        ID  votes_dem  votes_gop  total_votes   per_dem   per_gop    diff  \\\n",
      "0        0      93003     130413       246588  0.377159  0.528870  37,410   \n",
      "1        1      93003     130413       246588  0.377159  0.528870  37,410   \n",
      "2        2      93003     130413       246588  0.377159  0.528870  37,410   \n",
      "3        3      93003     130413       246588  0.377159  0.528870  37,410   \n",
      "4        4      93003     130413       246588  0.377159  0.528870  37,410   \n",
      "...    ...        ...        ...          ...       ...       ...     ...   \n",
      "3136  3136       3233      12153        16661  0.194046  0.729428   8,920   \n",
      "3137  3137       7313       3920        12176  0.600608  0.321945   3,393   \n",
      "3138  3138       1202       6154         8053  0.149261  0.764187   4,952   \n",
      "3139  3139        532       2911         3715  0.143203  0.783580   2,379   \n",
      "3140  3140        294       2898         3334  0.088182  0.869226   2,604   \n",
      "\n",
      "     per_point_diff state_abbr        county_name  combined_fips  \n",
      "0            15.17%         AK             Alaska           2013  \n",
      "1            15.17%         AK             Alaska           2016  \n",
      "2            15.17%         AK             Alaska           2020  \n",
      "3            15.17%         AK             Alaska           2050  \n",
      "4            15.17%         AK             Alaska           2060  \n",
      "...             ...        ...                ...            ...  \n",
      "3136         53.54%         WY  Sweetwater County          56037  \n",
      "3137         27.87%         WY       Teton County          56039  \n",
      "3138         61.49%         WY       Uinta County          56041  \n",
      "3139         64.04%         WY    Washakie County          56043  \n",
      "3140         78.10%         WY      Weston County          56045  \n",
      "\n",
      "[3141 rows x 11 columns]\n"
     ]
    }
   ],
   "source": [
    "# Dependencies and Setup\n",
    "import matplotlib.pyplot as plt\n",
    "import pandas as pd\n",
    "import scipy.stats as st\n",
    "import numpy as np\n",
    "import seaborn as sns\n",
    "import csv\n",
    "\n",
    "# Read the Election Results File (CSV)\n",
    "ElectionResults = \"2016_US_County_Level_Presidential_Results.csv\"\n",
    "ElectionResults = pd.read_csv(ElectionResults)\n",
    "print(ElectionResults)"
   ]
  },
  {
   "cell_type": "code",
   "execution_count": 19,
   "metadata": {},
   "outputs": [
    {
     "data": {
      "text/html": [
       "<div>\n",
       "<style scoped>\n",
       "    .dataframe tbody tr th:only-of-type {\n",
       "        vertical-align: middle;\n",
       "    }\n",
       "\n",
       "    .dataframe tbody tr th {\n",
       "        vertical-align: top;\n",
       "    }\n",
       "\n",
       "    .dataframe thead th {\n",
       "        text-align: right;\n",
       "    }\n",
       "</style>\n",
       "<table border=\"1\" class=\"dataframe\">\n",
       "  <thead>\n",
       "    <tr style=\"text-align: right;\">\n",
       "      <th></th>\n",
       "      <th>ID</th>\n",
       "      <th>votes_dem</th>\n",
       "      <th>votes_gop</th>\n",
       "      <th>total_votes</th>\n",
       "      <th>per_dem</th>\n",
       "      <th>per_gop</th>\n",
       "      <th>diff</th>\n",
       "      <th>per_point_diff</th>\n",
       "      <th>state_abbr</th>\n",
       "      <th>county_name</th>\n",
       "      <th>combined_fips</th>\n",
       "    </tr>\n",
       "  </thead>\n",
       "  <tbody>\n",
       "    <tr>\n",
       "      <td>0</td>\n",
       "      <td>0</td>\n",
       "      <td>93003</td>\n",
       "      <td>130413</td>\n",
       "      <td>246588</td>\n",
       "      <td>0.377159</td>\n",
       "      <td>0.52887</td>\n",
       "      <td>37,410</td>\n",
       "      <td>15.17%</td>\n",
       "      <td>AK</td>\n",
       "      <td>Alaska</td>\n",
       "      <td>2013</td>\n",
       "    </tr>\n",
       "    <tr>\n",
       "      <td>1</td>\n",
       "      <td>1</td>\n",
       "      <td>93003</td>\n",
       "      <td>130413</td>\n",
       "      <td>246588</td>\n",
       "      <td>0.377159</td>\n",
       "      <td>0.52887</td>\n",
       "      <td>37,410</td>\n",
       "      <td>15.17%</td>\n",
       "      <td>AK</td>\n",
       "      <td>Alaska</td>\n",
       "      <td>2016</td>\n",
       "    </tr>\n",
       "    <tr>\n",
       "      <td>2</td>\n",
       "      <td>2</td>\n",
       "      <td>93003</td>\n",
       "      <td>130413</td>\n",
       "      <td>246588</td>\n",
       "      <td>0.377159</td>\n",
       "      <td>0.52887</td>\n",
       "      <td>37,410</td>\n",
       "      <td>15.17%</td>\n",
       "      <td>AK</td>\n",
       "      <td>Alaska</td>\n",
       "      <td>2020</td>\n",
       "    </tr>\n",
       "    <tr>\n",
       "      <td>3</td>\n",
       "      <td>3</td>\n",
       "      <td>93003</td>\n",
       "      <td>130413</td>\n",
       "      <td>246588</td>\n",
       "      <td>0.377159</td>\n",
       "      <td>0.52887</td>\n",
       "      <td>37,410</td>\n",
       "      <td>15.17%</td>\n",
       "      <td>AK</td>\n",
       "      <td>Alaska</td>\n",
       "      <td>2050</td>\n",
       "    </tr>\n",
       "    <tr>\n",
       "      <td>4</td>\n",
       "      <td>4</td>\n",
       "      <td>93003</td>\n",
       "      <td>130413</td>\n",
       "      <td>246588</td>\n",
       "      <td>0.377159</td>\n",
       "      <td>0.52887</td>\n",
       "      <td>37,410</td>\n",
       "      <td>15.17%</td>\n",
       "      <td>AK</td>\n",
       "      <td>Alaska</td>\n",
       "      <td>2060</td>\n",
       "    </tr>\n",
       "  </tbody>\n",
       "</table>\n",
       "</div>"
      ],
      "text/plain": [
       "   ID  votes_dem  votes_gop  total_votes   per_dem  per_gop    diff  \\\n",
       "0   0      93003     130413       246588  0.377159  0.52887  37,410   \n",
       "1   1      93003     130413       246588  0.377159  0.52887  37,410   \n",
       "2   2      93003     130413       246588  0.377159  0.52887  37,410   \n",
       "3   3      93003     130413       246588  0.377159  0.52887  37,410   \n",
       "4   4      93003     130413       246588  0.377159  0.52887  37,410   \n",
       "\n",
       "  per_point_diff state_abbr county_name  combined_fips  \n",
       "0         15.17%         AK      Alaska           2013  \n",
       "1         15.17%         AK      Alaska           2016  \n",
       "2         15.17%         AK      Alaska           2020  \n",
       "3         15.17%         AK      Alaska           2050  \n",
       "4         15.17%         AK      Alaska           2060  "
      ]
     },
     "execution_count": 19,
     "metadata": {},
     "output_type": "execute_result"
    }
   ],
   "source": [
    "ElectionResults.head()"
   ]
  },
  {
   "cell_type": "code",
   "execution_count": null,
   "metadata": {},
   "outputs": [],
   "source": []
  },
  {
   "cell_type": "code",
   "execution_count": 31,
   "metadata": {},
   "outputs": [
    {
     "ename": "NameError",
     "evalue": "name 'data' is not defined",
     "output_type": "error",
     "traceback": [
      "\u001b[1;31m---------------------------------------------------------------------------\u001b[0m",
      "\u001b[1;31mNameError\u001b[0m                                 Traceback (most recent call last)",
      "\u001b[1;32m<ipython-input-31-6099100ce4f4>\u001b[0m in \u001b[0;36m<module>\u001b[1;34m\u001b[0m\n\u001b[1;32m----> 1\u001b[1;33m \u001b[0mdata\u001b[0m\u001b[1;33m.\u001b[0m\u001b[0mloc\u001b[0m\u001b[1;33m[\u001b[0m\u001b[1;34m'IN'\u001b[0m\u001b[1;33m]\u001b[0m\u001b[1;33m\u001b[0m\u001b[1;33m\u001b[0m\u001b[0m\n\u001b[0m",
      "\u001b[1;31mNameError\u001b[0m: name 'data' is not defined"
     ]
    }
   ],
   "source": [
    "data.loc['IN']"
   ]
  }
 ],
 "metadata": {
  "kernelspec": {
   "display_name": "Python 3",
   "language": "python",
   "name": "python3"
  },
  "language_info": {
   "codemirror_mode": {
    "name": "ipython",
    "version": 3
   },
   "file_extension": ".py",
   "mimetype": "text/x-python",
   "name": "python",
   "nbconvert_exporter": "python",
   "pygments_lexer": "ipython3",
   "version": "3.7.4"
  }
 },
 "nbformat": 4,
 "nbformat_minor": 4
}
